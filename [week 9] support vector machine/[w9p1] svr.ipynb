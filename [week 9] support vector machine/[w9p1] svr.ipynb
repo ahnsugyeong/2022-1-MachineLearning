{
 "cells": [
  {
   "cell_type": "code",
   "execution_count": 1,
   "id": "ea52977e",
   "metadata": {
    "_cell_guid": "b1076dfc-b9ad-4769-8c92-a6c4dae69d19",
    "_uuid": "8f2839f25d086af736a60e9eeb907d3b93b6e0e5",
    "execution": {
     "iopub.execute_input": "2022-05-01T04:15:26.685845Z",
     "iopub.status.busy": "2022-05-01T04:15:26.685172Z",
     "iopub.status.idle": "2022-05-01T04:15:26.701535Z",
     "shell.execute_reply": "2022-05-01T04:15:26.700037Z"
    },
    "papermill": {
     "duration": 0.033357,
     "end_time": "2022-05-01T04:15:26.705087",
     "exception": false,
     "start_time": "2022-05-01T04:15:26.671730",
     "status": "completed"
    },
    "tags": []
   },
   "outputs": [
    {
     "name": "stdout",
     "output_type": "stream",
     "text": [
      "/kaggle/input/2022-ml-w9p1/x_test.csv\n",
      "/kaggle/input/2022-ml-w9p1/y_train.csv\n",
      "/kaggle/input/2022-ml-w9p1/x_train.csv\n",
      "/kaggle/input/2022-ml-w9p1/submit.csv\n"
     ]
    }
   ],
   "source": [
    "# This Python 3 environment comes with many helpful analytics libraries installed\n",
    "# It is defined by the kaggle/python Docker image: https://github.com/kaggle/docker-python\n",
    "# For example, here's several helpful packages to load\n",
    "\n",
    "import numpy as np # linear algebra\n",
    "import pandas as pd # data processing, CSV file I/O (e.g. pd.read_csv)\n",
    "\n",
    "# Input data files are available in the read-only \"../input/\" directory\n",
    "# For example, running this (by clicking run or pressing Shift+Enter) will list all files under the input directory\n",
    "\n",
    "import os\n",
    "for dirname, _, filenames in os.walk('/kaggle/input'):\n",
    "    for filename in filenames:\n",
    "        print(os.path.join(dirname, filename))\n",
    "\n",
    "# You can write up to 20GB to the current directory (/kaggle/working/) that gets preserved as output when you create a version using \"Save & Run All\" \n",
    "# You can also write temporary files to /kaggle/temp/, but they won't be saved outside of the current session"
   ]
  },
  {
   "cell_type": "code",
   "execution_count": 2,
   "id": "2361a813",
   "metadata": {
    "execution": {
     "iopub.execute_input": "2022-05-01T04:15:26.730845Z",
     "iopub.status.busy": "2022-05-01T04:15:26.730543Z",
     "iopub.status.idle": "2022-05-01T04:15:26.735502Z",
     "shell.execute_reply": "2022-05-01T04:15:26.734830Z"
    },
    "papermill": {
     "duration": 0.01948,
     "end_time": "2022-05-01T04:15:26.737232",
     "exception": false,
     "start_time": "2022-05-01T04:15:26.717752",
     "status": "completed"
    },
    "tags": []
   },
   "outputs": [],
   "source": [
    "import random\n",
    "import os\n",
    "seed = 42\n",
    "random.seed(seed)\n",
    "np.random.seed(seed)\n",
    "os.environ[\"PYTHONHASHSEED\"] = str(seed)"
   ]
  },
  {
   "cell_type": "code",
   "execution_count": 3,
   "id": "29f0adbd",
   "metadata": {
    "execution": {
     "iopub.execute_input": "2022-05-01T04:15:26.761411Z",
     "iopub.status.busy": "2022-05-01T04:15:26.760562Z",
     "iopub.status.idle": "2022-05-01T04:15:27.660359Z",
     "shell.execute_reply": "2022-05-01T04:15:27.659392Z"
    },
    "papermill": {
     "duration": 0.914395,
     "end_time": "2022-05-01T04:15:27.663110",
     "exception": false,
     "start_time": "2022-05-01T04:15:26.748715",
     "status": "completed"
    },
    "tags": []
   },
   "outputs": [],
   "source": [
    "submit = pd.DataFrame(pd.read_csv('../input/2022-ml-w9p1/submit.csv',engine='python',encoding='CP949'))\n",
    "x_test = pd.DataFrame(pd.read_csv('../input/2022-ml-w9p1/x_test.csv',engine='python',encoding='CP949'))\n",
    "x_train = pd.DataFrame(pd.read_csv('../input/2022-ml-w9p1/x_train.csv',engine='python',encoding='CP949'))\n",
    "y_train = pd.DataFrame(pd.read_csv('../input/2022-ml-w9p1/y_train.csv',engine='python',encoding='CP949'))"
   ]
  },
  {
   "cell_type": "code",
   "execution_count": 4,
   "id": "7dc301fe",
   "metadata": {
    "execution": {
     "iopub.execute_input": "2022-05-01T04:15:27.688005Z",
     "iopub.status.busy": "2022-05-01T04:15:27.687727Z",
     "iopub.status.idle": "2022-05-01T04:15:27.706600Z",
     "shell.execute_reply": "2022-05-01T04:15:27.705497Z"
    },
    "papermill": {
     "duration": 0.034131,
     "end_time": "2022-05-01T04:15:27.709200",
     "exception": false,
     "start_time": "2022-05-01T04:15:27.675069",
     "status": "completed"
    },
    "tags": []
   },
   "outputs": [
    {
     "data": {
      "text/html": [
       "<div>\n",
       "<style scoped>\n",
       "    .dataframe tbody tr th:only-of-type {\n",
       "        vertical-align: middle;\n",
       "    }\n",
       "\n",
       "    .dataframe tbody tr th {\n",
       "        vertical-align: top;\n",
       "    }\n",
       "\n",
       "    .dataframe thead th {\n",
       "        text-align: right;\n",
       "    }\n",
       "</style>\n",
       "<table border=\"1\" class=\"dataframe\">\n",
       "  <thead>\n",
       "    <tr style=\"text-align: right;\">\n",
       "      <th></th>\n",
       "      <th>교통량</th>\n",
       "    </tr>\n",
       "  </thead>\n",
       "  <tbody>\n",
       "    <tr>\n",
       "      <th>0</th>\n",
       "      <td>0.000</td>\n",
       "    </tr>\n",
       "    <tr>\n",
       "      <th>1</th>\n",
       "      <td>1532.989</td>\n",
       "    </tr>\n",
       "    <tr>\n",
       "      <th>2</th>\n",
       "      <td>710.107</td>\n",
       "    </tr>\n",
       "    <tr>\n",
       "      <th>3</th>\n",
       "      <td>374.200</td>\n",
       "    </tr>\n",
       "    <tr>\n",
       "      <th>4</th>\n",
       "      <td>535.882</td>\n",
       "    </tr>\n",
       "  </tbody>\n",
       "</table>\n",
       "</div>"
      ],
      "text/plain": [
       "        교통량\n",
       "0     0.000\n",
       "1  1532.989\n",
       "2   710.107\n",
       "3   374.200\n",
       "4   535.882"
      ]
     },
     "execution_count": 4,
     "metadata": {},
     "output_type": "execute_result"
    }
   ],
   "source": [
    "x_train.head()\n",
    "y_train.head()"
   ]
  },
  {
   "cell_type": "code",
   "execution_count": 5,
   "id": "acd725b8",
   "metadata": {
    "execution": {
     "iopub.execute_input": "2022-05-01T04:15:27.735457Z",
     "iopub.status.busy": "2022-05-01T04:15:27.735133Z",
     "iopub.status.idle": "2022-05-01T04:15:27.762281Z",
     "shell.execute_reply": "2022-05-01T04:15:27.761185Z"
    },
    "papermill": {
     "duration": 0.04324,
     "end_time": "2022-05-01T04:15:27.764709",
     "exception": false,
     "start_time": "2022-05-01T04:15:27.721469",
     "status": "completed"
    },
    "tags": []
   },
   "outputs": [
    {
     "name": "stdout",
     "output_type": "stream",
     "text": [
      "<class 'pandas.core.frame.DataFrame'>\n",
      "RangeIndex: 21486 entries, 0 to 21485\n",
      "Data columns (total 14 columns):\n",
      " #   Column    Non-Null Count  Dtype  \n",
      "---  ------    --------------  -----  \n",
      " 0   시도명       21486 non-null  int64  \n",
      " 1   읍면동명      21486 non-null  int64  \n",
      " 2   거주인구      21486 non-null  float64\n",
      " 3   근무인구      21486 non-null  float64\n",
      " 4   방문인구      21486 non-null  float64\n",
      " 5   총 유동인구    21486 non-null  float64\n",
      " 6   평균 속도     21486 non-null  float64\n",
      " 7   평균 소요 시간  21486 non-null  float64\n",
      " 8   평균 기온     21486 non-null  float64\n",
      " 9   일강수량      21486 non-null  float64\n",
      " 10  평균 풍속     21486 non-null  float64\n",
      " 11  월         21486 non-null  int64  \n",
      " 12  일         21486 non-null  int64  \n",
      " 13  년         21486 non-null  int64  \n",
      "dtypes: float64(9), int64(5)\n",
      "memory usage: 2.3 MB\n"
     ]
    }
   ],
   "source": [
    "#y_train.info()\n",
    "\n",
    "x_train.info()"
   ]
  },
  {
   "cell_type": "code",
   "execution_count": 6,
   "id": "f0c98fff",
   "metadata": {
    "execution": {
     "iopub.execute_input": "2022-05-01T04:15:27.790171Z",
     "iopub.status.busy": "2022-05-01T04:15:27.789857Z",
     "iopub.status.idle": "2022-05-01T04:15:28.953159Z",
     "shell.execute_reply": "2022-05-01T04:15:28.952268Z"
    },
    "papermill": {
     "duration": 1.179128,
     "end_time": "2022-05-01T04:15:28.955589",
     "exception": false,
     "start_time": "2022-05-01T04:15:27.776461",
     "status": "completed"
    },
    "tags": []
   },
   "outputs": [],
   "source": [
    "from sklearn.preprocessing import RobustScaler\n",
    "scaler = RobustScaler()\n",
    "x_train = scaler.fit_transform(x_train)\n",
    "x_test = scaler.transform(x_test)"
   ]
  },
  {
   "cell_type": "code",
   "execution_count": 7,
   "id": "4d7bf714",
   "metadata": {
    "execution": {
     "iopub.execute_input": "2022-05-01T04:15:28.980641Z",
     "iopub.status.busy": "2022-05-01T04:15:28.980349Z",
     "iopub.status.idle": "2022-05-01T04:43:35.534729Z",
     "shell.execute_reply": "2022-05-01T04:43:35.533764Z"
    },
    "papermill": {
     "duration": 1686.581677,
     "end_time": "2022-05-01T04:43:35.548906",
     "exception": false,
     "start_time": "2022-05-01T04:15:28.967229",
     "status": "completed"
    },
    "tags": []
   },
   "outputs": [
    {
     "name": "stdout",
     "output_type": "stream",
     "text": [
      "0.9756393007053069\n"
     ]
    }
   ],
   "source": [
    "from sklearn.svm import SVR\n",
    "svr = SVR(C=1000, gamma = 0.5, epsilon = .1)\n",
    "svr.fit(x_train, y_train.values.ravel())\n",
    "print(svr.score(x_train, y_train))"
   ]
  },
  {
   "cell_type": "code",
   "execution_count": 8,
   "id": "cb76a5d7",
   "metadata": {
    "execution": {
     "iopub.execute_input": "2022-05-01T04:43:35.574271Z",
     "iopub.status.busy": "2022-05-01T04:43:35.574001Z",
     "iopub.status.idle": "2022-05-01T04:43:50.314878Z",
     "shell.execute_reply": "2022-05-01T04:43:50.314130Z"
    },
    "papermill": {
     "duration": 14.756753,
     "end_time": "2022-05-01T04:43:50.317340",
     "exception": false,
     "start_time": "2022-05-01T04:43:35.560587",
     "status": "completed"
    },
    "tags": []
   },
   "outputs": [],
   "source": [
    "pred = svr.predict(x_test)\n",
    "submit['predict'] = pred\n",
    "submit.to_csv('submission.csv', index = False)"
   ]
  },
  {
   "cell_type": "code",
   "execution_count": null,
   "id": "fd9d915a",
   "metadata": {
    "papermill": {
     "duration": 0.011475,
     "end_time": "2022-05-01T04:43:50.340861",
     "exception": false,
     "start_time": "2022-05-01T04:43:50.329386",
     "status": "completed"
    },
    "tags": []
   },
   "outputs": [],
   "source": []
  }
 ],
 "metadata": {
  "kernelspec": {
   "display_name": "Python 3",
   "language": "python",
   "name": "python3"
  },
  "language_info": {
   "codemirror_mode": {
    "name": "ipython",
    "version": 3
   },
   "file_extension": ".py",
   "mimetype": "text/x-python",
   "name": "python",
   "nbconvert_exporter": "python",
   "pygments_lexer": "ipython3",
   "version": "3.7.12"
  },
  "papermill": {
   "default_parameters": {},
   "duration": 1714.655637,
   "end_time": "2022-05-01T04:43:51.178048",
   "environment_variables": {},
   "exception": null,
   "input_path": "__notebook__.ipynb",
   "output_path": "__notebook__.ipynb",
   "parameters": {},
   "start_time": "2022-05-01T04:15:16.522411",
   "version": "2.3.4"
  }
 },
 "nbformat": 4,
 "nbformat_minor": 5
}
