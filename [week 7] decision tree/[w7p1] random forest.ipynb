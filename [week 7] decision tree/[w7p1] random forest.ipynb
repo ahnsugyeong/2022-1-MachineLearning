{
 "cells": [
  {
   "cell_type": "code",
   "execution_count": 1,
   "id": "501f81ae",
   "metadata": {
    "_cell_guid": "b1076dfc-b9ad-4769-8c92-a6c4dae69d19",
    "_uuid": "8f2839f25d086af736a60e9eeb907d3b93b6e0e5",
    "execution": {
     "iopub.execute_input": "2022-04-17T20:21:11.425372Z",
     "iopub.status.busy": "2022-04-17T20:21:11.424668Z",
     "iopub.status.idle": "2022-04-17T20:21:11.431588Z",
     "shell.execute_reply": "2022-04-17T20:21:11.432193Z",
     "shell.execute_reply.started": "2022-04-17T20:20:22.561642Z"
    },
    "papermill": {
     "duration": 0.039613,
     "end_time": "2022-04-17T20:21:11.432530",
     "exception": false,
     "start_time": "2022-04-17T20:21:11.392917",
     "status": "completed"
    },
    "tags": []
   },
   "outputs": [
    {
     "name": "stdout",
     "output_type": "stream",
     "text": [
      "/kaggle/input/2022-ml-w7p2/submit.csv\n",
      "/kaggle/input/2022-ml-w7p2/train.csv\n",
      "/kaggle/input/2022-ml-w7p2/test.csv\n"
     ]
    }
   ],
   "source": [
    "# This Python 3 environment comes with many helpful analytics libraries installed\n",
    "# It is defined by the kaggle/python Docker image: https://github.com/kaggle/docker-python\n",
    "# For example, here's several helpful packages to load\n",
    "\n",
    "import numpy as np # linear algebra\n",
    "import pandas as pd # data processing, CSV file I/O (e.g. pd.read_csv)\n",
    "\n",
    "# Input data files are available in the read-only \"../input/\" directory\n",
    "# For example, running this (by clicking run or pressing Shift+Enter) will list all files under the input directory\n",
    "\n",
    "import os\n",
    "for dirname, _, filenames in os.walk('/kaggle/input'):\n",
    "    for filename in filenames:\n",
    "        print(os.path.join(dirname, filename))\n",
    "\n",
    "# You can write up to 20GB to the current directory (/kaggle/working/) that gets preserved as output when you create a version using \"Save & Run All\" \n",
    "# You can also write temporary files to /kaggle/temp/, but they won't be saved outside of the current session"
   ]
  },
  {
   "cell_type": "code",
   "execution_count": 2,
   "id": "14da5ab5",
   "metadata": {
    "execution": {
     "iopub.execute_input": "2022-04-17T20:21:11.466728Z",
     "iopub.status.busy": "2022-04-17T20:21:11.464062Z",
     "iopub.status.idle": "2022-04-17T20:21:11.468562Z",
     "shell.execute_reply": "2022-04-17T20:21:11.469061Z",
     "shell.execute_reply.started": "2022-04-17T20:20:22.597931Z"
    },
    "papermill": {
     "duration": 0.022103,
     "end_time": "2022-04-17T20:21:11.469236",
     "exception": false,
     "start_time": "2022-04-17T20:21:11.447133",
     "status": "completed"
    },
    "tags": []
   },
   "outputs": [],
   "source": [
    "import random\n",
    "import os\n",
    "seed = 42\n",
    "random.seed(seed)\n",
    "np.random.seed(seed)\n",
    "os.environ[\"PYTHONHASHSEED\"] = str(seed)"
   ]
  },
  {
   "cell_type": "code",
   "execution_count": 3,
   "id": "cc4e5acb",
   "metadata": {
    "execution": {
     "iopub.execute_input": "2022-04-17T20:21:11.496666Z",
     "iopub.status.busy": "2022-04-17T20:21:11.495732Z",
     "iopub.status.idle": "2022-04-17T20:21:11.539672Z",
     "shell.execute_reply": "2022-04-17T20:21:11.540208Z",
     "shell.execute_reply.started": "2022-04-17T20:20:22.604490Z"
    },
    "papermill": {
     "duration": 0.059144,
     "end_time": "2022-04-17T20:21:11.540398",
     "exception": false,
     "start_time": "2022-04-17T20:21:11.481254",
     "status": "completed"
    },
    "tags": []
   },
   "outputs": [],
   "source": [
    "sample = pd.read_csv('../input/2022-ml-w7p2/submit.csv')\n",
    "test = pd.read_csv('../input/2022-ml-w7p2/test.csv')\n",
    "train = pd.read_csv('../input/2022-ml-w7p2/train.csv')"
   ]
  },
  {
   "cell_type": "code",
   "execution_count": 4,
   "id": "e6771d78",
   "metadata": {
    "execution": {
     "iopub.execute_input": "2022-04-17T20:21:11.567853Z",
     "iopub.status.busy": "2022-04-17T20:21:11.566912Z",
     "iopub.status.idle": "2022-04-17T20:21:11.580876Z",
     "shell.execute_reply": "2022-04-17T20:21:11.581380Z",
     "shell.execute_reply.started": "2022-04-17T20:20:22.662528Z"
    },
    "papermill": {
     "duration": 0.029147,
     "end_time": "2022-04-17T20:21:11.581650",
     "exception": false,
     "start_time": "2022-04-17T20:21:11.552503",
     "status": "completed"
    },
    "tags": []
   },
   "outputs": [],
   "source": [
    "trainX = train.drop(['TARGET'], axis = 1)\n",
    "trainY = train['TARGET']"
   ]
  },
  {
   "cell_type": "code",
   "execution_count": 5,
   "id": "d394fccd",
   "metadata": {
    "execution": {
     "iopub.execute_input": "2022-04-17T20:21:11.608907Z",
     "iopub.status.busy": "2022-04-17T20:21:11.607953Z",
     "iopub.status.idle": "2022-04-17T20:21:11.615400Z",
     "shell.execute_reply": "2022-04-17T20:21:11.615911Z",
     "shell.execute_reply.started": "2022-04-17T20:20:22.683576Z"
    },
    "papermill": {
     "duration": 0.022549,
     "end_time": "2022-04-17T20:21:11.616067",
     "exception": false,
     "start_time": "2022-04-17T20:21:11.593518",
     "status": "completed"
    },
    "tags": []
   },
   "outputs": [
    {
     "data": {
      "text/plain": [
       "9000"
      ]
     },
     "execution_count": 5,
     "metadata": {},
     "output_type": "execute_result"
    }
   ],
   "source": [
    "len(trainX)"
   ]
  },
  {
   "cell_type": "code",
   "execution_count": 6,
   "id": "18960cc2",
   "metadata": {
    "execution": {
     "iopub.execute_input": "2022-04-17T20:21:11.643481Z",
     "iopub.status.busy": "2022-04-17T20:21:11.642572Z",
     "iopub.status.idle": "2022-04-17T20:21:11.650360Z",
     "shell.execute_reply": "2022-04-17T20:21:11.650860Z",
     "shell.execute_reply.started": "2022-04-17T20:20:22.701064Z"
    },
    "papermill": {
     "duration": 0.022965,
     "end_time": "2022-04-17T20:21:11.651019",
     "exception": false,
     "start_time": "2022-04-17T20:21:11.628054",
     "status": "completed"
    },
    "tags": []
   },
   "outputs": [
    {
     "data": {
      "text/plain": [
       "array([ 0.        , 21.95726589, 18.20228641, ..., 23.83133559,\n",
       "       26.3680656 , 46.44142557])"
      ]
     },
     "execution_count": 6,
     "metadata": {},
     "output_type": "execute_result"
    }
   ],
   "source": [
    "trainY.unique()"
   ]
  },
  {
   "cell_type": "code",
   "execution_count": 7,
   "id": "1a9edbe8",
   "metadata": {
    "execution": {
     "iopub.execute_input": "2022-04-17T20:21:11.681691Z",
     "iopub.status.busy": "2022-04-17T20:21:11.680905Z",
     "iopub.status.idle": "2022-04-17T20:21:12.673276Z",
     "shell.execute_reply": "2022-04-17T20:21:12.672585Z",
     "shell.execute_reply.started": "2022-04-17T20:20:22.723168Z"
    },
    "papermill": {
     "duration": 1.010112,
     "end_time": "2022-04-17T20:21:12.673463",
     "exception": false,
     "start_time": "2022-04-17T20:21:11.663351",
     "status": "completed"
    },
    "tags": []
   },
   "outputs": [],
   "source": [
    "from sklearn.model_selection import train_test_split\n",
    "x_train, x_test, y_train, y_test = train_test_split(trainX, trainY, test_size=0.33, random_state=42)"
   ]
  },
  {
   "cell_type": "code",
   "execution_count": 8,
   "id": "5a960155",
   "metadata": {
    "execution": {
     "iopub.execute_input": "2022-04-17T20:21:12.702512Z",
     "iopub.status.busy": "2022-04-17T20:21:12.701610Z",
     "iopub.status.idle": "2022-04-17T20:21:12.708332Z",
     "shell.execute_reply": "2022-04-17T20:21:12.708806Z",
     "shell.execute_reply.started": "2022-04-17T20:20:24.022154Z"
    },
    "papermill": {
     "duration": 0.02297,
     "end_time": "2022-04-17T20:21:12.708961",
     "exception": false,
     "start_time": "2022-04-17T20:21:12.685991",
     "status": "completed"
    },
    "tags": []
   },
   "outputs": [
    {
     "data": {
      "text/plain": [
       "7940    54.137133\n",
       "1162    62.299239\n",
       "582     27.873126\n",
       "4081    11.541513\n",
       "8412    51.890462\n",
       "Name: TARGET, dtype: float64"
      ]
     },
     "execution_count": 8,
     "metadata": {},
     "output_type": "execute_result"
    }
   ],
   "source": [
    "y_test.head()"
   ]
  },
  {
   "cell_type": "code",
   "execution_count": 9,
   "id": "ddcd6686",
   "metadata": {
    "execution": {
     "iopub.execute_input": "2022-04-17T20:21:12.739578Z",
     "iopub.status.busy": "2022-04-17T20:21:12.738514Z",
     "iopub.status.idle": "2022-04-17T20:21:20.241391Z",
     "shell.execute_reply": "2022-04-17T20:21:20.241899Z",
     "shell.execute_reply.started": "2022-04-17T20:20:24.032372Z"
    },
    "papermill": {
     "duration": 7.519697,
     "end_time": "2022-04-17T20:21:20.242101",
     "exception": false,
     "start_time": "2022-04-17T20:21:12.722404",
     "status": "completed"
    },
    "tags": []
   },
   "outputs": [],
   "source": [
    "from sklearn.ensemble import RandomForestRegressor\n",
    "regressor = RandomForestRegressor(random_state=0, n_estimators = 300)\n",
    "regressor.fit(trainX, trainY)\n",
    "y_pred = regressor.predict(trainX)\n",
    "\n",
    "# regressor.fit(x_train, y_train)\n",
    "# y_pred_1 = regressor.predict(x_train)\n",
    "# y_pred_2 = regressor.predict(x_test)\n",
    "\n",
    "from sklearn.metrics import r2_score\n",
    "\n",
    "# print(r2_score(y_pred_1, y_train))\n",
    "# print(r2_score(y_pred_2, y_test))"
   ]
  },
  {
   "cell_type": "code",
   "execution_count": 10,
   "id": "f1bc095f",
   "metadata": {
    "execution": {
     "iopub.execute_input": "2022-04-17T20:21:20.276378Z",
     "iopub.status.busy": "2022-04-17T20:21:20.275392Z",
     "iopub.status.idle": "2022-04-17T20:21:20.369031Z",
     "shell.execute_reply": "2022-04-17T20:21:20.368429Z",
     "shell.execute_reply.started": "2022-04-17T20:20:31.933775Z"
    },
    "papermill": {
     "duration": 0.113952,
     "end_time": "2022-04-17T20:21:20.369206",
     "exception": false,
     "start_time": "2022-04-17T20:21:20.255254",
     "status": "completed"
    },
    "tags": []
   },
   "outputs": [],
   "source": [
    "predict = regressor.predict(test)\n",
    "sample['TARGET'] = predict\n",
    "sample.to_csv('submission.csv', index = False)"
   ]
  }
 ],
 "metadata": {
  "kernelspec": {
   "display_name": "Python 3",
   "language": "python",
   "name": "python3"
  },
  "language_info": {
   "codemirror_mode": {
    "name": "ipython",
    "version": 3
   },
   "file_extension": ".py",
   "mimetype": "text/x-python",
   "name": "python",
   "nbconvert_exporter": "python",
   "pygments_lexer": "ipython3",
   "version": "3.7.12"
  },
  "papermill": {
   "default_parameters": {},
   "duration": 19.290509,
   "end_time": "2022-04-17T20:21:21.091627",
   "environment_variables": {},
   "exception": null,
   "input_path": "__notebook__.ipynb",
   "output_path": "__notebook__.ipynb",
   "parameters": {},
   "start_time": "2022-04-17T20:21:01.801118",
   "version": "2.3.3"
  }
 },
 "nbformat": 4,
 "nbformat_minor": 5
}
