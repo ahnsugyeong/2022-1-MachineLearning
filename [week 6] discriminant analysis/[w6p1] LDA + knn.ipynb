{
 "cells": [
  {
   "cell_type": "code",
   "execution_count": 1,
   "id": "d80144cb",
   "metadata": {
    "_cell_guid": "b1076dfc-b9ad-4769-8c92-a6c4dae69d19",
    "_uuid": "8f2839f25d086af736a60e9eeb907d3b93b6e0e5",
    "execution": {
     "iopub.execute_input": "2022-04-12T07:17:44.223883Z",
     "iopub.status.busy": "2022-04-12T07:17:44.222680Z",
     "iopub.status.idle": "2022-04-12T07:17:44.234878Z",
     "shell.execute_reply": "2022-04-12T07:17:44.235566Z",
     "shell.execute_reply.started": "2022-04-12T07:14:47.935688Z"
    },
    "papermill": {
     "duration": 0.030461,
     "end_time": "2022-04-12T07:17:44.235942",
     "exception": false,
     "start_time": "2022-04-12T07:17:44.205481",
     "status": "completed"
    },
    "tags": []
   },
   "outputs": [
    {
     "name": "stdout",
     "output_type": "stream",
     "text": [
      "/kaggle/input/2022-ml-w6p1/submit.csv\n",
      "/kaggle/input/2022-ml-w6p1/train.csv\n",
      "/kaggle/input/2022-ml-w6p1/test.csv\n",
      "/kaggle/input/2022-ml-w6p1/train_label.csv\n"
     ]
    }
   ],
   "source": [
    "# This Python 3 environment comes with many helpful analytics libraries installed\n",
    "# It is defined by the kaggle/python Docker image: https://github.com/kaggle/docker-python\n",
    "# For example, here's several helpful packages to load\n",
    "\n",
    "import numpy as np # linear algebra\n",
    "import pandas as pd # data processing, CSV file I/O (e.g. pd.read_csv)\n",
    "\n",
    "# Input data files are available in the read-only \"../input/\" directory\n",
    "# For example, running this (by clicking run or pressing Shift+Enter) will list all files under the input directory\n",
    "\n",
    "import os\n",
    "for dirname, _, filenames in os.walk('/kaggle/input'):\n",
    "    for filename in filenames:\n",
    "        print(os.path.join(dirname, filename))\n",
    "\n",
    "# You can write up to 20GB to the current directory (/kaggle/working/) that gets preserved as output when you create a version using \"Save & Run All\" \n",
    "# You can also write temporary files to /kaggle/temp/, but they won't be saved outside of the current session"
   ]
  },
  {
   "cell_type": "code",
   "execution_count": 2,
   "id": "f3d4f569",
   "metadata": {
    "execution": {
     "iopub.execute_input": "2022-04-12T07:17:44.266818Z",
     "iopub.status.busy": "2022-04-12T07:17:44.266144Z",
     "iopub.status.idle": "2022-04-12T07:17:44.269940Z",
     "shell.execute_reply": "2022-04-12T07:17:44.270430Z",
     "shell.execute_reply.started": "2022-04-12T07:14:47.953784Z"
    },
    "papermill": {
     "duration": 0.020178,
     "end_time": "2022-04-12T07:17:44.270596",
     "exception": false,
     "start_time": "2022-04-12T07:17:44.250418",
     "status": "completed"
    },
    "tags": []
   },
   "outputs": [],
   "source": [
    "import random\n",
    "import os\n",
    "seed = 42\n",
    "random.seed(seed)\n",
    "np.random.seed(seed)\n",
    "os.environ[\"PYTHONHASHSEED\"] = str(seed)"
   ]
  },
  {
   "cell_type": "code",
   "execution_count": 3,
   "id": "6bf2f0fd",
   "metadata": {
    "execution": {
     "iopub.execute_input": "2022-04-12T07:17:44.302433Z",
     "iopub.status.busy": "2022-04-12T07:17:44.301715Z",
     "iopub.status.idle": "2022-04-12T07:17:49.159990Z",
     "shell.execute_reply": "2022-04-12T07:17:49.159404Z",
     "shell.execute_reply.started": "2022-04-12T07:14:47.959426Z"
    },
    "papermill": {
     "duration": 4.876937,
     "end_time": "2022-04-12T07:17:49.160177",
     "exception": false,
     "start_time": "2022-04-12T07:17:44.283240",
     "status": "completed"
    },
    "tags": []
   },
   "outputs": [],
   "source": [
    "sample = pd.read_csv('../input/2022-ml-w6p1/submit.csv')\n",
    "test = pd.read_csv('../input/2022-ml-w6p1/test.csv')\n",
    "trainX = pd.read_csv('../input/2022-ml-w6p1/train.csv')\n",
    "trainY = pd.read_csv('../input/2022-ml-w6p1/train_label.csv').drop(['id'], axis = 1)"
   ]
  },
  {
   "cell_type": "code",
   "execution_count": 4,
   "id": "f71cc944",
   "metadata": {
    "execution": {
     "iopub.execute_input": "2022-04-12T07:17:49.189318Z",
     "iopub.status.busy": "2022-04-12T07:17:49.188659Z",
     "iopub.status.idle": "2022-04-12T07:17:49.206058Z",
     "shell.execute_reply": "2022-04-12T07:17:49.206593Z",
     "shell.execute_reply.started": "2022-04-12T07:14:50.310073Z"
    },
    "papermill": {
     "duration": 0.033789,
     "end_time": "2022-04-12T07:17:49.206773",
     "exception": false,
     "start_time": "2022-04-12T07:17:49.172984",
     "status": "completed"
    },
    "tags": []
   },
   "outputs": [
    {
     "data": {
      "text/html": [
       "<div>\n",
       "<style scoped>\n",
       "    .dataframe tbody tr th:only-of-type {\n",
       "        vertical-align: middle;\n",
       "    }\n",
       "\n",
       "    .dataframe tbody tr th {\n",
       "        vertical-align: top;\n",
       "    }\n",
       "\n",
       "    .dataframe thead th {\n",
       "        text-align: right;\n",
       "    }\n",
       "</style>\n",
       "<table border=\"1\" class=\"dataframe\">\n",
       "  <thead>\n",
       "    <tr style=\"text-align: right;\">\n",
       "      <th></th>\n",
       "      <th>id</th>\n",
       "      <th>label</th>\n",
       "    </tr>\n",
       "  </thead>\n",
       "  <tbody>\n",
       "    <tr>\n",
       "      <th>0</th>\n",
       "      <td>0</td>\n",
       "      <td>0</td>\n",
       "    </tr>\n",
       "    <tr>\n",
       "      <th>1</th>\n",
       "      <td>1</td>\n",
       "      <td>0</td>\n",
       "    </tr>\n",
       "    <tr>\n",
       "      <th>2</th>\n",
       "      <td>2</td>\n",
       "      <td>0</td>\n",
       "    </tr>\n",
       "    <tr>\n",
       "      <th>3</th>\n",
       "      <td>3</td>\n",
       "      <td>0</td>\n",
       "    </tr>\n",
       "    <tr>\n",
       "      <th>4</th>\n",
       "      <td>4</td>\n",
       "      <td>0</td>\n",
       "    </tr>\n",
       "  </tbody>\n",
       "</table>\n",
       "</div>"
      ],
      "text/plain": [
       "   id  label\n",
       "0   0      0\n",
       "1   1      0\n",
       "2   2      0\n",
       "3   3      0\n",
       "4   4      0"
      ]
     },
     "execution_count": 4,
     "metadata": {},
     "output_type": "execute_result"
    }
   ],
   "source": [
    "test.head()\n",
    "trainX.head()\n",
    "trainY.head()\n",
    "sample.head()"
   ]
  },
  {
   "cell_type": "code",
   "execution_count": 5,
   "id": "941cc2fa",
   "metadata": {
    "execution": {
     "iopub.execute_input": "2022-04-12T07:17:49.237653Z",
     "iopub.status.busy": "2022-04-12T07:17:49.236993Z",
     "iopub.status.idle": "2022-04-12T07:17:49.245918Z",
     "shell.execute_reply": "2022-04-12T07:17:49.245408Z",
     "shell.execute_reply.started": "2022-04-12T07:14:50.319753Z"
    },
    "papermill": {
     "duration": 0.025903,
     "end_time": "2022-04-12T07:17:49.246060",
     "exception": false,
     "start_time": "2022-04-12T07:17:49.220157",
     "status": "completed"
    },
    "tags": []
   },
   "outputs": [
    {
     "data": {
      "text/plain": [
       "198"
      ]
     },
     "execution_count": 5,
     "metadata": {},
     "output_type": "execute_result"
    }
   ],
   "source": [
    "sorted(trainY.label.unique())\n",
    "len(trainY.label.unique())"
   ]
  },
  {
   "cell_type": "code",
   "execution_count": 6,
   "id": "2766e176",
   "metadata": {
    "execution": {
     "iopub.execute_input": "2022-04-12T07:17:49.276769Z",
     "iopub.status.busy": "2022-04-12T07:17:49.276105Z",
     "iopub.status.idle": "2022-04-12T07:17:49.279278Z",
     "shell.execute_reply": "2022-04-12T07:17:49.279840Z",
     "shell.execute_reply.started": "2022-04-12T07:14:50.356539Z"
    },
    "papermill": {
     "duration": 0.020311,
     "end_time": "2022-04-12T07:17:49.280004",
     "exception": false,
     "start_time": "2022-04-12T07:17:49.259693",
     "status": "completed"
    },
    "tags": []
   },
   "outputs": [],
   "source": [
    "# from sklearn.preprocessing import StandardScaler\n",
    "\n",
    "# scaler = StandardScaler()\n",
    "# scaler.fit(trainX)\n",
    "# trainX = scaler.transform(trainX)\n",
    "# test = scaler.transform(test)"
   ]
  },
  {
   "cell_type": "code",
   "execution_count": 7,
   "id": "aa87e386",
   "metadata": {
    "execution": {
     "iopub.execute_input": "2022-04-12T07:17:49.311605Z",
     "iopub.status.busy": "2022-04-12T07:17:49.310915Z",
     "iopub.status.idle": "2022-04-12T07:17:49.314267Z",
     "shell.execute_reply": "2022-04-12T07:17:49.314872Z",
     "shell.execute_reply.started": "2022-04-12T07:14:50.358657Z"
    },
    "papermill": {
     "duration": 0.021295,
     "end_time": "2022-04-12T07:17:49.315042",
     "exception": false,
     "start_time": "2022-04-12T07:17:49.293747",
     "status": "completed"
    },
    "tags": []
   },
   "outputs": [],
   "source": [
    "# flatten 시켜주기\n",
    "trainY = np.array(trainY).reshape(-1)"
   ]
  },
  {
   "cell_type": "code",
   "execution_count": 8,
   "id": "ecc1df35",
   "metadata": {
    "execution": {
     "iopub.execute_input": "2022-04-12T07:17:49.346302Z",
     "iopub.status.busy": "2022-04-12T07:17:49.345616Z",
     "iopub.status.idle": "2022-04-12T07:17:50.447305Z",
     "shell.execute_reply": "2022-04-12T07:17:50.446728Z",
     "shell.execute_reply.started": "2022-04-12T07:14:50.360880Z"
    },
    "papermill": {
     "duration": 1.118724,
     "end_time": "2022-04-12T07:17:50.447470",
     "exception": false,
     "start_time": "2022-04-12T07:17:49.328746",
     "status": "completed"
    },
    "tags": []
   },
   "outputs": [],
   "source": [
    "from sklearn.model_selection import train_test_split\n",
    "x_train, x_test, y_train, y_test = train_test_split(trainX, trainY, test_size=0.33, random_state=42)"
   ]
  },
  {
   "cell_type": "code",
   "execution_count": 9,
   "id": "fc0e91b1",
   "metadata": {
    "execution": {
     "iopub.execute_input": "2022-04-12T07:17:50.481224Z",
     "iopub.status.busy": "2022-04-12T07:17:50.480524Z",
     "iopub.status.idle": "2022-04-12T07:17:52.798873Z",
     "shell.execute_reply": "2022-04-12T07:17:52.799823Z",
     "shell.execute_reply.started": "2022-04-12T07:14:50.362686Z"
    },
    "papermill": {
     "duration": 2.338856,
     "end_time": "2022-04-12T07:17:52.800144",
     "exception": false,
     "start_time": "2022-04-12T07:17:50.461288",
     "status": "completed"
    },
    "tags": []
   },
   "outputs": [],
   "source": [
    "from sklearn.discriminant_analysis import LinearDiscriminantAnalysis\n",
    "\n",
    "cld = LinearDiscriminantAnalysis(store_covariance = True, n_components = 60)\n",
    "x_train_lda = cld.fit_transform(trainX, trainY)\n",
    "x_test_lda = cld.transform(test)"
   ]
  },
  {
   "cell_type": "code",
   "execution_count": 10,
   "id": "53e0b724",
   "metadata": {
    "execution": {
     "iopub.execute_input": "2022-04-12T07:17:52.859582Z",
     "iopub.status.busy": "2022-04-12T07:17:52.858452Z",
     "iopub.status.idle": "2022-04-12T07:18:00.073757Z",
     "shell.execute_reply": "2022-04-12T07:18:00.072975Z",
     "shell.execute_reply.started": "2022-04-12T07:14:50.364526Z"
    },
    "papermill": {
     "duration": 7.247919,
     "end_time": "2022-04-12T07:18:00.073906",
     "exception": false,
     "start_time": "2022-04-12T07:17:52.825987",
     "status": "completed"
    },
    "tags": []
   },
   "outputs": [],
   "source": [
    "from sklearn.neighbors import KNeighborsClassifier\n",
    "neigh = KNeighborsClassifier(n_neighbors=10, weights = 'distance')\n",
    "\n",
    "neigh.fit(x_train_lda, trainY)\n",
    "\n",
    "predict = neigh.predict(x_test_lda)"
   ]
  },
  {
   "cell_type": "code",
   "execution_count": 11,
   "id": "973c96d6",
   "metadata": {
    "execution": {
     "iopub.execute_input": "2022-04-12T07:18:00.106809Z",
     "iopub.status.busy": "2022-04-12T07:18:00.106136Z",
     "iopub.status.idle": "2022-04-12T07:18:00.135487Z",
     "shell.execute_reply": "2022-04-12T07:18:00.134759Z",
     "shell.execute_reply.started": "2022-04-12T07:14:50.366342Z"
    },
    "papermill": {
     "duration": 0.047751,
     "end_time": "2022-04-12T07:18:00.135646",
     "exception": false,
     "start_time": "2022-04-12T07:18:00.087895",
     "status": "completed"
    },
    "tags": []
   },
   "outputs": [],
   "source": [
    "#y_pred = cqd.predict(test)\n",
    "sample['label'] = predict\n",
    "sample.to_csv('submission.csv', index=False)"
   ]
  }
 ],
 "metadata": {
  "kernelspec": {
   "display_name": "Python 3",
   "language": "python",
   "name": "python3"
  },
  "language_info": {
   "codemirror_mode": {
    "name": "ipython",
    "version": 3
   },
   "file_extension": ".py",
   "mimetype": "text/x-python",
   "name": "python",
   "nbconvert_exporter": "python",
   "pygments_lexer": "ipython3",
   "version": "3.7.12"
  },
  "papermill": {
   "default_parameters": {},
   "duration": 26.322231,
   "end_time": "2022-04-12T07:18:00.859912",
   "environment_variables": {},
   "exception": null,
   "input_path": "__notebook__.ipynb",
   "output_path": "__notebook__.ipynb",
   "parameters": {},
   "start_time": "2022-04-12T07:17:34.537681",
   "version": "2.3.3"
  }
 },
 "nbformat": 4,
 "nbformat_minor": 5
}
