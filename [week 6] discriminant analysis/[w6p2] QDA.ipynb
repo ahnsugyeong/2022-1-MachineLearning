{
 "cells": [
  {
   "cell_type": "code",
   "execution_count": 1,
   "id": "fb48198c",
   "metadata": {
    "_cell_guid": "b1076dfc-b9ad-4769-8c92-a6c4dae69d19",
    "_uuid": "8f2839f25d086af736a60e9eeb907d3b93b6e0e5",
    "execution": {
     "iopub.execute_input": "2022-04-12T08:08:56.585829Z",
     "iopub.status.busy": "2022-04-12T08:08:56.584513Z",
     "iopub.status.idle": "2022-04-12T08:08:56.597862Z",
     "shell.execute_reply": "2022-04-12T08:08:56.598436Z",
     "shell.execute_reply.started": "2022-04-12T08:08:34.084417Z"
    },
    "papermill": {
     "duration": 0.031421,
     "end_time": "2022-04-12T08:08:56.598809",
     "exception": false,
     "start_time": "2022-04-12T08:08:56.567388",
     "status": "completed"
    },
    "tags": []
   },
   "outputs": [
    {
     "name": "stdout",
     "output_type": "stream",
     "text": [
      "/kaggle/input/2022-ml-w6p2/submit.csv\n",
      "/kaggle/input/2022-ml-w6p2/train.csv\n",
      "/kaggle/input/2022-ml-w6p2/test.csv\n"
     ]
    }
   ],
   "source": [
    "## This Python 3 environment comes with many helpful analytics libraries installed\n",
    "# It is defined by the kaggle/python Docker image: https://github.com/kaggle/docker-python\n",
    "# For example, here's several helpful packages to load\n",
    "\n",
    "import numpy as np # linear algebra\n",
    "import pandas as pd # data processing, CSV file I/O (e.g. pd.read_csv)\n",
    "\n",
    "# Input data files are available in the read-only \"../input/\" directory\n",
    "# For example, running this (by clicking run or pressing Shift+Enter) will list all files under the input directory\n",
    "\n",
    "import os\n",
    "for dirname, _, filenames in os.walk('/kaggle/input'):\n",
    "    for filename in filenames:\n",
    "        print(os.path.join(dirname, filename))\n",
    "\n",
    "# You can write up to 20GB to the current directory (/kaggle/working/) that gets preserved as output when you create a version using \"Save & Run All\" \n",
    "# You can also write temporary files to /kaggle/temp/, but they won't be saved outside of the current session"
   ]
  },
  {
   "cell_type": "code",
   "execution_count": 2,
   "id": "91cfa646",
   "metadata": {
    "execution": {
     "iopub.execute_input": "2022-04-12T08:08:56.629932Z",
     "iopub.status.busy": "2022-04-12T08:08:56.628891Z",
     "iopub.status.idle": "2022-04-12T08:08:56.658326Z",
     "shell.execute_reply": "2022-04-12T08:08:56.658969Z",
     "shell.execute_reply.started": "2022-04-12T08:08:34.095578Z"
    },
    "papermill": {
     "duration": 0.046605,
     "end_time": "2022-04-12T08:08:56.659210",
     "exception": false,
     "start_time": "2022-04-12T08:08:56.612605",
     "status": "completed"
    },
    "tags": []
   },
   "outputs": [],
   "source": [
    "sample = pd.read_csv('../input/2022-ml-w6p2/submit.csv')\n",
    "test = pd.read_csv('../input/2022-ml-w6p2/test.csv')\n",
    "train = pd.read_csv('../input/2022-ml-w6p2/train.csv')"
   ]
  },
  {
   "cell_type": "code",
   "execution_count": 3,
   "id": "c179706e",
   "metadata": {
    "execution": {
     "iopub.execute_input": "2022-04-12T08:08:56.692427Z",
     "iopub.status.busy": "2022-04-12T08:08:56.689305Z",
     "iopub.status.idle": "2022-04-12T08:08:56.723346Z",
     "shell.execute_reply": "2022-04-12T08:08:56.723902Z",
     "shell.execute_reply.started": "2022-04-12T08:08:34.180641Z"
    },
    "papermill": {
     "duration": 0.051599,
     "end_time": "2022-04-12T08:08:56.724099",
     "exception": false,
     "start_time": "2022-04-12T08:08:56.672500",
     "status": "completed"
    },
    "tags": []
   },
   "outputs": [
    {
     "name": "stdout",
     "output_type": "stream",
     "text": [
      "   ID  Diabetes\n",
      "0   0       NaN\n",
      "1   1       NaN\n",
      "2   2       NaN\n",
      "3   3       NaN\n",
      "4   4       NaN\n",
      "   Pregnancies  Glucose  BloodPressure  SkinThickness  Insulin   BMI  \\\n",
      "0            6       98             58             33      190  34.0   \n",
      "1            2      112             75             32        0  35.7   \n",
      "2            2      108             64              0        0  30.8   \n",
      "3            8      107             80              0        0  24.6   \n",
      "4            7      136             90              0        0  29.9   \n",
      "\n",
      "   DiabetesPedigreeFunction  Age  \n",
      "0                     0.430   43  \n",
      "1                     0.148   21  \n",
      "2                     0.158   21  \n",
      "3                     0.856   34  \n",
      "4                     0.210   50  \n",
      "   Pregnancies  Glucose  BloodPressure  SkinThickness  Insulin   BMI  \\\n",
      "0            1       95             60             18       58  23.9   \n",
      "1            5      105             72             29      325  36.9   \n",
      "2            0      135             68             42      250  42.3   \n",
      "3            4      131             68             21      166  33.1   \n",
      "4            1      103             30             38       83  43.3   \n",
      "\n",
      "   DiabetesPedigreeFunction  Age  Diabetes  \n",
      "0                     0.260   22         0  \n",
      "1                     0.159   28         0  \n",
      "2                     0.365   24         1  \n",
      "3                     0.160   28         0  \n",
      "4                     0.183   33         0  \n"
     ]
    },
    {
     "data": {
      "text/html": [
       "<div>\n",
       "<style scoped>\n",
       "    .dataframe tbody tr th:only-of-type {\n",
       "        vertical-align: middle;\n",
       "    }\n",
       "\n",
       "    .dataframe tbody tr th {\n",
       "        vertical-align: top;\n",
       "    }\n",
       "\n",
       "    .dataframe thead th {\n",
       "        text-align: right;\n",
       "    }\n",
       "</style>\n",
       "<table border=\"1\" class=\"dataframe\">\n",
       "  <thead>\n",
       "    <tr style=\"text-align: right;\">\n",
       "      <th></th>\n",
       "      <th>Pregnancies</th>\n",
       "      <th>Glucose</th>\n",
       "      <th>BloodPressure</th>\n",
       "      <th>SkinThickness</th>\n",
       "      <th>Insulin</th>\n",
       "      <th>BMI</th>\n",
       "      <th>DiabetesPedigreeFunction</th>\n",
       "      <th>Age</th>\n",
       "      <th>Diabetes</th>\n",
       "    </tr>\n",
       "  </thead>\n",
       "  <tbody>\n",
       "    <tr>\n",
       "      <th>0</th>\n",
       "      <td>1</td>\n",
       "      <td>95</td>\n",
       "      <td>60</td>\n",
       "      <td>18</td>\n",
       "      <td>58</td>\n",
       "      <td>23.9</td>\n",
       "      <td>0.260</td>\n",
       "      <td>22</td>\n",
       "      <td>0</td>\n",
       "    </tr>\n",
       "    <tr>\n",
       "      <th>1</th>\n",
       "      <td>5</td>\n",
       "      <td>105</td>\n",
       "      <td>72</td>\n",
       "      <td>29</td>\n",
       "      <td>325</td>\n",
       "      <td>36.9</td>\n",
       "      <td>0.159</td>\n",
       "      <td>28</td>\n",
       "      <td>0</td>\n",
       "    </tr>\n",
       "    <tr>\n",
       "      <th>2</th>\n",
       "      <td>0</td>\n",
       "      <td>135</td>\n",
       "      <td>68</td>\n",
       "      <td>42</td>\n",
       "      <td>250</td>\n",
       "      <td>42.3</td>\n",
       "      <td>0.365</td>\n",
       "      <td>24</td>\n",
       "      <td>1</td>\n",
       "    </tr>\n",
       "    <tr>\n",
       "      <th>3</th>\n",
       "      <td>4</td>\n",
       "      <td>131</td>\n",
       "      <td>68</td>\n",
       "      <td>21</td>\n",
       "      <td>166</td>\n",
       "      <td>33.1</td>\n",
       "      <td>0.160</td>\n",
       "      <td>28</td>\n",
       "      <td>0</td>\n",
       "    </tr>\n",
       "    <tr>\n",
       "      <th>4</th>\n",
       "      <td>1</td>\n",
       "      <td>103</td>\n",
       "      <td>30</td>\n",
       "      <td>38</td>\n",
       "      <td>83</td>\n",
       "      <td>43.3</td>\n",
       "      <td>0.183</td>\n",
       "      <td>33</td>\n",
       "      <td>0</td>\n",
       "    </tr>\n",
       "  </tbody>\n",
       "</table>\n",
       "</div>"
      ],
      "text/plain": [
       "   Pregnancies  Glucose  BloodPressure  SkinThickness  Insulin   BMI  \\\n",
       "0            1       95             60             18       58  23.9   \n",
       "1            5      105             72             29      325  36.9   \n",
       "2            0      135             68             42      250  42.3   \n",
       "3            4      131             68             21      166  33.1   \n",
       "4            1      103             30             38       83  43.3   \n",
       "\n",
       "   DiabetesPedigreeFunction  Age  Diabetes  \n",
       "0                     0.260   22         0  \n",
       "1                     0.159   28         0  \n",
       "2                     0.365   24         1  \n",
       "3                     0.160   28         0  \n",
       "4                     0.183   33         0  "
      ]
     },
     "execution_count": 3,
     "metadata": {},
     "output_type": "execute_result"
    }
   ],
   "source": [
    "print(sample.head())\n",
    "print(test.head())\n",
    "print(train.head())\n",
    "\n",
    "len(train)\n",
    "train.head()\n",
    "\n",
    "# train = train.loc[train.BloodPressure < 60]\n",
    "# train = train.loc[train.Pregnancies < 10]\n",
    "# train"
   ]
  },
  {
   "cell_type": "code",
   "execution_count": 4,
   "id": "980cd8bc",
   "metadata": {
    "execution": {
     "iopub.execute_input": "2022-04-12T08:08:56.761197Z",
     "iopub.status.busy": "2022-04-12T08:08:56.754654Z",
     "iopub.status.idle": "2022-04-12T08:08:56.766837Z",
     "shell.execute_reply": "2022-04-12T08:08:56.767420Z",
     "shell.execute_reply.started": "2022-04-12T08:08:34.233263Z"
    },
    "papermill": {
     "duration": 0.029522,
     "end_time": "2022-04-12T08:08:56.767641",
     "exception": false,
     "start_time": "2022-04-12T08:08:56.738119",
     "status": "completed"
    },
    "tags": []
   },
   "outputs": [],
   "source": [
    "trainX = train.drop(['Diabetes'], axis = 1)\n",
    "trainY = train['Diabetes']"
   ]
  },
  {
   "cell_type": "code",
   "execution_count": null,
   "id": "cc7be25f",
   "metadata": {
    "papermill": {
     "duration": 0.013589,
     "end_time": "2022-04-12T08:08:56.795302",
     "exception": false,
     "start_time": "2022-04-12T08:08:56.781713",
     "status": "completed"
    },
    "tags": []
   },
   "outputs": [],
   "source": []
  },
  {
   "cell_type": "code",
   "execution_count": 5,
   "id": "2b332c80",
   "metadata": {
    "execution": {
     "iopub.execute_input": "2022-04-12T08:08:56.829935Z",
     "iopub.status.busy": "2022-04-12T08:08:56.829080Z",
     "iopub.status.idle": "2022-04-12T08:08:57.917636Z",
     "shell.execute_reply": "2022-04-12T08:08:57.916900Z",
     "shell.execute_reply.started": "2022-04-12T08:08:34.284386Z"
    },
    "papermill": {
     "duration": 1.107919,
     "end_time": "2022-04-12T08:08:57.917838",
     "exception": false,
     "start_time": "2022-04-12T08:08:56.809919",
     "status": "completed"
    },
    "tags": []
   },
   "outputs": [],
   "source": [
    "from sklearn.preprocessing import RobustScaler\n",
    "scaler = RobustScaler()\n",
    "trainX = scaler.fit_transform(trainX)\n",
    "test = scaler.transform(test)"
   ]
  },
  {
   "cell_type": "code",
   "execution_count": 6,
   "id": "2964635e",
   "metadata": {
    "execution": {
     "iopub.execute_input": "2022-04-12T08:08:57.953233Z",
     "iopub.status.busy": "2022-04-12T08:08:57.952473Z",
     "iopub.status.idle": "2022-04-12T08:08:57.956386Z",
     "shell.execute_reply": "2022-04-12T08:08:57.956865Z",
     "shell.execute_reply.started": "2022-04-12T08:08:34.339050Z"
    },
    "papermill": {
     "duration": 0.024356,
     "end_time": "2022-04-12T08:08:57.957072",
     "exception": false,
     "start_time": "2022-04-12T08:08:57.932716",
     "status": "completed"
    },
    "tags": []
   },
   "outputs": [
    {
     "data": {
      "text/plain": [
       "2"
      ]
     },
     "execution_count": 6,
     "metadata": {},
     "output_type": "execute_result"
    }
   ],
   "source": [
    "#type(trainY)\n",
    "len(trainY.unique())"
   ]
  },
  {
   "cell_type": "code",
   "execution_count": 7,
   "id": "629dc54a",
   "metadata": {
    "execution": {
     "iopub.execute_input": "2022-04-12T08:08:57.994209Z",
     "iopub.status.busy": "2022-04-12T08:08:57.993342Z",
     "iopub.status.idle": "2022-04-12T08:08:58.151554Z",
     "shell.execute_reply": "2022-04-12T08:08:58.150925Z",
     "shell.execute_reply.started": "2022-04-12T08:08:34.425290Z"
    },
    "papermill": {
     "duration": 0.180192,
     "end_time": "2022-04-12T08:08:58.151738",
     "exception": false,
     "start_time": "2022-04-12T08:08:57.971546",
     "status": "completed"
    },
    "tags": []
   },
   "outputs": [],
   "source": [
    "from sklearn.discriminant_analysis import QuadraticDiscriminantAnalysis\n",
    "cqd = QuadraticDiscriminantAnalysis(store_covariance = True)\n",
    "\n",
    "\n",
    "from sklearn.model_selection import train_test_split\n",
    "x_train, x_test, y_train, y_test = train_test_split(trainX, trainY, test_size=0.15, random_state=42)\n",
    "\n",
    "\n",
    "cqd.fit(x_train, y_train) #QDA fit\n",
    "y_train_pred = cqd.predict(x_train)\n",
    "\n",
    "y_test_pred = cqd.predict(test)"
   ]
  },
  {
   "cell_type": "code",
   "execution_count": 8,
   "id": "4153abf3",
   "metadata": {
    "execution": {
     "iopub.execute_input": "2022-04-12T08:08:58.184986Z",
     "iopub.status.busy": "2022-04-12T08:08:58.184157Z",
     "iopub.status.idle": "2022-04-12T08:08:58.189298Z",
     "shell.execute_reply": "2022-04-12T08:08:58.189919Z",
     "shell.execute_reply.started": "2022-04-12T08:08:34.504745Z"
    },
    "papermill": {
     "duration": 0.023776,
     "end_time": "2022-04-12T08:08:58.190168",
     "exception": false,
     "start_time": "2022-04-12T08:08:58.166392",
     "status": "completed"
    },
    "tags": []
   },
   "outputs": [
    {
     "data": {
      "text/plain": [
       "(2, 8, 8)"
      ]
     },
     "execution_count": 8,
     "metadata": {},
     "output_type": "execute_result"
    }
   ],
   "source": [
    "np.array(cqd.covariance_).shape"
   ]
  },
  {
   "cell_type": "code",
   "execution_count": 9,
   "id": "a208d919",
   "metadata": {
    "execution": {
     "iopub.execute_input": "2022-04-12T08:08:58.226064Z",
     "iopub.status.busy": "2022-04-12T08:08:58.225282Z",
     "iopub.status.idle": "2022-04-12T08:08:58.228550Z",
     "shell.execute_reply": "2022-04-12T08:08:58.229098Z",
     "shell.execute_reply.started": "2022-04-12T08:08:34.540503Z"
    },
    "papermill": {
     "duration": 0.02304,
     "end_time": "2022-04-12T08:08:58.229303",
     "exception": false,
     "start_time": "2022-04-12T08:08:58.206263",
     "status": "completed"
    },
    "tags": []
   },
   "outputs": [],
   "source": [
    "# from sklearn.discriminant_analysis import LinearDiscriminantAnalysis\n",
    "\n",
    "# cld = LinearDiscriminantAnalysis(store_covariance = True, n_components = 1)\n",
    "# x_train_lda = cld.fit_transform(trainX, trainY)\n",
    "# x_test_lda = cld.transform(test)\n",
    "\n",
    "# from sklearn.neighbors import KNeighborsClassifier\n",
    "# neigh = KNeighborsClassifier(n_neighbors=3, weights = 'distance')\n",
    "\n",
    "# neigh.fit(x_train_lda, trainY)\n",
    "\n",
    "# predict = neigh.predict(x_test_lda)\n",
    "\n"
   ]
  },
  {
   "cell_type": "code",
   "execution_count": 10,
   "id": "338c4cbe",
   "metadata": {
    "execution": {
     "iopub.execute_input": "2022-04-12T08:08:58.263283Z",
     "iopub.status.busy": "2022-04-12T08:08:58.262558Z",
     "iopub.status.idle": "2022-04-12T08:08:58.269791Z",
     "shell.execute_reply": "2022-04-12T08:08:58.270390Z",
     "shell.execute_reply.started": "2022-04-12T08:08:34.594549Z"
    },
    "papermill": {
     "duration": 0.025708,
     "end_time": "2022-04-12T08:08:58.270654",
     "exception": false,
     "start_time": "2022-04-12T08:08:58.244946",
     "status": "completed"
    },
    "tags": []
   },
   "outputs": [],
   "source": [
    "sample['Diabetes'] = y_test_pred\n",
    "sample.to_csv('submission.csv', index=False)"
   ]
  }
 ],
 "metadata": {
  "kernelspec": {
   "display_name": "Python 3",
   "language": "python",
   "name": "python3"
  },
  "language_info": {
   "codemirror_mode": {
    "name": "ipython",
    "version": 3
   },
   "file_extension": ".py",
   "mimetype": "text/x-python",
   "name": "python",
   "nbconvert_exporter": "python",
   "pygments_lexer": "ipython3",
   "version": "3.7.12"
  },
  "papermill": {
   "default_parameters": {},
   "duration": 12.741888,
   "end_time": "2022-04-12T08:08:58.996903",
   "environment_variables": {},
   "exception": null,
   "input_path": "__notebook__.ipynb",
   "output_path": "__notebook__.ipynb",
   "parameters": {},
   "start_time": "2022-04-12T08:08:46.255015",
   "version": "2.3.3"
  }
 },
 "nbformat": 4,
 "nbformat_minor": 5
}
