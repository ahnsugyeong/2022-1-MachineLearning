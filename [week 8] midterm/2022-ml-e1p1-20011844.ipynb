{
 "cells": [
  {
   "cell_type": "code",
   "execution_count": 1,
   "id": "02303641",
   "metadata": {
    "_cell_guid": "b1076dfc-b9ad-4769-8c92-a6c4dae69d19",
    "_uuid": "8f2839f25d086af736a60e9eeb907d3b93b6e0e5",
    "execution": {
     "iopub.execute_input": "2022-05-04T03:42:56.198390Z",
     "iopub.status.busy": "2022-05-04T03:42:56.197346Z",
     "iopub.status.idle": "2022-05-04T03:42:56.211040Z",
     "shell.execute_reply": "2022-05-04T03:42:56.210235Z"
    },
    "papermill": {
     "duration": 0.03905,
     "end_time": "2022-05-04T03:42:56.213627",
     "exception": false,
     "start_time": "2022-05-04T03:42:56.174577",
     "status": "completed"
    },
    "tags": []
   },
   "outputs": [
    {
     "name": "stdout",
     "output_type": "stream",
     "text": [
      "/kaggle/input/2022-ml-midterm-p1/submit.csv\n",
      "/kaggle/input/2022-ml-midterm-p1/train.csv\n",
      "/kaggle/input/2022-ml-midterm-p1/test.csv\n"
     ]
    }
   ],
   "source": [
    "# This Python 3 environment comes with many helpful analytics libraries installed\n",
    "# It is defined by the kaggle/python Docker image: https://github.com/kaggle/docker-python\n",
    "# For example, here's several helpful packages to load\n",
    "\n",
    "import numpy as np # linear algebra\n",
    "import pandas as pd # data processing, CSV file I/O (e.g. pd.read_csv)\n",
    "\n",
    "# Input data files are available in the read-only \"../input/\" directory\n",
    "# For example, running this (by clicking run or pressing Shift+Enter) will list all files under the input directory\n",
    "\n",
    "import os\n",
    "for dirname, _, filenames in os.walk('/kaggle/input'):\n",
    "    for filename in filenames:\n",
    "        print(os.path.join(dirname, filename))\n",
    "\n",
    "# You can write up to 20GB to the current directory (/kaggle/working/) that gets preserved as output when you create a version using \"Save & Run All\" \n",
    "# You can also write temporary files to /kaggle/temp/, but they won't be saved outside of the current session"
   ]
  },
  {
   "cell_type": "code",
   "execution_count": 2,
   "id": "58368a18",
   "metadata": {
    "execution": {
     "iopub.execute_input": "2022-05-04T03:42:56.254709Z",
     "iopub.status.busy": "2022-05-04T03:42:56.254194Z",
     "iopub.status.idle": "2022-05-04T03:42:56.258506Z",
     "shell.execute_reply": "2022-05-04T03:42:56.257808Z"
    },
    "papermill": {
     "duration": 0.026228,
     "end_time": "2022-05-04T03:42:56.260365",
     "exception": false,
     "start_time": "2022-05-04T03:42:56.234137",
     "status": "completed"
    },
    "tags": []
   },
   "outputs": [],
   "source": [
    "import random\n",
    "import os\n",
    "seed = 42\n",
    "random.seed(seed)\n",
    "np.random.seed(seed)\n",
    "os.environ[\"PYTHONHASHSEED\"] = str(seed)"
   ]
  },
  {
   "cell_type": "code",
   "execution_count": 3,
   "id": "c3b7e376",
   "metadata": {
    "execution": {
     "iopub.execute_input": "2022-05-04T03:42:56.300992Z",
     "iopub.status.busy": "2022-05-04T03:42:56.300676Z",
     "iopub.status.idle": "2022-05-04T03:42:56.327584Z",
     "shell.execute_reply": "2022-05-04T03:42:56.326869Z"
    },
    "papermill": {
     "duration": 0.049161,
     "end_time": "2022-05-04T03:42:56.329709",
     "exception": false,
     "start_time": "2022-05-04T03:42:56.280548",
     "status": "completed"
    },
    "tags": []
   },
   "outputs": [],
   "source": [
    "sample = pd.read_csv('../input/2022-ml-midterm-p1/submit.csv')\n",
    "test = pd.read_csv('../input/2022-ml-midterm-p1/test.csv')\n",
    "train = pd.read_csv('../input/2022-ml-midterm-p1/train.csv')"
   ]
  },
  {
   "cell_type": "code",
   "execution_count": 4,
   "id": "58fee5d2",
   "metadata": {
    "execution": {
     "iopub.execute_input": "2022-05-04T03:42:56.369522Z",
     "iopub.status.busy": "2022-05-04T03:42:56.368973Z",
     "iopub.status.idle": "2022-05-04T03:42:56.395027Z",
     "shell.execute_reply": "2022-05-04T03:42:56.394298Z"
    },
    "papermill": {
     "duration": 0.048619,
     "end_time": "2022-05-04T03:42:56.397448",
     "exception": false,
     "start_time": "2022-05-04T03:42:56.348829",
     "status": "completed"
    },
    "tags": []
   },
   "outputs": [
    {
     "name": "stdout",
     "output_type": "stream",
     "text": [
      "<class 'pandas.core.frame.DataFrame'>\n",
      "RangeIndex: 242 entries, 0 to 241\n",
      "Data columns (total 15 columns):\n",
      " #   Column    Non-Null Count  Dtype  \n",
      "---  ------    --------------  -----  \n",
      " 0   index     242 non-null    int64  \n",
      " 1   age       242 non-null    int64  \n",
      " 2   sex       242 non-null    int64  \n",
      " 3   cp        242 non-null    int64  \n",
      " 4   trestbps  242 non-null    int64  \n",
      " 5   chol      242 non-null    int64  \n",
      " 6   fbs       242 non-null    int64  \n",
      " 7   restecg   242 non-null    int64  \n",
      " 8   thalach   242 non-null    int64  \n",
      " 9   exang     242 non-null    int64  \n",
      " 10  oldpeak   242 non-null    float64\n",
      " 11  slope     242 non-null    int64  \n",
      " 12  ca        242 non-null    int64  \n",
      " 13  thal      242 non-null    int64  \n",
      " 14  target    242 non-null    int64  \n",
      "dtypes: float64(1), int64(14)\n",
      "memory usage: 28.5 KB\n"
     ]
    }
   ],
   "source": [
    "train.info()"
   ]
  },
  {
   "cell_type": "code",
   "execution_count": 5,
   "id": "e852f050",
   "metadata": {
    "execution": {
     "iopub.execute_input": "2022-05-04T03:42:56.438280Z",
     "iopub.status.busy": "2022-05-04T03:42:56.437828Z",
     "iopub.status.idle": "2022-05-04T03:42:56.457694Z",
     "shell.execute_reply": "2022-05-04T03:42:56.456720Z"
    },
    "papermill": {
     "duration": 0.042378,
     "end_time": "2022-05-04T03:42:56.459899",
     "exception": false,
     "start_time": "2022-05-04T03:42:56.417521",
     "status": "completed"
    },
    "tags": []
   },
   "outputs": [
    {
     "data": {
      "text/html": [
       "<div>\n",
       "<style scoped>\n",
       "    .dataframe tbody tr th:only-of-type {\n",
       "        vertical-align: middle;\n",
       "    }\n",
       "\n",
       "    .dataframe tbody tr th {\n",
       "        vertical-align: top;\n",
       "    }\n",
       "\n",
       "    .dataframe thead th {\n",
       "        text-align: right;\n",
       "    }\n",
       "</style>\n",
       "<table border=\"1\" class=\"dataframe\">\n",
       "  <thead>\n",
       "    <tr style=\"text-align: right;\">\n",
       "      <th></th>\n",
       "      <th>index</th>\n",
       "      <th>age</th>\n",
       "      <th>sex</th>\n",
       "      <th>cp</th>\n",
       "      <th>trestbps</th>\n",
       "      <th>chol</th>\n",
       "      <th>fbs</th>\n",
       "      <th>restecg</th>\n",
       "      <th>thalach</th>\n",
       "      <th>exang</th>\n",
       "      <th>oldpeak</th>\n",
       "      <th>slope</th>\n",
       "      <th>ca</th>\n",
       "      <th>thal</th>\n",
       "    </tr>\n",
       "  </thead>\n",
       "  <tbody>\n",
       "    <tr>\n",
       "      <th>0</th>\n",
       "      <td>3</td>\n",
       "      <td>37</td>\n",
       "      <td>1</td>\n",
       "      <td>3</td>\n",
       "      <td>130</td>\n",
       "      <td>250</td>\n",
       "      <td>0</td>\n",
       "      <td>0</td>\n",
       "      <td>187</td>\n",
       "      <td>0</td>\n",
       "      <td>3.5</td>\n",
       "      <td>3</td>\n",
       "      <td>0</td>\n",
       "      <td>3</td>\n",
       "    </tr>\n",
       "    <tr>\n",
       "      <th>1</th>\n",
       "      <td>6</td>\n",
       "      <td>62</td>\n",
       "      <td>0</td>\n",
       "      <td>4</td>\n",
       "      <td>140</td>\n",
       "      <td>268</td>\n",
       "      <td>0</td>\n",
       "      <td>2</td>\n",
       "      <td>160</td>\n",
       "      <td>0</td>\n",
       "      <td>3.6</td>\n",
       "      <td>3</td>\n",
       "      <td>2</td>\n",
       "      <td>3</td>\n",
       "    </tr>\n",
       "    <tr>\n",
       "      <th>2</th>\n",
       "      <td>21</td>\n",
       "      <td>58</td>\n",
       "      <td>0</td>\n",
       "      <td>1</td>\n",
       "      <td>150</td>\n",
       "      <td>283</td>\n",
       "      <td>1</td>\n",
       "      <td>2</td>\n",
       "      <td>162</td>\n",
       "      <td>0</td>\n",
       "      <td>1.0</td>\n",
       "      <td>1</td>\n",
       "      <td>0</td>\n",
       "      <td>3</td>\n",
       "    </tr>\n",
       "    <tr>\n",
       "      <th>3</th>\n",
       "      <td>24</td>\n",
       "      <td>60</td>\n",
       "      <td>1</td>\n",
       "      <td>4</td>\n",
       "      <td>130</td>\n",
       "      <td>206</td>\n",
       "      <td>0</td>\n",
       "      <td>2</td>\n",
       "      <td>132</td>\n",
       "      <td>1</td>\n",
       "      <td>2.4</td>\n",
       "      <td>2</td>\n",
       "      <td>2</td>\n",
       "      <td>7</td>\n",
       "    </tr>\n",
       "    <tr>\n",
       "      <th>4</th>\n",
       "      <td>31</td>\n",
       "      <td>60</td>\n",
       "      <td>1</td>\n",
       "      <td>4</td>\n",
       "      <td>117</td>\n",
       "      <td>230</td>\n",
       "      <td>1</td>\n",
       "      <td>0</td>\n",
       "      <td>160</td>\n",
       "      <td>1</td>\n",
       "      <td>1.4</td>\n",
       "      <td>1</td>\n",
       "      <td>2</td>\n",
       "      <td>7</td>\n",
       "    </tr>\n",
       "  </tbody>\n",
       "</table>\n",
       "</div>"
      ],
      "text/plain": [
       "   index  age  sex  cp  trestbps  chol  fbs  restecg  thalach  exang  oldpeak  \\\n",
       "0      3   37    1   3       130   250    0        0      187      0      3.5   \n",
       "1      6   62    0   4       140   268    0        2      160      0      3.6   \n",
       "2     21   58    0   1       150   283    1        2      162      0      1.0   \n",
       "3     24   60    1   4       130   206    0        2      132      1      2.4   \n",
       "4     31   60    1   4       117   230    1        0      160      1      1.4   \n",
       "\n",
       "   slope  ca  thal  \n",
       "0      3   0     3  \n",
       "1      3   2     3  \n",
       "2      1   0     3  \n",
       "3      2   2     7  \n",
       "4      1   2     7  "
      ]
     },
     "execution_count": 5,
     "metadata": {},
     "output_type": "execute_result"
    }
   ],
   "source": [
    "test.head()"
   ]
  },
  {
   "cell_type": "code",
   "execution_count": 6,
   "id": "ec72260a",
   "metadata": {
    "execution": {
     "iopub.execute_input": "2022-05-04T03:42:56.501220Z",
     "iopub.status.busy": "2022-05-04T03:42:56.500939Z",
     "iopub.status.idle": "2022-05-04T03:42:56.515161Z",
     "shell.execute_reply": "2022-05-04T03:42:56.514317Z"
    },
    "papermill": {
     "duration": 0.037501,
     "end_time": "2022-05-04T03:42:56.517419",
     "exception": false,
     "start_time": "2022-05-04T03:42:56.479918",
     "status": "completed"
    },
    "tags": []
   },
   "outputs": [
    {
     "data": {
      "text/html": [
       "<div>\n",
       "<style scoped>\n",
       "    .dataframe tbody tr th:only-of-type {\n",
       "        vertical-align: middle;\n",
       "    }\n",
       "\n",
       "    .dataframe tbody tr th {\n",
       "        vertical-align: top;\n",
       "    }\n",
       "\n",
       "    .dataframe thead th {\n",
       "        text-align: right;\n",
       "    }\n",
       "</style>\n",
       "<table border=\"1\" class=\"dataframe\">\n",
       "  <thead>\n",
       "    <tr style=\"text-align: right;\">\n",
       "      <th></th>\n",
       "      <th>index</th>\n",
       "      <th>age</th>\n",
       "      <th>sex</th>\n",
       "      <th>cp</th>\n",
       "      <th>trestbps</th>\n",
       "      <th>chol</th>\n",
       "      <th>fbs</th>\n",
       "      <th>restecg</th>\n",
       "      <th>thalach</th>\n",
       "      <th>exang</th>\n",
       "      <th>oldpeak</th>\n",
       "      <th>slope</th>\n",
       "      <th>ca</th>\n",
       "      <th>thal</th>\n",
       "      <th>target</th>\n",
       "    </tr>\n",
       "  </thead>\n",
       "  <tbody>\n",
       "    <tr>\n",
       "      <th>0</th>\n",
       "      <td>0</td>\n",
       "      <td>63</td>\n",
       "      <td>1</td>\n",
       "      <td>1</td>\n",
       "      <td>145</td>\n",
       "      <td>233</td>\n",
       "      <td>1</td>\n",
       "      <td>2</td>\n",
       "      <td>150</td>\n",
       "      <td>0</td>\n",
       "      <td>2.3</td>\n",
       "      <td>3</td>\n",
       "      <td>0</td>\n",
       "      <td>6</td>\n",
       "      <td>0</td>\n",
       "    </tr>\n",
       "    <tr>\n",
       "      <th>1</th>\n",
       "      <td>1</td>\n",
       "      <td>67</td>\n",
       "      <td>1</td>\n",
       "      <td>4</td>\n",
       "      <td>160</td>\n",
       "      <td>286</td>\n",
       "      <td>0</td>\n",
       "      <td>2</td>\n",
       "      <td>108</td>\n",
       "      <td>1</td>\n",
       "      <td>1.5</td>\n",
       "      <td>2</td>\n",
       "      <td>3</td>\n",
       "      <td>3</td>\n",
       "      <td>2</td>\n",
       "    </tr>\n",
       "    <tr>\n",
       "      <th>2</th>\n",
       "      <td>2</td>\n",
       "      <td>67</td>\n",
       "      <td>1</td>\n",
       "      <td>4</td>\n",
       "      <td>120</td>\n",
       "      <td>229</td>\n",
       "      <td>0</td>\n",
       "      <td>2</td>\n",
       "      <td>129</td>\n",
       "      <td>1</td>\n",
       "      <td>2.6</td>\n",
       "      <td>2</td>\n",
       "      <td>2</td>\n",
       "      <td>7</td>\n",
       "      <td>1</td>\n",
       "    </tr>\n",
       "    <tr>\n",
       "      <th>3</th>\n",
       "      <td>4</td>\n",
       "      <td>41</td>\n",
       "      <td>0</td>\n",
       "      <td>2</td>\n",
       "      <td>130</td>\n",
       "      <td>204</td>\n",
       "      <td>0</td>\n",
       "      <td>2</td>\n",
       "      <td>172</td>\n",
       "      <td>0</td>\n",
       "      <td>1.4</td>\n",
       "      <td>1</td>\n",
       "      <td>0</td>\n",
       "      <td>3</td>\n",
       "      <td>0</td>\n",
       "    </tr>\n",
       "    <tr>\n",
       "      <th>4</th>\n",
       "      <td>5</td>\n",
       "      <td>56</td>\n",
       "      <td>1</td>\n",
       "      <td>2</td>\n",
       "      <td>120</td>\n",
       "      <td>236</td>\n",
       "      <td>0</td>\n",
       "      <td>0</td>\n",
       "      <td>178</td>\n",
       "      <td>0</td>\n",
       "      <td>0.8</td>\n",
       "      <td>1</td>\n",
       "      <td>0</td>\n",
       "      <td>3</td>\n",
       "      <td>0</td>\n",
       "    </tr>\n",
       "  </tbody>\n",
       "</table>\n",
       "</div>"
      ],
      "text/plain": [
       "   index  age  sex  cp  trestbps  chol  fbs  restecg  thalach  exang  oldpeak  \\\n",
       "0      0   63    1   1       145   233    1        2      150      0      2.3   \n",
       "1      1   67    1   4       160   286    0        2      108      1      1.5   \n",
       "2      2   67    1   4       120   229    0        2      129      1      2.6   \n",
       "3      4   41    0   2       130   204    0        2      172      0      1.4   \n",
       "4      5   56    1   2       120   236    0        0      178      0      0.8   \n",
       "\n",
       "   slope  ca  thal  target  \n",
       "0      3   0     6       0  \n",
       "1      2   3     3       2  \n",
       "2      2   2     7       1  \n",
       "3      1   0     3       0  \n",
       "4      1   0     3       0  "
      ]
     },
     "execution_count": 6,
     "metadata": {},
     "output_type": "execute_result"
    }
   ],
   "source": [
    "train.head()"
   ]
  },
  {
   "cell_type": "code",
   "execution_count": 7,
   "id": "4934bc25",
   "metadata": {
    "execution": {
     "iopub.execute_input": "2022-05-04T03:42:56.559454Z",
     "iopub.status.busy": "2022-05-04T03:42:56.558603Z",
     "iopub.status.idle": "2022-05-04T03:42:56.566763Z",
     "shell.execute_reply": "2022-05-04T03:42:56.566026Z"
    },
    "papermill": {
     "duration": 0.031556,
     "end_time": "2022-05-04T03:42:56.568986",
     "exception": false,
     "start_time": "2022-05-04T03:42:56.537430",
     "status": "completed"
    },
    "tags": []
   },
   "outputs": [],
   "source": [
    "train = train.drop(['index'], axis = 1)\n",
    "test = test.drop(['index'], axis = 1)"
   ]
  },
  {
   "cell_type": "code",
   "execution_count": 8,
   "id": "864632d6",
   "metadata": {
    "execution": {
     "iopub.execute_input": "2022-05-04T03:42:56.610805Z",
     "iopub.status.busy": "2022-05-04T03:42:56.610535Z",
     "iopub.status.idle": "2022-05-04T03:42:56.616216Z",
     "shell.execute_reply": "2022-05-04T03:42:56.615193Z"
    },
    "papermill": {
     "duration": 0.029382,
     "end_time": "2022-05-04T03:42:56.618486",
     "exception": false,
     "start_time": "2022-05-04T03:42:56.589104",
     "status": "completed"
    },
    "tags": []
   },
   "outputs": [],
   "source": [
    "trainX = train.drop(['target'], axis = 1)\n",
    "trainY = train['target']"
   ]
  },
  {
   "cell_type": "code",
   "execution_count": 9,
   "id": "2eee3274",
   "metadata": {
    "execution": {
     "iopub.execute_input": "2022-05-04T03:42:56.660666Z",
     "iopub.status.busy": "2022-05-04T03:42:56.660396Z",
     "iopub.status.idle": "2022-05-04T03:42:56.673092Z",
     "shell.execute_reply": "2022-05-04T03:42:56.672134Z"
    },
    "papermill": {
     "duration": 0.036298,
     "end_time": "2022-05-04T03:42:56.675314",
     "exception": false,
     "start_time": "2022-05-04T03:42:56.639016",
     "status": "completed"
    },
    "tags": []
   },
   "outputs": [
    {
     "name": "stdout",
     "output_type": "stream",
     "text": [
      "<class 'pandas.core.frame.DataFrame'>\n",
      "RangeIndex: 242 entries, 0 to 241\n",
      "Data columns (total 14 columns):\n",
      " #   Column    Non-Null Count  Dtype  \n",
      "---  ------    --------------  -----  \n",
      " 0   age       242 non-null    int64  \n",
      " 1   sex       242 non-null    int64  \n",
      " 2   cp        242 non-null    int64  \n",
      " 3   trestbps  242 non-null    int64  \n",
      " 4   chol      242 non-null    int64  \n",
      " 5   fbs       242 non-null    int64  \n",
      " 6   restecg   242 non-null    int64  \n",
      " 7   thalach   242 non-null    int64  \n",
      " 8   exang     242 non-null    int64  \n",
      " 9   oldpeak   242 non-null    float64\n",
      " 10  slope     242 non-null    int64  \n",
      " 11  ca        242 non-null    int64  \n",
      " 12  thal      242 non-null    int64  \n",
      " 13  target    242 non-null    int64  \n",
      "dtypes: float64(1), int64(13)\n",
      "memory usage: 26.6 KB\n"
     ]
    }
   ],
   "source": [
    "train.info()"
   ]
  },
  {
   "cell_type": "code",
   "execution_count": 10,
   "id": "91b299c8",
   "metadata": {
    "execution": {
     "iopub.execute_input": "2022-05-04T03:42:56.719625Z",
     "iopub.status.busy": "2022-05-04T03:42:56.718692Z",
     "iopub.status.idle": "2022-05-04T03:42:56.732106Z",
     "shell.execute_reply": "2022-05-04T03:42:56.730687Z"
    },
    "papermill": {
     "duration": 0.038143,
     "end_time": "2022-05-04T03:42:56.734337",
     "exception": false,
     "start_time": "2022-05-04T03:42:56.696194",
     "status": "completed"
    },
    "tags": []
   },
   "outputs": [
    {
     "name": "stdout",
     "output_type": "stream",
     "text": [
      "<class 'pandas.core.frame.DataFrame'>\n",
      "RangeIndex: 61 entries, 0 to 60\n",
      "Data columns (total 13 columns):\n",
      " #   Column    Non-Null Count  Dtype  \n",
      "---  ------    --------------  -----  \n",
      " 0   age       61 non-null     int64  \n",
      " 1   sex       61 non-null     int64  \n",
      " 2   cp        61 non-null     int64  \n",
      " 3   trestbps  61 non-null     int64  \n",
      " 4   chol      61 non-null     int64  \n",
      " 5   fbs       61 non-null     int64  \n",
      " 6   restecg   61 non-null     int64  \n",
      " 7   thalach   61 non-null     int64  \n",
      " 8   exang     61 non-null     int64  \n",
      " 9   oldpeak   61 non-null     float64\n",
      " 10  slope     61 non-null     int64  \n",
      " 11  ca        61 non-null     int64  \n",
      " 12  thal      61 non-null     int64  \n",
      "dtypes: float64(1), int64(12)\n",
      "memory usage: 6.3 KB\n"
     ]
    }
   ],
   "source": [
    "test.info()"
   ]
  },
  {
   "cell_type": "code",
   "execution_count": 11,
   "id": "30cf4384",
   "metadata": {
    "execution": {
     "iopub.execute_input": "2022-05-04T03:42:56.778920Z",
     "iopub.status.busy": "2022-05-04T03:42:56.778621Z",
     "iopub.status.idle": "2022-05-04T03:42:56.782301Z",
     "shell.execute_reply": "2022-05-04T03:42:56.781703Z"
    },
    "papermill": {
     "duration": 0.028207,
     "end_time": "2022-05-04T03:42:56.783998",
     "exception": false,
     "start_time": "2022-05-04T03:42:56.755791",
     "status": "completed"
    },
    "tags": []
   },
   "outputs": [],
   "source": [
    "# 심장 질환 '여부'를 판단하는 것이므로 1이상이면 전부 '유'로 취급\n",
    "tmp = np.asarray(trainY)\n",
    "tmp[tmp > 0] = 1\n",
    "#train.target[train.target > 0] = 1"
   ]
  },
  {
   "cell_type": "code",
   "execution_count": 12,
   "id": "2b107edc",
   "metadata": {
    "execution": {
     "iopub.execute_input": "2022-05-04T03:42:56.827566Z",
     "iopub.status.busy": "2022-05-04T03:42:56.826940Z",
     "iopub.status.idle": "2022-05-04T03:42:56.830474Z",
     "shell.execute_reply": "2022-05-04T03:42:56.829790Z"
    },
    "papermill": {
     "duration": 0.027272,
     "end_time": "2022-05-04T03:42:56.832239",
     "exception": false,
     "start_time": "2022-05-04T03:42:56.804967",
     "status": "completed"
    },
    "tags": []
   },
   "outputs": [],
   "source": [
    "trainY = tmp"
   ]
  },
  {
   "cell_type": "code",
   "execution_count": 13,
   "id": "cb296f0f",
   "metadata": {
    "execution": {
     "iopub.execute_input": "2022-05-04T03:42:56.879114Z",
     "iopub.status.busy": "2022-05-04T03:42:56.878543Z",
     "iopub.status.idle": "2022-05-04T03:42:57.971797Z",
     "shell.execute_reply": "2022-05-04T03:42:57.970905Z"
    },
    "papermill": {
     "duration": 1.120048,
     "end_time": "2022-05-04T03:42:57.974282",
     "exception": false,
     "start_time": "2022-05-04T03:42:56.854234",
     "status": "completed"
    },
    "tags": []
   },
   "outputs": [],
   "source": [
    "# 데이터 값 정규화\n",
    "from sklearn.preprocessing import RobustScaler\n",
    "scaler = RobustScaler()\n",
    "trainX_sc = scaler.fit_transform(trainX)\n",
    "test_sc = scaler.transform(test)"
   ]
  },
  {
   "cell_type": "code",
   "execution_count": 14,
   "id": "1c0108b1",
   "metadata": {
    "execution": {
     "iopub.execute_input": "2022-05-04T03:42:58.020293Z",
     "iopub.status.busy": "2022-05-04T03:42:58.019683Z",
     "iopub.status.idle": "2022-05-04T03:42:58.507512Z",
     "shell.execute_reply": "2022-05-04T03:42:58.506645Z"
    },
    "papermill": {
     "duration": 0.51269,
     "end_time": "2022-05-04T03:42:58.509632",
     "exception": false,
     "start_time": "2022-05-04T03:42:57.996942",
     "status": "completed"
    },
    "tags": []
   },
   "outputs": [
    {
     "name": "stdout",
     "output_type": "stream",
     "text": [
      "0.9125\n"
     ]
    }
   ],
   "source": [
    "# from sklearn.linear_model import LogisticRegression\n",
    "# logis = LogisticRegression()\n",
    "# logis.fit(trainX_sc, trainY)\n",
    "# pred = logis.predict(test_sc)\n",
    "# -> 0.80327\n",
    "\n",
    "# from sklearn.discriminant_analysis import LinearDiscriminantAnalysis\n",
    "# lda = LinearDiscriminantAnalysis()\n",
    "# trainX_sc_lda = lda.fit_transform(trainX_sc, trainY)\n",
    "# test_sc_lda = lda.transform(test_sc)\n",
    "\n",
    "\n",
    "from sklearn.model_selection import train_test_split\n",
    "X_train, X_test, y_train, y_test = train_test_split(trainX_sc, trainY, test_size=0.33, random_state=42)\n",
    "\n",
    "\n",
    "from sklearn.ensemble import RandomForestClassifier\n",
    "# 랜덤포레스트분류기 호출\n",
    "clf = RandomForestClassifier(max_depth = 2, random_state=42)\n",
    "# trainX_sc,trainY 로 학습시키기\n",
    "clf.fit(trainX_sc, trainY)\n",
    "print(clf.score(X_test, y_test))\n",
    "# 모델로 test 예측하기\n",
    "pred = clf.predict(test_sc)\n",
    "\n",
    "# from sklearn.neighbors import KNeighborsClassifier\n",
    "# neigh = KNeighborsClassifier(n_neighbors=10, weights = 'distance')\n",
    "# neigh.fit(trainX_sc, trainY)\n",
    "# pred = neigh.predict(test_sc)"
   ]
  },
  {
   "cell_type": "code",
   "execution_count": 15,
   "id": "9cf543aa",
   "metadata": {
    "execution": {
     "iopub.execute_input": "2022-05-04T03:42:58.554028Z",
     "iopub.status.busy": "2022-05-04T03:42:58.553732Z",
     "iopub.status.idle": "2022-05-04T03:42:58.564615Z",
     "shell.execute_reply": "2022-05-04T03:42:58.563551Z"
    },
    "papermill": {
     "duration": 0.035984,
     "end_time": "2022-05-04T03:42:58.566909",
     "exception": false,
     "start_time": "2022-05-04T03:42:58.530925",
     "status": "completed"
    },
    "tags": []
   },
   "outputs": [
    {
     "name": "stdout",
     "output_type": "stream",
     "text": [
      "    index  target\n",
      "0       3       0\n",
      "1       6       1\n",
      "2      21       0\n",
      "3      24       1\n",
      "4      31       1\n",
      "..    ...     ...\n",
      "56    293       1\n",
      "57    294       0\n",
      "58    297       1\n",
      "59    298       1\n",
      "60    302       0\n",
      "\n",
      "[61 rows x 2 columns]\n"
     ]
    }
   ],
   "source": [
    "sample['target'] = pred\n",
    "\n",
    "\n",
    "print(sample)\n",
    "sample.to_csv('submission.csv', index = False)"
   ]
  },
  {
   "cell_type": "code",
   "execution_count": 16,
   "id": "017e7c3f",
   "metadata": {
    "execution": {
     "iopub.execute_input": "2022-05-04T03:42:58.612529Z",
     "iopub.status.busy": "2022-05-04T03:42:58.612081Z",
     "iopub.status.idle": "2022-05-04T03:42:58.621081Z",
     "shell.execute_reply": "2022-05-04T03:42:58.620300Z"
    },
    "papermill": {
     "duration": 0.033644,
     "end_time": "2022-05-04T03:42:58.622946",
     "exception": false,
     "start_time": "2022-05-04T03:42:58.589302",
     "status": "completed"
    },
    "tags": []
   },
   "outputs": [
    {
     "data": {
      "text/html": [
       "<div>\n",
       "<style scoped>\n",
       "    .dataframe tbody tr th:only-of-type {\n",
       "        vertical-align: middle;\n",
       "    }\n",
       "\n",
       "    .dataframe tbody tr th {\n",
       "        vertical-align: top;\n",
       "    }\n",
       "\n",
       "    .dataframe thead th {\n",
       "        text-align: right;\n",
       "    }\n",
       "</style>\n",
       "<table border=\"1\" class=\"dataframe\">\n",
       "  <thead>\n",
       "    <tr style=\"text-align: right;\">\n",
       "      <th></th>\n",
       "      <th>index</th>\n",
       "      <th>target</th>\n",
       "    </tr>\n",
       "  </thead>\n",
       "  <tbody>\n",
       "    <tr>\n",
       "      <th>0</th>\n",
       "      <td>3</td>\n",
       "      <td>0</td>\n",
       "    </tr>\n",
       "    <tr>\n",
       "      <th>1</th>\n",
       "      <td>6</td>\n",
       "      <td>1</td>\n",
       "    </tr>\n",
       "    <tr>\n",
       "      <th>2</th>\n",
       "      <td>21</td>\n",
       "      <td>0</td>\n",
       "    </tr>\n",
       "    <tr>\n",
       "      <th>3</th>\n",
       "      <td>24</td>\n",
       "      <td>1</td>\n",
       "    </tr>\n",
       "    <tr>\n",
       "      <th>4</th>\n",
       "      <td>31</td>\n",
       "      <td>1</td>\n",
       "    </tr>\n",
       "  </tbody>\n",
       "</table>\n",
       "</div>"
      ],
      "text/plain": [
       "   index  target\n",
       "0      3       0\n",
       "1      6       1\n",
       "2     21       0\n",
       "3     24       1\n",
       "4     31       1"
      ]
     },
     "execution_count": 16,
     "metadata": {},
     "output_type": "execute_result"
    }
   ],
   "source": [
    "sample.head()"
   ]
  },
  {
   "cell_type": "markdown",
   "id": "12c765ff",
   "metadata": {
    "papermill": {
     "duration": 0.021811,
     "end_time": "2022-05-04T03:42:58.667083",
     "exception": false,
     "start_time": "2022-05-04T03:42:58.645272",
     "status": "completed"
    },
    "tags": []
   },
   "source": [
    "logistic regression, LDA+knn으로 예측한 성능보다 random forest로 예측한 성능이 더 좋게 나왔다.\n",
    "데이터의 크기가 작아 random하게 forest를 생성하는 것이 우수한 성능을 보이는 걸로 분석했다."
   ]
  },
  {
   "cell_type": "markdown",
   "id": "de6b8ba3",
   "metadata": {
    "papermill": {
     "duration": 0.021885,
     "end_time": "2022-05-04T03:42:58.711183",
     "exception": false,
     "start_time": "2022-05-04T03:42:58.689298",
     "status": "completed"
    },
    "tags": []
   },
   "source": [
    "# Review\n",
    "마지막 마크다운 보면 마음이 급한 게 여기까지 느껴지는 코드..\n",
    "실은 내가 왜 random forest를 선택했는지도 모르겠고\n",
    "이렇게 푼 게 왜 리더보드 1등을 했는지도 모르겠다..\n",
    "1. 심장 질환 '여부'를 판단하는 것이므로 1보다 크면 전부 '유'로 취급\n",
    "➡️ 시험 보기 직전에 작년 시험문제 엄청 조금 훑었는데 이 부분을 잘 기억해둬서 좋은 성능을 낼 수 있었던 것 같다. '여부'에 focus !\n",
    "2. 데이터의 범위가 0.xx ~ 286 정도로 광범위하기 때문에 RobustScaler를 사용하여 정규화를 시켜주었다.\n",
    "3. RandomForestClassifier(max_depth = 2, random_state = 42)가 0.90163의 성능을 보였다. \n",
    "4. baseline은 KNeighborsClassifiter였다.\n",
    "5. train_test_split 하지 않은 데이터로 학습시킨 모델의 성능이 더 우수했다.\n",
    "\n",
    "\n",
    "⭐️ **A value is trying to be set on a copy of a slice from a DataFrame \n",
    "error\n",
    "dataframe 상태에서 값을 변경하면 바뀐 dataframe을 원본 dataframe에 덮어씌우는 과정에서 시간이 많이 걸릴 수 있어서 warning.\n",
    "➡️ numpy array로 변경 후 진행.**\n"
   ]
  }
 ],
 "metadata": {
  "kernelspec": {
   "display_name": "Python 3",
   "language": "python",
   "name": "python3"
  },
  "language_info": {
   "codemirror_mode": {
    "name": "ipython",
    "version": 3
   },
   "file_extension": ".py",
   "mimetype": "text/x-python",
   "name": "python",
   "nbconvert_exporter": "python",
   "pygments_lexer": "ipython3",
   "version": "3.7.12"
  },
  "papermill": {
   "default_parameters": {},
   "duration": 13.269554,
   "end_time": "2022-05-04T03:42:59.453563",
   "environment_variables": {},
   "exception": null,
   "input_path": "__notebook__.ipynb",
   "output_path": "__notebook__.ipynb",
   "parameters": {},
   "start_time": "2022-05-04T03:42:46.184009",
   "version": "2.3.4"
  }
 },
 "nbformat": 4,
 "nbformat_minor": 5
}
