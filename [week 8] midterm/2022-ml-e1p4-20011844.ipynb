{
 "cells": [
  {
   "cell_type": "code",
   "execution_count": 1,
   "id": "5643fe94",
   "metadata": {
    "_cell_guid": "b1076dfc-b9ad-4769-8c92-a6c4dae69d19",
    "_uuid": "8f2839f25d086af736a60e9eeb907d3b93b6e0e5",
    "execution": {
     "iopub.execute_input": "2022-04-29T10:17:25.902512Z",
     "iopub.status.busy": "2022-04-29T10:17:25.901914Z",
     "iopub.status.idle": "2022-04-29T10:17:25.913537Z",
     "shell.execute_reply": "2022-04-29T10:17:25.912565Z"
    },
    "papermill": {
     "duration": 0.027306,
     "end_time": "2022-04-29T10:17:25.916234",
     "exception": false,
     "start_time": "2022-04-29T10:17:25.888928",
     "status": "completed"
    },
    "tags": []
   },
   "outputs": [
    {
     "name": "stdout",
     "output_type": "stream",
     "text": [
      "/kaggle/input/2022-ml-midterm-p4/sample.csv\n",
      "/kaggle/input/2022-ml-midterm-p4/train.csv\n",
      "/kaggle/input/2022-ml-midterm-p4/test.csv\n"
     ]
    }
   ],
   "source": [
    "# This Python 3 environment comes with many helpful analytics libraries installed\n",
    "# It is defined by the kaggle/python Docker image: https://github.com/kaggle/docker-python\n",
    "# For example, here's several helpful packages to load\n",
    "\n",
    "import numpy as np # linear algebra\n",
    "import pandas as pd # data processing, CSV file I/O (e.g. pd.read_csv)\n",
    "\n",
    "# Input data files are available in the read-only \"../input/\" directory\n",
    "# For example, running this (by clicking run or pressing Shift+Enter) will list all files under the input directory\n",
    "\n",
    "import os\n",
    "for dirname, _, filenames in os.walk('/kaggle/input'):\n",
    "    for filename in filenames:\n",
    "        print(os.path.join(dirname, filename))\n",
    "\n",
    "# You can write up to 20GB to the current directory (/kaggle/working/) that gets preserved as output when you create a version using \"Save & Run All\" \n",
    "# You can also write temporary files to /kaggle/temp/, but they won't be saved outside of the current session"
   ]
  },
  {
   "cell_type": "code",
   "execution_count": 2,
   "id": "99dfa7eb",
   "metadata": {
    "execution": {
     "iopub.execute_input": "2022-04-29T10:17:25.939031Z",
     "iopub.status.busy": "2022-04-29T10:17:25.938498Z",
     "iopub.status.idle": "2022-04-29T10:17:25.943080Z",
     "shell.execute_reply": "2022-04-29T10:17:25.942193Z"
    },
    "papermill": {
     "duration": 0.017728,
     "end_time": "2022-04-29T10:17:25.944946",
     "exception": false,
     "start_time": "2022-04-29T10:17:25.927218",
     "status": "completed"
    },
    "tags": []
   },
   "outputs": [],
   "source": [
    "import random\n",
    "import os\n",
    "seed = 42\n",
    "random.seed(seed)\n",
    "np.random.seed(seed)\n",
    "os.environ[\"PYTHONHASHSEED\"] = str(seed)"
   ]
  },
  {
   "cell_type": "code",
   "execution_count": 3,
   "id": "ee10657c",
   "metadata": {
    "execution": {
     "iopub.execute_input": "2022-04-29T10:17:25.966998Z",
     "iopub.status.busy": "2022-04-29T10:17:25.966721Z",
     "iopub.status.idle": "2022-04-29T10:17:26.126937Z",
     "shell.execute_reply": "2022-04-29T10:17:26.125909Z"
    },
    "papermill": {
     "duration": 0.173689,
     "end_time": "2022-04-29T10:17:26.129162",
     "exception": false,
     "start_time": "2022-04-29T10:17:25.955473",
     "status": "completed"
    },
    "tags": []
   },
   "outputs": [],
   "source": [
    "sample = pd.read_csv('../input/2022-ml-midterm-p4/sample.csv')\n",
    "test = pd.read_csv('../input/2022-ml-midterm-p4/test.csv')\n",
    "train = pd.read_csv('../input/2022-ml-midterm-p4/train.csv')"
   ]
  },
  {
   "cell_type": "code",
   "execution_count": 4,
   "id": "62b58568",
   "metadata": {
    "execution": {
     "iopub.execute_input": "2022-04-29T10:17:26.151929Z",
     "iopub.status.busy": "2022-04-29T10:17:26.151648Z",
     "iopub.status.idle": "2022-04-29T10:17:26.172345Z",
     "shell.execute_reply": "2022-04-29T10:17:26.171430Z"
    },
    "papermill": {
     "duration": 0.035188,
     "end_time": "2022-04-29T10:17:26.174696",
     "exception": false,
     "start_time": "2022-04-29T10:17:26.139508",
     "status": "completed"
    },
    "tags": []
   },
   "outputs": [],
   "source": [
    "train.head()\n",
    "trainX = train.drop(['price', 'ID'], axis = 1)\n",
    "trainY = train['price']\n",
    "test = test.drop(['ID'], axis = 1)"
   ]
  },
  {
   "cell_type": "code",
   "execution_count": 5,
   "id": "57d9b44a",
   "metadata": {
    "execution": {
     "iopub.execute_input": "2022-04-29T10:17:26.197300Z",
     "iopub.status.busy": "2022-04-29T10:17:26.196502Z",
     "iopub.status.idle": "2022-04-29T10:17:26.215289Z",
     "shell.execute_reply": "2022-04-29T10:17:26.214424Z"
    },
    "papermill": {
     "duration": 0.032893,
     "end_time": "2022-04-29T10:17:26.217975",
     "exception": false,
     "start_time": "2022-04-29T10:17:26.185082",
     "status": "completed"
    },
    "tags": []
   },
   "outputs": [
    {
     "data": {
      "text/html": [
       "<div>\n",
       "<style scoped>\n",
       "    .dataframe tbody tr th:only-of-type {\n",
       "        vertical-align: middle;\n",
       "    }\n",
       "\n",
       "    .dataframe tbody tr th {\n",
       "        vertical-align: top;\n",
       "    }\n",
       "\n",
       "    .dataframe thead th {\n",
       "        text-align: right;\n",
       "    }\n",
       "</style>\n",
       "<table border=\"1\" class=\"dataframe\">\n",
       "  <thead>\n",
       "    <tr style=\"text-align: right;\">\n",
       "      <th></th>\n",
       "      <th>company</th>\n",
       "      <th>model</th>\n",
       "      <th>year</th>\n",
       "      <th>transmission</th>\n",
       "      <th>mileage</th>\n",
       "      <th>fueltype</th>\n",
       "      <th>tax</th>\n",
       "      <th>mpg</th>\n",
       "      <th>engineSize</th>\n",
       "    </tr>\n",
       "  </thead>\n",
       "  <tbody>\n",
       "    <tr>\n",
       "      <th>0</th>\n",
       "      <td>4</td>\n",
       "      <td>Auris</td>\n",
       "      <td>2015</td>\n",
       "      <td>1</td>\n",
       "      <td>47541</td>\n",
       "      <td>4</td>\n",
       "      <td>145</td>\n",
       "      <td>46.3</td>\n",
       "      <td>1.6</td>\n",
       "    </tr>\n",
       "    <tr>\n",
       "      <th>1</th>\n",
       "      <td>0</td>\n",
       "      <td>X2</td>\n",
       "      <td>2018</td>\n",
       "      <td>3</td>\n",
       "      <td>5000</td>\n",
       "      <td>0</td>\n",
       "      <td>145</td>\n",
       "      <td>50.4</td>\n",
       "      <td>2.0</td>\n",
       "    </tr>\n",
       "    <tr>\n",
       "      <th>2</th>\n",
       "      <td>2</td>\n",
       "      <td>Focus</td>\n",
       "      <td>2017</td>\n",
       "      <td>3</td>\n",
       "      <td>47018</td>\n",
       "      <td>4</td>\n",
       "      <td>145</td>\n",
       "      <td>51.4</td>\n",
       "      <td>1.0</td>\n",
       "    </tr>\n",
       "    <tr>\n",
       "      <th>3</th>\n",
       "      <td>2</td>\n",
       "      <td>Focus</td>\n",
       "      <td>2020</td>\n",
       "      <td>1</td>\n",
       "      <td>1550</td>\n",
       "      <td>4</td>\n",
       "      <td>145</td>\n",
       "      <td>49.6</td>\n",
       "      <td>1.0</td>\n",
       "    </tr>\n",
       "    <tr>\n",
       "      <th>4</th>\n",
       "      <td>0</td>\n",
       "      <td>3 Series</td>\n",
       "      <td>2017</td>\n",
       "      <td>3</td>\n",
       "      <td>23505</td>\n",
       "      <td>0</td>\n",
       "      <td>145</td>\n",
       "      <td>64.2</td>\n",
       "      <td>2.0</td>\n",
       "    </tr>\n",
       "  </tbody>\n",
       "</table>\n",
       "</div>"
      ],
      "text/plain": [
       "   company     model  year  transmission  mileage  fueltype  tax   mpg  \\\n",
       "0        4     Auris  2015             1    47541         4  145  46.3   \n",
       "1        0        X2  2018             3     5000         0  145  50.4   \n",
       "2        2     Focus  2017             3    47018         4  145  51.4   \n",
       "3        2     Focus  2020             1     1550         4  145  49.6   \n",
       "4        0  3 Series  2017             3    23505         0  145  64.2   \n",
       "\n",
       "   engineSize  \n",
       "0         1.6  \n",
       "1         2.0  \n",
       "2         1.0  \n",
       "3         1.0  \n",
       "4         2.0  "
      ]
     },
     "execution_count": 5,
     "metadata": {},
     "output_type": "execute_result"
    }
   ],
   "source": [
    "trainX.head()"
   ]
  },
  {
   "cell_type": "code",
   "execution_count": 6,
   "id": "95a84b73",
   "metadata": {
    "execution": {
     "iopub.execute_input": "2022-04-29T10:17:26.240672Z",
     "iopub.status.busy": "2022-04-29T10:17:26.240281Z",
     "iopub.status.idle": "2022-04-29T10:17:27.349311Z",
     "shell.execute_reply": "2022-04-29T10:17:27.348451Z"
    },
    "papermill": {
     "duration": 1.122952,
     "end_time": "2022-04-29T10:17:27.351359",
     "exception": false,
     "start_time": "2022-04-29T10:17:26.228407",
     "status": "completed"
    },
    "tags": []
   },
   "outputs": [
    {
     "name": "stdout",
     "output_type": "stream",
     "text": [
      "<class 'pandas.core.series.Series'>\n"
     ]
    },
    {
     "data": {
      "text/html": [
       "<div>\n",
       "<style scoped>\n",
       "    .dataframe tbody tr th:only-of-type {\n",
       "        vertical-align: middle;\n",
       "    }\n",
       "\n",
       "    .dataframe tbody tr th {\n",
       "        vertical-align: top;\n",
       "    }\n",
       "\n",
       "    .dataframe thead th {\n",
       "        text-align: right;\n",
       "    }\n",
       "</style>\n",
       "<table border=\"1\" class=\"dataframe\">\n",
       "  <thead>\n",
       "    <tr style=\"text-align: right;\">\n",
       "      <th></th>\n",
       "      <th>company</th>\n",
       "      <th>model</th>\n",
       "      <th>year</th>\n",
       "      <th>transmission</th>\n",
       "      <th>mileage</th>\n",
       "      <th>fueltype</th>\n",
       "      <th>tax</th>\n",
       "      <th>mpg</th>\n",
       "      <th>engineSize</th>\n",
       "    </tr>\n",
       "  </thead>\n",
       "  <tbody>\n",
       "    <tr>\n",
       "      <th>0</th>\n",
       "      <td>4</td>\n",
       "      <td>15</td>\n",
       "      <td>2015</td>\n",
       "      <td>1</td>\n",
       "      <td>47541</td>\n",
       "      <td>4</td>\n",
       "      <td>145</td>\n",
       "      <td>46.3</td>\n",
       "      <td>1.6</td>\n",
       "    </tr>\n",
       "    <tr>\n",
       "      <th>1</th>\n",
       "      <td>0</td>\n",
       "      <td>144</td>\n",
       "      <td>2018</td>\n",
       "      <td>3</td>\n",
       "      <td>5000</td>\n",
       "      <td>0</td>\n",
       "      <td>145</td>\n",
       "      <td>50.4</td>\n",
       "      <td>2.0</td>\n",
       "    </tr>\n",
       "    <tr>\n",
       "      <th>2</th>\n",
       "      <td>2</td>\n",
       "      <td>26</td>\n",
       "      <td>2017</td>\n",
       "      <td>3</td>\n",
       "      <td>47018</td>\n",
       "      <td>4</td>\n",
       "      <td>145</td>\n",
       "      <td>51.4</td>\n",
       "      <td>1.0</td>\n",
       "    </tr>\n",
       "    <tr>\n",
       "      <th>3</th>\n",
       "      <td>2</td>\n",
       "      <td>26</td>\n",
       "      <td>2020</td>\n",
       "      <td>1</td>\n",
       "      <td>1550</td>\n",
       "      <td>4</td>\n",
       "      <td>145</td>\n",
       "      <td>49.6</td>\n",
       "      <td>1.0</td>\n",
       "    </tr>\n",
       "    <tr>\n",
       "      <th>4</th>\n",
       "      <td>0</td>\n",
       "      <td>100</td>\n",
       "      <td>2017</td>\n",
       "      <td>3</td>\n",
       "      <td>23505</td>\n",
       "      <td>0</td>\n",
       "      <td>145</td>\n",
       "      <td>64.2</td>\n",
       "      <td>2.0</td>\n",
       "    </tr>\n",
       "  </tbody>\n",
       "</table>\n",
       "</div>"
      ],
      "text/plain": [
       "   company  model  year  transmission  mileage  fueltype  tax   mpg  \\\n",
       "0        4     15  2015             1    47541         4  145  46.3   \n",
       "1        0    144  2018             3     5000         0  145  50.4   \n",
       "2        2     26  2017             3    47018         4  145  51.4   \n",
       "3        2     26  2020             1     1550         4  145  49.6   \n",
       "4        0    100  2017             3    23505         0  145  64.2   \n",
       "\n",
       "   engineSize  \n",
       "0         1.6  \n",
       "1         2.0  \n",
       "2         1.0  \n",
       "3         1.0  \n",
       "4         2.0  "
      ]
     },
     "execution_count": 6,
     "metadata": {},
     "output_type": "execute_result"
    }
   ],
   "source": [
    "print(type(test['model']))\n",
    "\n",
    "from sklearn import preprocessing\n",
    "le = preprocessing.LabelEncoder()\n",
    "\n",
    "a = pd.concat([trainX['model'], test['model']])\n",
    "le.fit(a)\n",
    "trainX['model'] = le.transform(trainX['model'])\n",
    "test['model'] = le.transform(test['model'])\n",
    "trainX.head()"
   ]
  },
  {
   "cell_type": "code",
   "execution_count": 7,
   "id": "5a8c9c10",
   "metadata": {
    "execution": {
     "iopub.execute_input": "2022-04-29T10:17:27.376408Z",
     "iopub.status.busy": "2022-04-29T10:17:27.375546Z",
     "iopub.status.idle": "2022-04-29T10:17:27.411235Z",
     "shell.execute_reply": "2022-04-29T10:17:27.410289Z"
    },
    "papermill": {
     "duration": 0.050624,
     "end_time": "2022-04-29T10:17:27.413537",
     "exception": false,
     "start_time": "2022-04-29T10:17:27.362913",
     "status": "completed"
    },
    "tags": []
   },
   "outputs": [],
   "source": [
    "from sklearn.preprocessing import RobustScaler\n",
    "scaler = RobustScaler()\n",
    "trainX_sc = scaler.fit_transform(trainX)\n",
    "test_sc = scaler.transform(test)"
   ]
  },
  {
   "cell_type": "code",
   "execution_count": 8,
   "id": "344d4432",
   "metadata": {
    "execution": {
     "iopub.execute_input": "2022-04-29T10:17:27.437637Z",
     "iopub.status.busy": "2022-04-29T10:17:27.437308Z",
     "iopub.status.idle": "2022-04-29T10:17:27.511742Z",
     "shell.execute_reply": "2022-04-29T10:17:27.510869Z"
    },
    "papermill": {
     "duration": 0.088958,
     "end_time": "2022-04-29T10:17:27.513998",
     "exception": false,
     "start_time": "2022-04-29T10:17:27.425040",
     "status": "completed"
    },
    "tags": []
   },
   "outputs": [],
   "source": [
    "from sklearn.model_selection import train_test_split\n",
    "X_train, X_test, y_train, y_test = train_test_split(trainX_sc, trainY, test_size=0.33, random_state=42)"
   ]
  },
  {
   "cell_type": "code",
   "execution_count": 9,
   "id": "acee551a",
   "metadata": {
    "execution": {
     "iopub.execute_input": "2022-04-29T10:17:27.538755Z",
     "iopub.status.busy": "2022-04-29T10:17:27.537840Z",
     "iopub.status.idle": "2022-04-29T10:17:29.612198Z",
     "shell.execute_reply": "2022-04-29T10:17:29.611158Z"
    },
    "papermill": {
     "duration": 2.089531,
     "end_time": "2022-04-29T10:17:29.614831",
     "exception": false,
     "start_time": "2022-04-29T10:17:27.525300",
     "status": "completed"
    },
    "tags": []
   },
   "outputs": [],
   "source": [
    "from sklearn.neighbors import KNeighborsRegressor\n",
    "# knn regressor 호출\n",
    "neigh = KNeighborsRegressor(n_neighbors=7,  p = 1, weights = 'distance')\n",
    "# 학습시키기\n",
    "neigh.fit(trainX_sc, trainY)\n",
    "#print(neigh.score(X_test, y_test))\n",
    "#예측하기\n",
    "pred = neigh.predict(test_sc)\n",
    "\n",
    "# from sklearn.linear_model import LogisticRegression\n",
    "# logis = LogisticRegression()\n",
    "# logis.fit(trainX_sc, trainY)\n",
    "# pred = logis.predict(test_sc)"
   ]
  },
  {
   "cell_type": "code",
   "execution_count": 10,
   "id": "5a841276",
   "metadata": {
    "execution": {
     "iopub.execute_input": "2022-04-29T10:17:29.639796Z",
     "iopub.status.busy": "2022-04-29T10:17:29.639493Z",
     "iopub.status.idle": "2022-04-29T10:17:29.685647Z",
     "shell.execute_reply": "2022-04-29T10:17:29.684768Z"
    },
    "papermill": {
     "duration": 0.061662,
     "end_time": "2022-04-29T10:17:29.688070",
     "exception": false,
     "start_time": "2022-04-29T10:17:29.626408",
     "status": "completed"
    },
    "tags": []
   },
   "outputs": [],
   "source": [
    "sample['price'] = pred\n",
    "sample.to_csv('submission.csv', index = False)"
   ]
  },
  {
   "cell_type": "markdown",
   "id": "bca9ef2a",
   "metadata": {
    "papermill": {
     "duration": 0.010894,
     "end_time": "2022-04-29T10:17:29.710232",
     "exception": false,
     "start_time": "2022-04-29T10:17:29.699338",
     "status": "completed"
    },
    "tags": []
   },
   "source": [
    "분류 문제가 아닌 회귀 문제여서 knnregressor를 사용하였다. \n",
    "logistic regression으로 예측한 것보다 우수한 성능을 보였다.\n",
    "하이퍼파라미터가 3이나 7일 때보다 우수한 성능을 보였다."
   ]
  },
  {
   "cell_type": "markdown",
   "id": "ca94e3f2",
   "metadata": {
    "papermill": {
     "duration": 0.010757,
     "end_time": "2022-04-29T10:17:29.732628",
     "exception": false,
     "start_time": "2022-04-29T10:17:29.721871",
     "status": "completed"
    },
    "tags": []
   },
   "source": [
    "# Review\n",
    "\n",
    "1. label encoder로 'model'의 값을 labeling 해주었다.\n",
    "    이 때, train data에 나오지 않은 값이 test data에 있었기 때문에\n",
    "    두 데이터를 concat을 이용하여 합친 다음 fit을 해주고, 각각\n",
    "    transform 해주었다.\n",
    "    \n",
    "2. "
   ]
  }
 ],
 "metadata": {
  "kernelspec": {
   "display_name": "Python 3",
   "language": "python",
   "name": "python3"
  },
  "language_info": {
   "codemirror_mode": {
    "name": "ipython",
    "version": 3
   },
   "file_extension": ".py",
   "mimetype": "text/x-python",
   "name": "python",
   "nbconvert_exporter": "python",
   "pygments_lexer": "ipython3",
   "version": "3.7.12"
  },
  "papermill": {
   "default_parameters": {},
   "duration": 13.741373,
   "end_time": "2022-04-29T10:17:30.464359",
   "environment_variables": {},
   "exception": null,
   "input_path": "__notebook__.ipynb",
   "output_path": "__notebook__.ipynb",
   "parameters": {},
   "start_time": "2022-04-29T10:17:16.722986",
   "version": "2.3.4"
  }
 },
 "nbformat": 4,
 "nbformat_minor": 5
}
