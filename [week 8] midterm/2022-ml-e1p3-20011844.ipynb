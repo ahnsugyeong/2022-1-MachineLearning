{
 "cells": [
  {
   "cell_type": "code",
   "execution_count": 1,
   "id": "666f36c4",
   "metadata": {
    "_cell_guid": "b1076dfc-b9ad-4769-8c92-a6c4dae69d19",
    "_uuid": "8f2839f25d086af736a60e9eeb907d3b93b6e0e5",
    "execution": {
     "iopub.execute_input": "2022-05-04T03:49:51.301134Z",
     "iopub.status.busy": "2022-05-04T03:49:51.300556Z",
     "iopub.status.idle": "2022-05-04T03:49:51.314268Z",
     "shell.execute_reply": "2022-05-04T03:49:51.313537Z"
    },
    "papermill": {
     "duration": 0.030083,
     "end_time": "2022-05-04T03:49:51.316560",
     "exception": false,
     "start_time": "2022-05-04T03:49:51.286477",
     "status": "completed"
    },
    "tags": []
   },
   "outputs": [
    {
     "name": "stdout",
     "output_type": "stream",
     "text": [
      "/kaggle/input/2022-ml-midterm-p3/submit.csv\n",
      "/kaggle/input/2022-ml-midterm-p3/train.csv\n",
      "/kaggle/input/2022-ml-midterm-p3/test.csv\n"
     ]
    }
   ],
   "source": [
    "# This Python 3 environment comes with many helpful analytics libraries installed\n",
    "# It is defined by the kaggle/python Docker image: https://github.com/kaggle/docker-python\n",
    "# For example, here's several helpful packages to load\n",
    "\n",
    "import numpy as np # linear algebra\n",
    "import pandas as pd # data processing, CSV file I/O (e.g. pd.read_csv)\n",
    "\n",
    "# Input data files are available in the read-only \"../input/\" directory\n",
    "# For example, running this (by clicking run or pressing Shift+Enter) will list all files under the input directory\n",
    "\n",
    "import os\n",
    "for dirname, _, filenames in os.walk('/kaggle/input'):\n",
    "    for filename in filenames:\n",
    "        print(os.path.join(dirname, filename))\n",
    "\n",
    "# You can write up to 20GB to the current directory (/kaggle/working/) that gets preserved as output when you create a version using \"Save & Run All\" \n",
    "# You can also write temporary files to /kaggle/temp/, but they won't be saved outside of the current session"
   ]
  },
  {
   "cell_type": "code",
   "execution_count": 2,
   "id": "29c1ffe2",
   "metadata": {
    "execution": {
     "iopub.execute_input": "2022-05-04T03:49:51.342786Z",
     "iopub.status.busy": "2022-05-04T03:49:51.342247Z",
     "iopub.status.idle": "2022-05-04T03:49:51.346629Z",
     "shell.execute_reply": "2022-05-04T03:49:51.345973Z"
    },
    "papermill": {
     "duration": 0.019217,
     "end_time": "2022-05-04T03:49:51.348702",
     "exception": false,
     "start_time": "2022-05-04T03:49:51.329485",
     "status": "completed"
    },
    "tags": []
   },
   "outputs": [],
   "source": [
    "import random\n",
    "import os\n",
    "seed = 42\n",
    "random.seed(seed)\n",
    "np.random.seed(seed)\n",
    "os.environ[\"PYTHONHASHSEED\"] = str(seed)"
   ]
  },
  {
   "cell_type": "code",
   "execution_count": 3,
   "id": "997ba47a",
   "metadata": {
    "execution": {
     "iopub.execute_input": "2022-05-04T03:49:51.374376Z",
     "iopub.status.busy": "2022-05-04T03:49:51.373528Z",
     "iopub.status.idle": "2022-05-04T03:49:51.425843Z",
     "shell.execute_reply": "2022-05-04T03:49:51.425112Z"
    },
    "papermill": {
     "duration": 0.06783,
     "end_time": "2022-05-04T03:49:51.428074",
     "exception": false,
     "start_time": "2022-05-04T03:49:51.360244",
     "status": "completed"
    },
    "tags": []
   },
   "outputs": [],
   "source": [
    "sample = pd.read_csv('../input/2022-ml-midterm-p3/submit.csv')\n",
    "test = pd.read_csv('../input/2022-ml-midterm-p3/test.csv')\n",
    "train = pd.read_csv('../input/2022-ml-midterm-p3/train.csv')"
   ]
  },
  {
   "cell_type": "code",
   "execution_count": 4,
   "id": "47d10ef3",
   "metadata": {
    "execution": {
     "iopub.execute_input": "2022-05-04T03:49:51.453343Z",
     "iopub.status.busy": "2022-05-04T03:49:51.452715Z",
     "iopub.status.idle": "2022-05-04T03:49:51.489547Z",
     "shell.execute_reply": "2022-05-04T03:49:51.488911Z"
    },
    "papermill": {
     "duration": 0.052217,
     "end_time": "2022-05-04T03:49:51.491908",
     "exception": false,
     "start_time": "2022-05-04T03:49:51.439691",
     "status": "completed"
    },
    "tags": []
   },
   "outputs": [
    {
     "data": {
      "text/html": [
       "<div>\n",
       "<style scoped>\n",
       "    .dataframe tbody tr th:only-of-type {\n",
       "        vertical-align: middle;\n",
       "    }\n",
       "\n",
       "    .dataframe tbody tr th {\n",
       "        vertical-align: top;\n",
       "    }\n",
       "\n",
       "    .dataframe thead th {\n",
       "        text-align: right;\n",
       "    }\n",
       "</style>\n",
       "<table border=\"1\" class=\"dataframe\">\n",
       "  <thead>\n",
       "    <tr style=\"text-align: right;\">\n",
       "      <th></th>\n",
       "      <th>index</th>\n",
       "      <th>a</th>\n",
       "      <th>b</th>\n",
       "      <th>c</th>\n",
       "      <th>d</th>\n",
       "      <th>e</th>\n",
       "      <th>f</th>\n",
       "      <th>g</th>\n",
       "      <th>h</th>\n",
       "      <th>i</th>\n",
       "      <th>j</th>\n",
       "      <th>k</th>\n",
       "      <th>l</th>\n",
       "      <th>m</th>\n",
       "    </tr>\n",
       "  </thead>\n",
       "  <tbody>\n",
       "    <tr>\n",
       "      <th>0</th>\n",
       "      <td>0</td>\n",
       "      <td>0.04932</td>\n",
       "      <td>33.0</td>\n",
       "      <td>2.18</td>\n",
       "      <td>0</td>\n",
       "      <td>0.472</td>\n",
       "      <td>6.849</td>\n",
       "      <td>70.3</td>\n",
       "      <td>3.1827</td>\n",
       "      <td>7</td>\n",
       "      <td>222</td>\n",
       "      <td>18.4</td>\n",
       "      <td>396.90</td>\n",
       "      <td>7.53</td>\n",
       "    </tr>\n",
       "    <tr>\n",
       "      <th>1</th>\n",
       "      <td>1</td>\n",
       "      <td>0.02543</td>\n",
       "      <td>55.0</td>\n",
       "      <td>3.78</td>\n",
       "      <td>0</td>\n",
       "      <td>0.484</td>\n",
       "      <td>6.696</td>\n",
       "      <td>56.4</td>\n",
       "      <td>5.7321</td>\n",
       "      <td>5</td>\n",
       "      <td>370</td>\n",
       "      <td>17.6</td>\n",
       "      <td>396.90</td>\n",
       "      <td>7.18</td>\n",
       "    </tr>\n",
       "    <tr>\n",
       "      <th>2</th>\n",
       "      <td>2</td>\n",
       "      <td>0.22927</td>\n",
       "      <td>0.0</td>\n",
       "      <td>6.91</td>\n",
       "      <td>0</td>\n",
       "      <td>0.448</td>\n",
       "      <td>6.030</td>\n",
       "      <td>85.5</td>\n",
       "      <td>5.6894</td>\n",
       "      <td>3</td>\n",
       "      <td>233</td>\n",
       "      <td>17.9</td>\n",
       "      <td>392.74</td>\n",
       "      <td>18.80</td>\n",
       "    </tr>\n",
       "    <tr>\n",
       "      <th>3</th>\n",
       "      <td>3</td>\n",
       "      <td>0.05789</td>\n",
       "      <td>12.5</td>\n",
       "      <td>6.07</td>\n",
       "      <td>0</td>\n",
       "      <td>0.409</td>\n",
       "      <td>5.878</td>\n",
       "      <td>21.4</td>\n",
       "      <td>6.4980</td>\n",
       "      <td>4</td>\n",
       "      <td>345</td>\n",
       "      <td>18.9</td>\n",
       "      <td>396.21</td>\n",
       "      <td>8.10</td>\n",
       "    </tr>\n",
       "    <tr>\n",
       "      <th>4</th>\n",
       "      <td>4</td>\n",
       "      <td>3.67822</td>\n",
       "      <td>0.0</td>\n",
       "      <td>18.10</td>\n",
       "      <td>0</td>\n",
       "      <td>0.770</td>\n",
       "      <td>5.362</td>\n",
       "      <td>96.2</td>\n",
       "      <td>2.1036</td>\n",
       "      <td>24</td>\n",
       "      <td>666</td>\n",
       "      <td>20.2</td>\n",
       "      <td>380.79</td>\n",
       "      <td>10.19</td>\n",
       "    </tr>\n",
       "  </tbody>\n",
       "</table>\n",
       "</div>"
      ],
      "text/plain": [
       "   index        a     b      c  d      e      f     g       h   i    j     k  \\\n",
       "0      0  0.04932  33.0   2.18  0  0.472  6.849  70.3  3.1827   7  222  18.4   \n",
       "1      1  0.02543  55.0   3.78  0  0.484  6.696  56.4  5.7321   5  370  17.6   \n",
       "2      2  0.22927   0.0   6.91  0  0.448  6.030  85.5  5.6894   3  233  17.9   \n",
       "3      3  0.05789  12.5   6.07  0  0.409  5.878  21.4  6.4980   4  345  18.9   \n",
       "4      4  3.67822   0.0  18.10  0  0.770  5.362  96.2  2.1036  24  666  20.2   \n",
       "\n",
       "        l      m  \n",
       "0  396.90   7.53  \n",
       "1  396.90   7.18  \n",
       "2  392.74  18.80  \n",
       "3  396.21   8.10  \n",
       "4  380.79  10.19  "
      ]
     },
     "execution_count": 4,
     "metadata": {},
     "output_type": "execute_result"
    }
   ],
   "source": [
    "trainX = train.drop(['price'], axis = 1)\n",
    "trainY = train['price']\n",
    "\n",
    "test.head()"
   ]
  },
  {
   "cell_type": "code",
   "execution_count": 5,
   "id": "574b8da9",
   "metadata": {
    "execution": {
     "iopub.execute_input": "2022-05-04T03:49:51.518052Z",
     "iopub.status.busy": "2022-05-04T03:49:51.517765Z",
     "iopub.status.idle": "2022-05-04T03:49:52.679796Z",
     "shell.execute_reply": "2022-05-04T03:49:52.679028Z"
    },
    "papermill": {
     "duration": 1.178035,
     "end_time": "2022-05-04T03:49:52.682057",
     "exception": false,
     "start_time": "2022-05-04T03:49:51.504022",
     "status": "completed"
    },
    "tags": []
   },
   "outputs": [],
   "source": [
    "from sklearn.preprocessing import StandardScaler\n",
    "scaler = StandardScaler()\n",
    "trainX_sc = scaler.fit_transform(trainX)\n",
    "test_sc = scaler.transform(test)"
   ]
  },
  {
   "cell_type": "code",
   "execution_count": 6,
   "id": "ff24953c",
   "metadata": {
    "execution": {
     "iopub.execute_input": "2022-05-04T03:49:52.711342Z",
     "iopub.status.busy": "2022-05-04T03:49:52.710843Z",
     "iopub.status.idle": "2022-05-04T03:49:52.714165Z",
     "shell.execute_reply": "2022-05-04T03:49:52.713286Z"
    },
    "papermill": {
     "duration": 0.020208,
     "end_time": "2022-05-04T03:49:52.716293",
     "exception": false,
     "start_time": "2022-05-04T03:49:52.696085",
     "status": "completed"
    },
    "tags": []
   },
   "outputs": [],
   "source": [
    "# from sklearn.model_selection import train_test_split\n",
    "# X_train, X_test, y_train, y_test = train_test_split(trainX_sc, trainY, test_size=0.33, random_state=42)"
   ]
  },
  {
   "cell_type": "code",
   "execution_count": 7,
   "id": "5fa97a3c",
   "metadata": {
    "execution": {
     "iopub.execute_input": "2022-05-04T03:49:52.743002Z",
     "iopub.status.busy": "2022-05-04T03:49:52.742473Z",
     "iopub.status.idle": "2022-05-04T03:49:52.746410Z",
     "shell.execute_reply": "2022-05-04T03:49:52.745623Z"
    },
    "papermill": {
     "duration": 0.019697,
     "end_time": "2022-05-04T03:49:52.748476",
     "exception": false,
     "start_time": "2022-05-04T03:49:52.728779",
     "status": "completed"
    },
    "tags": []
   },
   "outputs": [],
   "source": [
    "# from sklearn.neighbors import KNeighborsRegressor\n",
    "# neigh = KNeighborsRegressor(n_neighbors=10, p = 1, weights = 'distance')\n",
    "# neigh.fit(trainX_sc, trainY)\n",
    "# print(neigh.score(trainX_sc, trainY))\n",
    "# pred = neigh.predict(test_sc)"
   ]
  },
  {
   "cell_type": "code",
   "execution_count": 8,
   "id": "69428572",
   "metadata": {
    "execution": {
     "iopub.execute_input": "2022-05-04T03:49:52.775567Z",
     "iopub.status.busy": "2022-05-04T03:49:52.775007Z",
     "iopub.status.idle": "2022-05-04T03:49:53.441665Z",
     "shell.execute_reply": "2022-05-04T03:49:53.440817Z"
    },
    "papermill": {
     "duration": 0.683009,
     "end_time": "2022-05-04T03:49:53.444013",
     "exception": false,
     "start_time": "2022-05-04T03:49:52.761004",
     "status": "completed"
    },
    "tags": []
   },
   "outputs": [],
   "source": [
    "from sklearn.ensemble import RandomForestRegressor\n",
    "rf = RandomForestRegressor(random_state = 42)\n",
    "rf.fit(trainX_sc, trainY)\n",
    "#print(rf.score(X_test, y_test))\n",
    "\n",
    "pred = rf.predict(test_sc)"
   ]
  },
  {
   "cell_type": "code",
   "execution_count": 9,
   "id": "c025b60d",
   "metadata": {
    "execution": {
     "iopub.execute_input": "2022-05-04T03:49:53.469906Z",
     "iopub.status.busy": "2022-05-04T03:49:53.469603Z",
     "iopub.status.idle": "2022-05-04T03:49:53.478283Z",
     "shell.execute_reply": "2022-05-04T03:49:53.477437Z"
    },
    "papermill": {
     "duration": 0.024196,
     "end_time": "2022-05-04T03:49:53.480533",
     "exception": false,
     "start_time": "2022-05-04T03:49:53.456337",
     "status": "completed"
    },
    "tags": []
   },
   "outputs": [],
   "source": [
    "sample['price'] = pred\n",
    "sample.to_csv('submission.csv', index = False)"
   ]
  },
  {
   "cell_type": "markdown",
   "id": "746ddce8",
   "metadata": {
    "papermill": {
     "duration": 0.011736,
     "end_time": "2022-05-04T03:49:53.505236",
     "exception": false,
     "start_time": "2022-05-04T03:49:53.493500",
     "status": "completed"
    },
    "tags": []
   },
   "source": [
    "# Review\n",
    "\n",
    "나의 실수를 깨닫고 머리를 마구 때렸던 문제 🤯\n",
    "시험 볼 때 regressor가 knn밖에 없는 줄 알고\n",
    "멘붕이 왔었다....\n",
    "\n",
    "랜덤포레스트리그레서 파라미터 디폴트값으로 돌려보니\n",
    "바로 베.라 넘어버렸다\n",
    "\n",
    "할 말이 없다.. ^.^\n",
    "\n",
    "1. train_test_split 하면 2.62912, 안 하면 2.33802의 성능을 보인다.\n",
    "2. 데이터의 값이 0.xx~65 정도로 광범위해서 StandardScaler를 이용하여 정규화 시켜주었다.\n",
    "3. RandomForestRegressor(random_state = 42)를 사용하여 2.33802의 성능이 나왔다.\n",
    "\n",
    "❓ **'random seed를 고정하여 랜덤성이 없도록 한다' \n",
    "➡️ 초반에 random seed 코드 + random_state 파라미터 seed값으로 고정\n",
    "하면 되는 것인가? YES**"
   ]
  }
 ],
 "metadata": {
  "kernelspec": {
   "display_name": "Python 3",
   "language": "python",
   "name": "python3"
  },
  "language_info": {
   "codemirror_mode": {
    "name": "ipython",
    "version": 3
   },
   "file_extension": ".py",
   "mimetype": "text/x-python",
   "name": "python",
   "nbconvert_exporter": "python",
   "pygments_lexer": "ipython3",
   "version": "3.7.12"
  },
  "papermill": {
   "default_parameters": {},
   "duration": 13.789848,
   "end_time": "2022-05-04T03:49:54.238217",
   "environment_variables": {},
   "exception": null,
   "input_path": "__notebook__.ipynb",
   "output_path": "__notebook__.ipynb",
   "parameters": {},
   "start_time": "2022-05-04T03:49:40.448369",
   "version": "2.3.4"
  }
 },
 "nbformat": 4,
 "nbformat_minor": 5
}
