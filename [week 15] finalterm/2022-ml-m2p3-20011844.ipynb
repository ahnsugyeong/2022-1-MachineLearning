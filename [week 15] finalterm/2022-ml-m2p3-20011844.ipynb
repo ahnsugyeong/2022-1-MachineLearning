{
 "cells": [
  {
   "cell_type": "code",
   "execution_count": 1,
   "id": "0dd29b0d",
   "metadata": {
    "_cell_guid": "b1076dfc-b9ad-4769-8c92-a6c4dae69d19",
    "_uuid": "8f2839f25d086af736a60e9eeb907d3b93b6e0e5",
    "execution": {
     "iopub.execute_input": "2022-06-13T12:58:40.327400Z",
     "iopub.status.busy": "2022-06-13T12:58:40.326732Z",
     "iopub.status.idle": "2022-06-13T12:58:40.337437Z",
     "shell.execute_reply": "2022-06-13T12:58:40.336866Z"
    },
    "papermill": {
     "duration": 0.020873,
     "end_time": "2022-06-13T12:58:40.341633",
     "exception": false,
     "start_time": "2022-06-13T12:58:40.320760",
     "status": "completed"
    },
    "tags": []
   },
   "outputs": [
    {
     "name": "stdout",
     "output_type": "stream",
     "text": [
      "/kaggle/input/2022-ml-finalexam-p3/train.csv\n",
      "/kaggle/input/2022-ml-finalexam-p3/test.csv\n",
      "/kaggle/input/2022-ml-finalexam-p3/sample_submit.csv\n"
     ]
    }
   ],
   "source": [
    "### This Python 3 environment comes with many helpful analytics libraries installed\n",
    "# It is defined by the kaggle/python Docker image: https://github.com/kaggle/docker-python\n",
    "# For example, here's several helpful packages to load\n",
    "\n",
    "import numpy as np # linear algebra\n",
    "import pandas as pd # data processing, CSV file I/O (e.g. pd.read_csv)\n",
    "\n",
    "# Input data files are available in the read-only \"../input/\" directory\n",
    "# For example, running this (by clicking run or pressing Shift+Enter) will list all files under the input directory\n",
    "\n",
    "import os\n",
    "for dirname, _, filenames in os.walk('/kaggle/input'):\n",
    "    for filename in filenames:\n",
    "        print(os.path.join(dirname, filename))\n",
    "\n",
    "# You can write up to 20GB to the current directory (/kaggle/working/) that gets preserved as output when you create a version using \"Save & Run All\" \n",
    "# You can also write temporary files to /kaggle/temp/, but they won't be saved outside of the current session"
   ]
  },
  {
   "cell_type": "code",
   "execution_count": 2,
   "id": "e53df41f",
   "metadata": {
    "execution": {
     "iopub.execute_input": "2022-06-13T12:58:40.351996Z",
     "iopub.status.busy": "2022-06-13T12:58:40.351366Z",
     "iopub.status.idle": "2022-06-13T12:58:40.355544Z",
     "shell.execute_reply": "2022-06-13T12:58:40.354943Z"
    },
    "papermill": {
     "duration": 0.010478,
     "end_time": "2022-06-13T12:58:40.357348",
     "exception": false,
     "start_time": "2022-06-13T12:58:40.346870",
     "status": "completed"
    },
    "tags": []
   },
   "outputs": [],
   "source": [
    "import random\n",
    "import os\n",
    "seed = 42\n",
    "random.seed(seed)\n",
    "np.random.seed(seed)\n",
    "os.environ['PYTHONHASHSEED'] = str(seed)"
   ]
  },
  {
   "cell_type": "code",
   "execution_count": 3,
   "id": "f8a36338",
   "metadata": {
    "execution": {
     "iopub.execute_input": "2022-06-13T12:58:40.365872Z",
     "iopub.status.busy": "2022-06-13T12:58:40.365247Z",
     "iopub.status.idle": "2022-06-13T12:58:40.419708Z",
     "shell.execute_reply": "2022-06-13T12:58:40.418984Z"
    },
    "papermill": {
     "duration": 0.060946,
     "end_time": "2022-06-13T12:58:40.421778",
     "exception": false,
     "start_time": "2022-06-13T12:58:40.360832",
     "status": "completed"
    },
    "tags": []
   },
   "outputs": [],
   "source": [
    "submit = pd.read_csv('../input/2022-ml-finalexam-p3/sample_submit.csv')\n",
    "test = pd.read_csv('../input/2022-ml-finalexam-p3/test.csv')\n",
    "train = pd.read_csv('../input/2022-ml-finalexam-p3/train.csv')"
   ]
  },
  {
   "cell_type": "code",
   "execution_count": 4,
   "id": "bc40cd88",
   "metadata": {
    "execution": {
     "iopub.execute_input": "2022-06-13T12:58:40.430340Z",
     "iopub.status.busy": "2022-06-13T12:58:40.429609Z",
     "iopub.status.idle": "2022-06-13T12:58:40.444272Z",
     "shell.execute_reply": "2022-06-13T12:58:40.443418Z"
    },
    "papermill": {
     "duration": 0.02107,
     "end_time": "2022-06-13T12:58:40.446329",
     "exception": false,
     "start_time": "2022-06-13T12:58:40.425259",
     "status": "completed"
    },
    "tags": []
   },
   "outputs": [],
   "source": [
    "# 식단 관련된 열 따로 저장\n",
    "train_morning = pd.DataFrame(train['조식메뉴'])\n",
    "train_lunch = pd.DataFrame(train['중식메뉴'])\n",
    "train_dinner = pd.DataFrame(train['석식메뉴'])\n",
    "\n",
    "test_morning = pd.DataFrame(test['조식메뉴'])\n",
    "test_lunch = pd.DataFrame(test['중식메뉴'])\n",
    "test_dinner = pd.DataFrame(test['석식메뉴'])"
   ]
  },
  {
   "cell_type": "code",
   "execution_count": 5,
   "id": "df50525c",
   "metadata": {
    "execution": {
     "iopub.execute_input": "2022-06-13T12:58:40.454936Z",
     "iopub.status.busy": "2022-06-13T12:58:40.454192Z",
     "iopub.status.idle": "2022-06-13T12:58:41.462249Z",
     "shell.execute_reply": "2022-06-13T12:58:41.461041Z"
    },
    "papermill": {
     "duration": 1.015072,
     "end_time": "2022-06-13T12:58:41.464920",
     "exception": false,
     "start_time": "2022-06-13T12:58:40.449848",
     "status": "completed"
    },
    "tags": []
   },
   "outputs": [],
   "source": [
    "# 요일 실수화\n",
    "from sklearn.preprocessing import LabelEncoder\n",
    "le = LabelEncoder()\n",
    "train['요일'] = le.fit_transform(train['요일'])\n",
    "test['요일'] = le.transform(test['요일'])"
   ]
  },
  {
   "cell_type": "code",
   "execution_count": 6,
   "id": "6f6d9910",
   "metadata": {
    "execution": {
     "iopub.execute_input": "2022-06-13T12:58:41.473919Z",
     "iopub.status.busy": "2022-06-13T12:58:41.473076Z",
     "iopub.status.idle": "2022-06-13T12:58:41.485396Z",
     "shell.execute_reply": "2022-06-13T12:58:41.484373Z"
    },
    "papermill": {
     "duration": 0.019005,
     "end_time": "2022-06-13T12:58:41.487560",
     "exception": false,
     "start_time": "2022-06-13T12:58:41.468555",
     "status": "completed"
    },
    "tags": []
   },
   "outputs": [],
   "source": [
    "# 쓰지 않는 칼럼 drop. 조식메뉴, 중식메뉴, 석식메뉴는 추후에 변환 후 다시 concat\n",
    "trainX = train.drop(['Unnamed: 0', '일자', '조식메뉴', '중식메뉴', '석식메뉴', '중식계'], axis = 1)\n",
    "trainY = train['중식계']\n",
    "testX = test.drop(['Unnamed: 0', '일자', '조식메뉴', '중식메뉴', '석식메뉴'], axis = 1)"
   ]
  },
  {
   "cell_type": "code",
   "execution_count": 7,
   "id": "9e3d6548",
   "metadata": {
    "execution": {
     "iopub.execute_input": "2022-06-13T12:58:41.495932Z",
     "iopub.status.busy": "2022-06-13T12:58:41.495348Z",
     "iopub.status.idle": "2022-06-13T12:58:41.503494Z",
     "shell.execute_reply": "2022-06-13T12:58:41.502862Z"
    },
    "papermill": {
     "duration": 0.01439,
     "end_time": "2022-06-13T12:58:41.505407",
     "exception": false,
     "start_time": "2022-06-13T12:58:41.491017",
     "status": "completed"
    },
    "tags": []
   },
   "outputs": [],
   "source": [
    "# train 식단 전부 합치기\n",
    "train_menu = pd.concat([train_morning, train_lunch, train_dinner], axis = 1)\n",
    "# test 식단 전부 합치기\n",
    "test_menu = pd.concat([test_morning, test_lunch, test_dinner], axis = 1)\n",
    "# train, test 식단 전부 합치기\n",
    "menu = pd.concat([train_menu, test_menu], axis = 0)"
   ]
  },
  {
   "cell_type": "code",
   "execution_count": 8,
   "id": "1bb90a45",
   "metadata": {
    "execution": {
     "iopub.execute_input": "2022-06-13T12:58:41.513890Z",
     "iopub.status.busy": "2022-06-13T12:58:41.513492Z",
     "iopub.status.idle": "2022-06-13T12:58:41.575053Z",
     "shell.execute_reply": "2022-06-13T12:58:41.574030Z"
    },
    "papermill": {
     "duration": 0.06873,
     "end_time": "2022-06-13T12:58:41.577627",
     "exception": false,
     "start_time": "2022-06-13T12:58:41.508897",
     "status": "completed"
    },
    "tags": []
   },
   "outputs": [],
   "source": [
    "# countvectorizer를 통하여 text data 처리\n",
    "\n",
    "from sklearn.feature_extraction.text import CountVectorizer\n",
    "vectorizer = CountVectorizer(max_features = 100)\n",
    "# 전체 식단으로 fit\n",
    "vectorizer.fit(menu)\n",
    "\n",
    "# train 각각의 식단을 넘파이배열로 변환 후 transform\n",
    "train_morning = vectorizer.transform(np.array(train_morning).flatten())\n",
    "train_lunch = vectorizer.transform(np.array(train_lunch).flatten())\n",
    "train_dinner = vectorizer.transform(np.array(train_dinner).flatten())\n",
    "\n",
    "# 벡터라이저 적용 후 다시 dataframe으로 변환\n",
    "train_morning = pd.DataFrame(train_morning.toarray())\n",
    "train_lunch = pd.DataFrame(train_lunch.toarray())\n",
    "train_dinner = pd.DataFrame(train_dinner.toarray())\n",
    "\n",
    "# test 각각의 식단을 넘파이배열로 변환 후 transform\n",
    "test_morning = vectorizer.transform(np.array(test_morning).flatten())\n",
    "test_lunch = vectorizer.transform(np.array(test_lunch).flatten())\n",
    "test_dinner = vectorizer.transform(np.array(test_dinner).flatten())\n",
    "\n",
    "# 벡터라이저 적용 후 다시 dataframe으로 변환\n",
    "test_morning = pd.DataFrame(test_morning.toarray())\n",
    "test_lunch = pd.DataFrame(test_lunch.toarray())\n",
    "test_dinner = pd.DataFrame(test_dinner.toarray())"
   ]
  },
  {
   "cell_type": "code",
   "execution_count": 9,
   "id": "5d77c66a",
   "metadata": {
    "execution": {
     "iopub.execute_input": "2022-06-13T12:58:41.586029Z",
     "iopub.status.busy": "2022-06-13T12:58:41.585634Z",
     "iopub.status.idle": "2022-06-13T12:58:41.592252Z",
     "shell.execute_reply": "2022-06-13T12:58:41.591589Z"
    },
    "papermill": {
     "duration": 0.012825,
     "end_time": "2022-06-13T12:58:41.593994",
     "exception": false,
     "start_time": "2022-06-13T12:58:41.581169",
     "status": "completed"
    },
    "tags": []
   },
   "outputs": [],
   "source": [
    "# 벡터라이저 변환이 완료된 식단들을 원래 데이터들과 합체\n",
    "trainX = pd.concat([trainX, train_morning, train_lunch, train_dinner], axis = 1)\n",
    "testX = pd.concat([testX, test_morning, test_lunch, test_dinner], axis = 1)"
   ]
  },
  {
   "cell_type": "code",
   "execution_count": 10,
   "id": "1e502d84",
   "metadata": {
    "execution": {
     "iopub.execute_input": "2022-06-13T12:58:41.602457Z",
     "iopub.status.busy": "2022-06-13T12:58:41.601758Z",
     "iopub.status.idle": "2022-06-13T12:58:41.618724Z",
     "shell.execute_reply": "2022-06-13T12:58:41.617673Z"
    },
    "papermill": {
     "duration": 0.023534,
     "end_time": "2022-06-13T12:58:41.620931",
     "exception": false,
     "start_time": "2022-06-13T12:58:41.597397",
     "status": "completed"
    },
    "tags": []
   },
   "outputs": [
    {
     "name": "stderr",
     "output_type": "stream",
     "text": [
      "/opt/conda/lib/python3.7/site-packages/sklearn/utils/validation.py:1692: FutureWarning: Feature names only support names that are all strings. Got feature names with dtypes: ['int', 'str']. An error will be raised in 1.2.\n",
      "  FutureWarning,\n",
      "/opt/conda/lib/python3.7/site-packages/sklearn/utils/validation.py:1692: FutureWarning: Feature names only support names that are all strings. Got feature names with dtypes: ['int', 'str']. An error will be raised in 1.2.\n",
      "  FutureWarning,\n",
      "/opt/conda/lib/python3.7/site-packages/sklearn/utils/validation.py:1692: FutureWarning: Feature names only support names that are all strings. Got feature names with dtypes: ['int', 'str']. An error will be raised in 1.2.\n",
      "  FutureWarning,\n"
     ]
    }
   ],
   "source": [
    "# 표준화\n",
    "from sklearn.preprocessing import StandardScaler\n",
    "scaler = StandardScaler()\n",
    "trainX = scaler.fit_transform(trainX)\n",
    "testX = scaler.transform(testX)"
   ]
  },
  {
   "cell_type": "code",
   "execution_count": 11,
   "id": "62cf325f",
   "metadata": {
    "execution": {
     "iopub.execute_input": "2022-06-13T12:58:41.630456Z",
     "iopub.status.busy": "2022-06-13T12:58:41.630093Z",
     "iopub.status.idle": "2022-06-13T12:58:41.637567Z",
     "shell.execute_reply": "2022-06-13T12:58:41.636664Z"
    },
    "papermill": {
     "duration": 0.01402,
     "end_time": "2022-06-13T12:58:41.639438",
     "exception": false,
     "start_time": "2022-06-13T12:58:41.625418",
     "status": "completed"
    },
    "tags": []
   },
   "outputs": [
    {
     "data": {
      "text/plain": [
       "843"
      ]
     },
     "execution_count": 11,
     "metadata": {},
     "output_type": "execute_result"
    }
   ],
   "source": [
    "trainX.shape[0]"
   ]
  },
  {
   "cell_type": "code",
   "execution_count": 12,
   "id": "baf1e0c7",
   "metadata": {
    "execution": {
     "iopub.execute_input": "2022-06-13T12:58:41.648034Z",
     "iopub.status.busy": "2022-06-13T12:58:41.647631Z",
     "iopub.status.idle": "2022-06-13T12:58:42.178374Z",
     "shell.execute_reply": "2022-06-13T12:58:42.177309Z"
    },
    "papermill": {
     "duration": 0.537608,
     "end_time": "2022-06-13T12:58:42.180670",
     "exception": false,
     "start_time": "2022-06-13T12:58:41.643062",
     "status": "completed"
    },
    "tags": []
   },
   "outputs": [],
   "source": [
    "# randomfrorestregressor 사용\n",
    "from sklearn.ensemble import RandomForestRegressor\n",
    "# 인스턴스 생성\n",
    "rfr = RandomForestRegressor(random_state = seed, max_depth = 10)\n",
    "# train data로 학습\n",
    "rfr.fit(trainX, trainY)\n",
    "# test data를 예측\n",
    "pred = rfr.predict(testX)"
   ]
  },
  {
   "cell_type": "code",
   "execution_count": 13,
   "id": "0dec243e",
   "metadata": {
    "execution": {
     "iopub.execute_input": "2022-06-13T12:58:42.189683Z",
     "iopub.status.busy": "2022-06-13T12:58:42.189310Z",
     "iopub.status.idle": "2022-06-13T12:58:42.198215Z",
     "shell.execute_reply": "2022-06-13T12:58:42.197518Z"
    },
    "papermill": {
     "duration": 0.015668,
     "end_time": "2022-06-13T12:58:42.200097",
     "exception": false,
     "start_time": "2022-06-13T12:58:42.184429",
     "status": "completed"
    },
    "tags": []
   },
   "outputs": [],
   "source": [
    "submit['중식계'] = pred\n",
    "submit.to_csv('submission.csv', index = False)"
   ]
  }
 ],
 "metadata": {
  "kernelspec": {
   "display_name": "Python 3",
   "language": "python",
   "name": "python3"
  },
  "language_info": {
   "codemirror_mode": {
    "name": "ipython",
    "version": 3
   },
   "file_extension": ".py",
   "mimetype": "text/x-python",
   "name": "python",
   "nbconvert_exporter": "python",
   "pygments_lexer": "ipython3",
   "version": "3.7.12"
  },
  "papermill": {
   "default_parameters": {},
   "duration": 10.953146,
   "end_time": "2022-06-13T12:58:42.925337",
   "environment_variables": {},
   "exception": null,
   "input_path": "__notebook__.ipynb",
   "output_path": "__notebook__.ipynb",
   "parameters": {},
   "start_time": "2022-06-13T12:58:31.972191",
   "version": "2.3.4"
  }
 },
 "nbformat": 4,
 "nbformat_minor": 5
}
