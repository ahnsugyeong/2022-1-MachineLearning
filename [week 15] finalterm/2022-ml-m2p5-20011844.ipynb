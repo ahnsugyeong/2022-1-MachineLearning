{
 "cells": [
  {
   "cell_type": "code",
   "execution_count": 1,
   "id": "d628ece1",
   "metadata": {
    "_cell_guid": "b1076dfc-b9ad-4769-8c92-a6c4dae69d19",
    "_uuid": "8f2839f25d086af736a60e9eeb907d3b93b6e0e5",
    "execution": {
     "iopub.execute_input": "2022-06-13T12:43:06.727214Z",
     "iopub.status.busy": "2022-06-13T12:43:06.726525Z",
     "iopub.status.idle": "2022-06-13T12:43:06.739888Z",
     "shell.execute_reply": "2022-06-13T12:43:06.739147Z"
    },
    "papermill": {
     "duration": 0.025497,
     "end_time": "2022-06-13T12:43:06.744509",
     "exception": false,
     "start_time": "2022-06-13T12:43:06.719012",
     "status": "completed"
    },
    "tags": []
   },
   "outputs": [
    {
     "name": "stdout",
     "output_type": "stream",
     "text": [
      "/kaggle/input/2022-ml-finalexam-p5/train.csv\n",
      "/kaggle/input/2022-ml-finalexam-p5/test.csv\n",
      "/kaggle/input/2022-ml-finalexam-p5/sample_submit.csv\n"
     ]
    }
   ],
   "source": [
    "# This Python 3 environment comes with many helpful analytics libraries installed\n",
    "# It is defined by the kaggle/python Docker image: https://github.com/kaggle/docker-python\n",
    "# For example, here's several helpful packages to load\n",
    "\n",
    "import numpy as np # linear algebra\n",
    "import pandas as pd # data processing, CSV file I/O (e.g. pd.read_csv)\n",
    "\n",
    "# Input data files are available in the read-only \"../input/\" directory\n",
    "# For example, running this (by clicking run or pressing Shift+Enter) will list all files under the input directory\n",
    "\n",
    "import os\n",
    "for dirname, _, filenames in os.walk('/kaggle/input'):\n",
    "    for filename in filenames:\n",
    "        print(os.path.join(dirname, filename))\n",
    "\n",
    "# You can write up to 20GB to the current directory (/kaggle/working/) that gets preserved as output when you create a version using \"Save & Run All\" \n",
    "# You can also write temporary files to /kaggle/temp/, but they won't be saved outside of the current session"
   ]
  },
  {
   "cell_type": "code",
   "execution_count": 2,
   "id": "ca599c69",
   "metadata": {
    "execution": {
     "iopub.execute_input": "2022-06-13T12:43:06.755683Z",
     "iopub.status.busy": "2022-06-13T12:43:06.755026Z",
     "iopub.status.idle": "2022-06-13T12:43:06.759656Z",
     "shell.execute_reply": "2022-06-13T12:43:06.759008Z"
    },
    "papermill": {
     "duration": 0.012147,
     "end_time": "2022-06-13T12:43:06.761474",
     "exception": false,
     "start_time": "2022-06-13T12:43:06.749327",
     "status": "completed"
    },
    "tags": []
   },
   "outputs": [],
   "source": [
    "import random\n",
    "import os\n",
    "seed = 42\n",
    "random.seed(seed)\n",
    "np.random.seed(seed)\n",
    "os.environ['PYTHONHASHSEED'] = str(seed)"
   ]
  },
  {
   "cell_type": "code",
   "execution_count": 3,
   "id": "e93e63a5",
   "metadata": {
    "execution": {
     "iopub.execute_input": "2022-06-13T12:43:06.773454Z",
     "iopub.status.busy": "2022-06-13T12:43:06.772773Z",
     "iopub.status.idle": "2022-06-13T12:43:06.801774Z",
     "shell.execute_reply": "2022-06-13T12:43:06.801035Z"
    },
    "papermill": {
     "duration": 0.037534,
     "end_time": "2022-06-13T12:43:06.803915",
     "exception": false,
     "start_time": "2022-06-13T12:43:06.766381",
     "status": "completed"
    },
    "tags": []
   },
   "outputs": [],
   "source": [
    "submit = pd.read_csv('../input/2022-ml-finalexam-p5/sample_submit.csv')\n",
    "train = pd.read_csv('../input/2022-ml-finalexam-p5/train.csv')\n",
    "test = pd.read_csv('../input/2022-ml-finalexam-p5/test.csv')"
   ]
  },
  {
   "cell_type": "code",
   "execution_count": 4,
   "id": "ba5f8fb3",
   "metadata": {
    "execution": {
     "iopub.execute_input": "2022-06-13T12:43:06.815595Z",
     "iopub.status.busy": "2022-06-13T12:43:06.815043Z",
     "iopub.status.idle": "2022-06-13T12:43:06.832570Z",
     "shell.execute_reply": "2022-06-13T12:43:06.831832Z"
    },
    "papermill": {
     "duration": 0.025876,
     "end_time": "2022-06-13T12:43:06.834626",
     "exception": false,
     "start_time": "2022-06-13T12:43:06.808750",
     "status": "completed"
    },
    "tags": []
   },
   "outputs": [],
   "source": [
    "# 필요 없는 열 제거\n",
    "train = train.drop(['PassengerId', 'Name', 'Cabin', 'Ticket'], axis = 1)\n",
    "test = test.drop(['PassengerId', 'Name', 'Cabin', 'Ticket'], axis = 1)\n",
    "\n",
    "# 학습과 라벨 데이터 분리\n",
    "trainX = train.drop(['Survived'], axis = 1)\n",
    "trainY = train['Survived']"
   ]
  },
  {
   "cell_type": "markdown",
   "id": "8eb353d8",
   "metadata": {
    "papermill": {
     "duration": 0.00454,
     "end_time": "2022-06-13T12:43:06.843988",
     "exception": false,
     "start_time": "2022-06-13T12:43:06.839448",
     "status": "completed"
    },
    "tags": []
   },
   "source": [
    "# Age"
   ]
  },
  {
   "cell_type": "code",
   "execution_count": 5,
   "id": "acdd65f1",
   "metadata": {
    "execution": {
     "iopub.execute_input": "2022-06-13T12:43:06.855489Z",
     "iopub.status.busy": "2022-06-13T12:43:06.854943Z",
     "iopub.status.idle": "2022-06-13T12:43:07.996023Z",
     "shell.execute_reply": "2022-06-13T12:43:07.995224Z"
    },
    "papermill": {
     "duration": 1.149394,
     "end_time": "2022-06-13T12:43:07.998260",
     "exception": false,
     "start_time": "2022-06-13T12:43:06.848866",
     "status": "completed"
    },
    "tags": []
   },
   "outputs": [],
   "source": [
    "# imputer 사용하여 nan값 평균으로 채워주기\n",
    "from sklearn.impute import SimpleImputer\n",
    "imp_mean = SimpleImputer(missing_values=np.nan, strategy='mean')\n",
    "test['Age'] = imp_mean.fit_transform(np.array(test['Age']).reshape(-1, 1))\n",
    "trainX['Age'] = imp_mean.transform(np.array(trainX['Age']).reshape(-1, 1))"
   ]
  },
  {
   "cell_type": "markdown",
   "id": "f795c832",
   "metadata": {
    "papermill": {
     "duration": 0.004703,
     "end_time": "2022-06-13T12:43:08.007957",
     "exception": false,
     "start_time": "2022-06-13T12:43:08.003254",
     "status": "completed"
    },
    "tags": []
   },
   "source": [
    "# Sex"
   ]
  },
  {
   "cell_type": "code",
   "execution_count": 6,
   "id": "60fb50c6",
   "metadata": {
    "execution": {
     "iopub.execute_input": "2022-06-13T12:43:08.020012Z",
     "iopub.status.busy": "2022-06-13T12:43:08.019376Z",
     "iopub.status.idle": "2022-06-13T12:43:08.037380Z",
     "shell.execute_reply": "2022-06-13T12:43:08.036595Z"
    },
    "papermill": {
     "duration": 0.02656,
     "end_time": "2022-06-13T12:43:08.039416",
     "exception": false,
     "start_time": "2022-06-13T12:43:08.012856",
     "status": "completed"
    },
    "tags": []
   },
   "outputs": [
    {
     "name": "stderr",
     "output_type": "stream",
     "text": [
      "/opt/conda/lib/python3.7/site-packages/ipykernel_launcher.py:3: SettingWithCopyWarning: \n",
      "A value is trying to be set on a copy of a slice from a DataFrame\n",
      "\n",
      "See the caveats in the documentation: https://pandas.pydata.org/pandas-docs/stable/user_guide/indexing.html#returning-a-view-versus-a-copy\n",
      "  This is separate from the ipykernel package so we can avoid doing imports until\n",
      "/opt/conda/lib/python3.7/site-packages/ipykernel_launcher.py:4: SettingWithCopyWarning: \n",
      "A value is trying to be set on a copy of a slice from a DataFrame\n",
      "\n",
      "See the caveats in the documentation: https://pandas.pydata.org/pandas-docs/stable/user_guide/indexing.html#returning-a-view-versus-a-copy\n",
      "  after removing the cwd from sys.path.\n",
      "/opt/conda/lib/python3.7/site-packages/ipykernel_launcher.py:6: SettingWithCopyWarning: \n",
      "A value is trying to be set on a copy of a slice from a DataFrame\n",
      "\n",
      "See the caveats in the documentation: https://pandas.pydata.org/pandas-docs/stable/user_guide/indexing.html#returning-a-view-versus-a-copy\n",
      "  \n",
      "/opt/conda/lib/python3.7/site-packages/ipykernel_launcher.py:7: SettingWithCopyWarning: \n",
      "A value is trying to be set on a copy of a slice from a DataFrame\n",
      "\n",
      "See the caveats in the documentation: https://pandas.pydata.org/pandas-docs/stable/user_guide/indexing.html#returning-a-view-versus-a-copy\n",
      "  import sys\n"
     ]
    }
   ],
   "source": [
    "# 성별이 남자면 0, 여자면 1로 맵핑해주기\n",
    "\n",
    "trainX['Sex'][trainX['Sex'] == 'male'] = 0\n",
    "trainX['Sex'][trainX['Sex'] == 'female'] = 1\n",
    "\n",
    "test['Sex'][test['Sex'] == 'male'] = 0\n",
    "test['Sex'][test['Sex'] == 'female'] = 1\n",
    "\n",
    "# 정수형으로 변환\n",
    "trainX['Sex'] = trainX['Sex'].astype('int64')\n",
    "test['Sex'] = test['Sex'].astype('int64')"
   ]
  },
  {
   "cell_type": "markdown",
   "id": "fc554cd7",
   "metadata": {
    "papermill": {
     "duration": 0.004575,
     "end_time": "2022-06-13T12:43:08.048829",
     "exception": false,
     "start_time": "2022-06-13T12:43:08.044254",
     "status": "completed"
    },
    "tags": []
   },
   "source": [
    "# Embarked, Cabin"
   ]
  },
  {
   "cell_type": "code",
   "execution_count": 7,
   "id": "de2ca246",
   "metadata": {
    "execution": {
     "iopub.execute_input": "2022-06-13T12:43:08.060558Z",
     "iopub.status.busy": "2022-06-13T12:43:08.059741Z",
     "iopub.status.idle": "2022-06-13T12:43:08.068865Z",
     "shell.execute_reply": "2022-06-13T12:43:08.067951Z"
    },
    "papermill": {
     "duration": 0.017235,
     "end_time": "2022-06-13T12:43:08.070898",
     "exception": false,
     "start_time": "2022-06-13T12:43:08.053663",
     "status": "completed"
    },
    "tags": []
   },
   "outputs": [],
   "source": [
    "from sklearn.preprocessing import LabelEncoder\n",
    "le = LabelEncoder()\n",
    "alldata = pd.concat([trainX, test])\n",
    "\n",
    "# embarked 실수화시키기. 전체 데이터로 학습\n",
    "le.fit(alldata['Embarked'])\n",
    "trainX['Embarked'] = le.transform(trainX['Embarked'])\n",
    "test['Embarked'] = le.transform(test['Embarked'])"
   ]
  },
  {
   "cell_type": "code",
   "execution_count": 8,
   "id": "5f552270",
   "metadata": {
    "execution": {
     "iopub.execute_input": "2022-06-13T12:43:08.082217Z",
     "iopub.status.busy": "2022-06-13T12:43:08.081864Z",
     "iopub.status.idle": "2022-06-13T12:43:08.085776Z",
     "shell.execute_reply": "2022-06-13T12:43:08.084822Z"
    },
    "papermill": {
     "duration": 0.011896,
     "end_time": "2022-06-13T12:43:08.087759",
     "exception": false,
     "start_time": "2022-06-13T12:43:08.075863",
     "status": "completed"
    },
    "tags": []
   },
   "outputs": [],
   "source": [
    "# # nan값인 행 drop 시켜주기 -> cabin 열 자체를 drop 시킨 모델의 성능이 더 우수\n",
    "# trainX['Cabin'] = trainX['Cabin'].dropna()\n",
    "# le.fit(alldata['Cabin'])\n",
    "\n",
    "# # 실수화시키기\n",
    "# trainX['Cabin'] = le.transform(trainX['Cabin'])\n",
    "# test['Cabin'] = le.transform(test['Cabin'])"
   ]
  },
  {
   "cell_type": "code",
   "execution_count": 9,
   "id": "a0603dc5",
   "metadata": {
    "execution": {
     "iopub.execute_input": "2022-06-13T12:43:08.098995Z",
     "iopub.status.busy": "2022-06-13T12:43:08.098619Z",
     "iopub.status.idle": "2022-06-13T12:43:08.109656Z",
     "shell.execute_reply": "2022-06-13T12:43:08.108788Z"
    },
    "papermill": {
     "duration": 0.019096,
     "end_time": "2022-06-13T12:43:08.111707",
     "exception": false,
     "start_time": "2022-06-13T12:43:08.092611",
     "status": "completed"
    },
    "tags": []
   },
   "outputs": [],
   "source": [
    "# 표준화 시켜주기\n",
    "from sklearn.preprocessing import StandardScaler\n",
    "scaler = StandardScaler()\n",
    "trainX = scaler.fit_transform(trainX)\n",
    "test = scaler.transform(test)"
   ]
  },
  {
   "cell_type": "code",
   "execution_count": 10,
   "id": "8f9482c0",
   "metadata": {
    "execution": {
     "iopub.execute_input": "2022-06-13T12:43:08.123686Z",
     "iopub.status.busy": "2022-06-13T12:43:08.123112Z",
     "iopub.status.idle": "2022-06-13T12:43:08.340117Z",
     "shell.execute_reply": "2022-06-13T12:43:08.339359Z"
    },
    "papermill": {
     "duration": 0.225606,
     "end_time": "2022-06-13T12:43:08.342323",
     "exception": false,
     "start_time": "2022-06-13T12:43:08.116717",
     "status": "completed"
    },
    "tags": []
   },
   "outputs": [],
   "source": [
    "# randomforestclassifier로 예측\n",
    "from sklearn.ensemble import RandomForestClassifier\n",
    "# 인스턴스 생성\n",
    "rfc = RandomForestClassifier(n_estimators = 50, random_state = seed)\n",
    "# train data로 학습\n",
    "rfc.fit(trainX, trainY)\n",
    "# test 데이터로 예측\n",
    "predict = rfc.predict(test)"
   ]
  },
  {
   "cell_type": "code",
   "execution_count": 11,
   "id": "c5495efd",
   "metadata": {
    "execution": {
     "iopub.execute_input": "2022-06-13T12:43:08.354145Z",
     "iopub.status.busy": "2022-06-13T12:43:08.353621Z",
     "iopub.status.idle": "2022-06-13T12:43:08.356748Z",
     "shell.execute_reply": "2022-06-13T12:43:08.356145Z"
    },
    "papermill": {
     "duration": 0.011197,
     "end_time": "2022-06-13T12:43:08.358599",
     "exception": false,
     "start_time": "2022-06-13T12:43:08.347402",
     "status": "completed"
    },
    "tags": []
   },
   "outputs": [],
   "source": [
    "# from sklearn.svm import SVC -> 성능 별로\n",
    "# svc = SVC(random_state = seed)\n",
    "# svc.fit(trainX, trainY)\n",
    "# predict = svc.predict(test)"
   ]
  },
  {
   "cell_type": "code",
   "execution_count": 12,
   "id": "0c1fb796",
   "metadata": {
    "execution": {
     "iopub.execute_input": "2022-06-13T12:43:08.370595Z",
     "iopub.status.busy": "2022-06-13T12:43:08.370079Z",
     "iopub.status.idle": "2022-06-13T12:43:08.377607Z",
     "shell.execute_reply": "2022-06-13T12:43:08.376846Z"
    },
    "papermill": {
     "duration": 0.016131,
     "end_time": "2022-06-13T12:43:08.379715",
     "exception": false,
     "start_time": "2022-06-13T12:43:08.363584",
     "status": "completed"
    },
    "tags": []
   },
   "outputs": [],
   "source": [
    "submit['Survived'] = predict\n",
    "submit.to_csv('submission.csv', index = False)"
   ]
  }
 ],
 "metadata": {
  "kernelspec": {
   "display_name": "Python 3",
   "language": "python",
   "name": "python3"
  },
  "language_info": {
   "codemirror_mode": {
    "name": "ipython",
    "version": 3
   },
   "file_extension": ".py",
   "mimetype": "text/x-python",
   "name": "python",
   "nbconvert_exporter": "python",
   "pygments_lexer": "ipython3",
   "version": "3.7.12"
  },
  "papermill": {
   "default_parameters": {},
   "duration": 12.038365,
   "end_time": "2022-06-13T12:43:09.105743",
   "environment_variables": {},
   "exception": null,
   "input_path": "__notebook__.ipynb",
   "output_path": "__notebook__.ipynb",
   "parameters": {},
   "start_time": "2022-06-13T12:42:57.067378",
   "version": "2.3.4"
  }
 },
 "nbformat": 4,
 "nbformat_minor": 5
}
