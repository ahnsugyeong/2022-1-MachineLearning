{
 "cells": [
  {
   "cell_type": "code",
   "execution_count": 1,
   "id": "84b69a4b",
   "metadata": {
    "_cell_guid": "b1076dfc-b9ad-4769-8c92-a6c4dae69d19",
    "_uuid": "8f2839f25d086af736a60e9eeb907d3b93b6e0e5",
    "execution": {
     "iopub.execute_input": "2022-06-07T00:52:02.318692Z",
     "iopub.status.busy": "2022-06-07T00:52:02.317541Z",
     "iopub.status.idle": "2022-06-07T00:52:02.332688Z",
     "shell.execute_reply": "2022-06-07T00:52:02.331746Z"
    },
    "papermill": {
     "duration": 0.026205,
     "end_time": "2022-06-07T00:52:02.337178",
     "exception": false,
     "start_time": "2022-06-07T00:52:02.310973",
     "status": "completed"
    },
    "tags": []
   },
   "outputs": [
    {
     "name": "stdout",
     "output_type": "stream",
     "text": [
      "/kaggle/input/2022-ml-w13p2/train.csv\n",
      "/kaggle/input/2022-ml-w13p2/test.csv\n",
      "/kaggle/input/2022-ml-w13p2/sample_submit.csv\n"
     ]
    }
   ],
   "source": [
    "# This Python 3 environment comes with many helpful analytics libraries installed\n",
    "# It is defined by the kaggle/python Docker image: https://github.com/kaggle/docker-python\n",
    "# For example, here's several helpful packages to load\n",
    "\n",
    "import numpy as np # linear algebra\n",
    "import pandas as pd # data processing, CSV file I/O (e.g. pd.read_csv)\n",
    "\n",
    "# Input data files are available in the read-only \"../input/\" directory\n",
    "# For example, running this (by clicking run or pressing Shift+Enter) will list all files under the input directory\n",
    "\n",
    "import os\n",
    "for dirname, _, filenames in os.walk('/kaggle/input'):\n",
    "    for filename in filenames:\n",
    "        print(os.path.join(dirname, filename))\n",
    "\n",
    "# You can write up to 20GB to the current directory (/kaggle/working/) that gets preserved as output when you create a version using \"Save & Run All\" \n",
    "# You can also write temporary files to /kaggle/temp/, but they won't be saved outside of the current session"
   ]
  },
  {
   "cell_type": "code",
   "execution_count": 2,
   "id": "83015369",
   "metadata": {
    "execution": {
     "iopub.execute_input": "2022-06-07T00:52:02.347811Z",
     "iopub.status.busy": "2022-06-07T00:52:02.347471Z",
     "iopub.status.idle": "2022-06-07T00:52:02.419285Z",
     "shell.execute_reply": "2022-06-07T00:52:02.418547Z"
    },
    "papermill": {
     "duration": 0.078999,
     "end_time": "2022-06-07T00:52:02.421315",
     "exception": false,
     "start_time": "2022-06-07T00:52:02.342316",
     "status": "completed"
    },
    "tags": []
   },
   "outputs": [],
   "source": [
    "train = pd.read_csv('../input/2022-ml-w13p2/train.csv')\n",
    "test = pd.read_csv('../input/2022-ml-w13p2/test.csv')\n",
    "sample_submit = pd.read_csv('../input/2022-ml-w13p2/sample_submit.csv')"
   ]
  },
  {
   "cell_type": "code",
   "execution_count": 3,
   "id": "3e9c72e5",
   "metadata": {
    "execution": {
     "iopub.execute_input": "2022-06-07T00:52:02.432144Z",
     "iopub.status.busy": "2022-06-07T00:52:02.431379Z",
     "iopub.status.idle": "2022-06-07T00:52:02.446989Z",
     "shell.execute_reply": "2022-06-07T00:52:02.446240Z"
    },
    "papermill": {
     "duration": 0.023282,
     "end_time": "2022-06-07T00:52:02.449276",
     "exception": false,
     "start_time": "2022-06-07T00:52:02.425994",
     "status": "completed"
    },
    "tags": []
   },
   "outputs": [],
   "source": [
    "x_train = train.drop(['Churn'], axis = 1)\n",
    "y_train = train['Churn']\n",
    "x_test = test"
   ]
  },
  {
   "cell_type": "code",
   "execution_count": 4,
   "id": "eb96f60f",
   "metadata": {
    "execution": {
     "iopub.execute_input": "2022-06-07T00:52:02.459872Z",
     "iopub.status.busy": "2022-06-07T00:52:02.459423Z",
     "iopub.status.idle": "2022-06-07T00:52:02.467898Z",
     "shell.execute_reply": "2022-06-07T00:52:02.467194Z"
    },
    "papermill": {
     "duration": 0.015928,
     "end_time": "2022-06-07T00:52:02.469846",
     "exception": false,
     "start_time": "2022-06-07T00:52:02.453918",
     "status": "completed"
    },
    "tags": []
   },
   "outputs": [],
   "source": [
    "x_train = x_train.drop(['index', 'Unnamed: 0', 'customerID'], axis = 1)\n",
    "x_test = x_test.drop(['index', 'Unnamed: 0', 'customerID'], axis = 1)"
   ]
  },
  {
   "cell_type": "code",
   "execution_count": 5,
   "id": "ad43de93",
   "metadata": {
    "execution": {
     "iopub.execute_input": "2022-06-07T00:52:02.480094Z",
     "iopub.status.busy": "2022-06-07T00:52:02.479381Z",
     "iopub.status.idle": "2022-06-07T00:52:02.493058Z",
     "shell.execute_reply": "2022-06-07T00:52:02.492463Z"
    },
    "papermill": {
     "duration": 0.020595,
     "end_time": "2022-06-07T00:52:02.494874",
     "exception": false,
     "start_time": "2022-06-07T00:52:02.474279",
     "status": "completed"
    },
    "tags": []
   },
   "outputs": [
    {
     "data": {
      "text/html": [
       "<div>\n",
       "<style scoped>\n",
       "    .dataframe tbody tr th:only-of-type {\n",
       "        vertical-align: middle;\n",
       "    }\n",
       "\n",
       "    .dataframe tbody tr th {\n",
       "        vertical-align: top;\n",
       "    }\n",
       "\n",
       "    .dataframe thead th {\n",
       "        text-align: right;\n",
       "    }\n",
       "</style>\n",
       "<table border=\"1\" class=\"dataframe\">\n",
       "  <thead>\n",
       "    <tr style=\"text-align: right;\">\n",
       "      <th></th>\n",
       "      <th>Churn</th>\n",
       "    </tr>\n",
       "  </thead>\n",
       "  <tbody>\n",
       "    <tr>\n",
       "      <th>0</th>\n",
       "      <td>No</td>\n",
       "    </tr>\n",
       "    <tr>\n",
       "      <th>1</th>\n",
       "      <td>No</td>\n",
       "    </tr>\n",
       "    <tr>\n",
       "      <th>2</th>\n",
       "      <td>Yes</td>\n",
       "    </tr>\n",
       "    <tr>\n",
       "      <th>3</th>\n",
       "      <td>No</td>\n",
       "    </tr>\n",
       "    <tr>\n",
       "      <th>4</th>\n",
       "      <td>No</td>\n",
       "    </tr>\n",
       "  </tbody>\n",
       "</table>\n",
       "</div>"
      ],
      "text/plain": [
       "  Churn\n",
       "0    No\n",
       "1    No\n",
       "2   Yes\n",
       "3    No\n",
       "4    No"
      ]
     },
     "execution_count": 5,
     "metadata": {},
     "output_type": "execute_result"
    }
   ],
   "source": [
    "y_train = pd.DataFrame(y_train)\n",
    "y_train.head(5)"
   ]
  },
  {
   "cell_type": "code",
   "execution_count": 6,
   "id": "519cbb77",
   "metadata": {
    "execution": {
     "iopub.execute_input": "2022-06-07T00:52:02.505615Z",
     "iopub.status.busy": "2022-06-07T00:52:02.504943Z",
     "iopub.status.idle": "2022-06-07T00:52:02.511599Z",
     "shell.execute_reply": "2022-06-07T00:52:02.511017Z"
    },
    "papermill": {
     "duration": 0.013703,
     "end_time": "2022-06-07T00:52:02.513239",
     "exception": false,
     "start_time": "2022-06-07T00:52:02.499536",
     "status": "completed"
    },
    "tags": []
   },
   "outputs": [],
   "source": [
    "y_train[(y_train['Churn'] == 'No')] = 0\n",
    "y_train[(y_train['Churn'] == 'Yes')] = 1"
   ]
  },
  {
   "cell_type": "code",
   "execution_count": 7,
   "id": "0861f873",
   "metadata": {
    "execution": {
     "iopub.execute_input": "2022-06-07T00:52:02.523875Z",
     "iopub.status.busy": "2022-06-07T00:52:02.523313Z",
     "iopub.status.idle": "2022-06-07T00:52:02.528216Z",
     "shell.execute_reply": "2022-06-07T00:52:02.527659Z"
    },
    "papermill": {
     "duration": 0.012078,
     "end_time": "2022-06-07T00:52:02.529865",
     "exception": false,
     "start_time": "2022-06-07T00:52:02.517787",
     "status": "completed"
    },
    "tags": []
   },
   "outputs": [],
   "source": [
    "y_train['Churn'] = y_train['Churn'].astype('int64')"
   ]
  },
  {
   "cell_type": "code",
   "execution_count": 8,
   "id": "b23ba954",
   "metadata": {
    "execution": {
     "iopub.execute_input": "2022-06-07T00:52:02.540325Z",
     "iopub.status.busy": "2022-06-07T00:52:02.539814Z",
     "iopub.status.idle": "2022-06-07T00:52:03.485703Z",
     "shell.execute_reply": "2022-06-07T00:52:03.484893Z"
    },
    "papermill": {
     "duration": 0.953766,
     "end_time": "2022-06-07T00:52:03.488079",
     "exception": false,
     "start_time": "2022-06-07T00:52:02.534313",
     "status": "completed"
    },
    "tags": []
   },
   "outputs": [],
   "source": [
    "from sklearn.preprocessing import LabelEncoder\n",
    "\n",
    "columns = ['gender', 'Partner', 'Dependents', 'tenure', \n",
    "           'PhoneService', 'MultipleLines', 'InternetService', 'OnlineSecurity', \n",
    "           'OnlineBackup', 'DeviceProtection', 'TechSupport', 'StreamingTV', \n",
    "           'StreamingMovies', 'Contract', 'PaperlessBilling', 'PaymentMethod']\n",
    "\n",
    "for column in columns:\n",
    "    le = LabelEncoder()\n",
    "    x_train[column] = le.fit_transform(x_train[column].values)\n",
    "    x_test[column] = le.transform(x_test[column].values)"
   ]
  },
  {
   "cell_type": "code",
   "execution_count": 9,
   "id": "6c63cf17",
   "metadata": {
    "execution": {
     "iopub.execute_input": "2022-06-07T00:52:03.498887Z",
     "iopub.status.busy": "2022-06-07T00:52:03.498491Z",
     "iopub.status.idle": "2022-06-07T00:52:03.507348Z",
     "shell.execute_reply": "2022-06-07T00:52:03.506703Z"
    },
    "papermill": {
     "duration": 0.016267,
     "end_time": "2022-06-07T00:52:03.509053",
     "exception": false,
     "start_time": "2022-06-07T00:52:03.492786",
     "status": "completed"
    },
    "tags": []
   },
   "outputs": [
    {
     "data": {
      "text/plain": [
       "Int64Index([280, 512, 2213, 2470, 2617, 3457, 4297, 4303, 4555, 4759], dtype='int64')"
      ]
     },
     "execution_count": 9,
     "metadata": {},
     "output_type": "execute_result"
    }
   ],
   "source": [
    "drop_idx = x_train[x_train['TotalCharges'] == ' '].index\n",
    "drop_idx"
   ]
  },
  {
   "cell_type": "code",
   "execution_count": 10,
   "id": "739de74e",
   "metadata": {
    "execution": {
     "iopub.execute_input": "2022-06-07T00:52:03.520357Z",
     "iopub.status.busy": "2022-06-07T00:52:03.519812Z",
     "iopub.status.idle": "2022-06-07T00:52:03.526184Z",
     "shell.execute_reply": "2022-06-07T00:52:03.525600Z"
    },
    "papermill": {
     "duration": 0.014136,
     "end_time": "2022-06-07T00:52:03.528099",
     "exception": false,
     "start_time": "2022-06-07T00:52:03.513963",
     "status": "completed"
    },
    "tags": []
   },
   "outputs": [],
   "source": [
    "x_train = x_train.drop(drop_idx, axis = 0)\n",
    "y_train = y_train.drop(drop_idx, axis = 0)"
   ]
  },
  {
   "cell_type": "code",
   "execution_count": 11,
   "id": "0e5d2a87",
   "metadata": {
    "execution": {
     "iopub.execute_input": "2022-06-07T00:52:03.539112Z",
     "iopub.status.busy": "2022-06-07T00:52:03.538671Z",
     "iopub.status.idle": "2022-06-07T00:52:03.543772Z",
     "shell.execute_reply": "2022-06-07T00:52:03.543173Z"
    },
    "papermill": {
     "duration": 0.012416,
     "end_time": "2022-06-07T00:52:03.545427",
     "exception": false,
     "start_time": "2022-06-07T00:52:03.533011",
     "status": "completed"
    },
    "tags": []
   },
   "outputs": [],
   "source": [
    "x_train['TotalCharges'] = x_train['TotalCharges'].astype('float64')"
   ]
  },
  {
   "cell_type": "code",
   "execution_count": 12,
   "id": "7f130e90",
   "metadata": {
    "execution": {
     "iopub.execute_input": "2022-06-07T00:52:03.556394Z",
     "iopub.status.busy": "2022-06-07T00:52:03.555745Z",
     "iopub.status.idle": "2022-06-07T00:52:03.823932Z",
     "shell.execute_reply": "2022-06-07T00:52:03.822820Z"
    },
    "papermill": {
     "duration": 0.277177,
     "end_time": "2022-06-07T00:52:03.827280",
     "exception": false,
     "start_time": "2022-06-07T00:52:03.550103",
     "status": "completed"
    },
    "tags": []
   },
   "outputs": [],
   "source": [
    "from sklearn.linear_model import LogisticRegression\n",
    "clf = LogisticRegression(max_iter = 1000)\n",
    "clf.fit(x_train, y_train['Churn'])\n",
    "y_test = clf.predict(x_test)"
   ]
  },
  {
   "cell_type": "code",
   "execution_count": 13,
   "id": "c35aa555",
   "metadata": {
    "execution": {
     "iopub.execute_input": "2022-06-07T00:52:03.847118Z",
     "iopub.status.busy": "2022-06-07T00:52:03.846448Z",
     "iopub.status.idle": "2022-06-07T00:52:03.861611Z",
     "shell.execute_reply": "2022-06-07T00:52:03.860640Z"
    },
    "papermill": {
     "duration": 0.028518,
     "end_time": "2022-06-07T00:52:03.864708",
     "exception": false,
     "start_time": "2022-06-07T00:52:03.836190",
     "status": "completed"
    },
    "tags": []
   },
   "outputs": [],
   "source": [
    "sample_submit['Churn'] = y_test\n",
    "sample_submit.to_csv('submission.csv', index = False)"
   ]
  },
  {
   "cell_type": "code",
   "execution_count": null,
   "id": "5c2ac848",
   "metadata": {
    "papermill": {
     "duration": 0.007671,
     "end_time": "2022-06-07T00:52:03.881034",
     "exception": false,
     "start_time": "2022-06-07T00:52:03.873363",
     "status": "completed"
    },
    "tags": []
   },
   "outputs": [],
   "source": []
  }
 ],
 "metadata": {
  "kernelspec": {
   "display_name": "Python 3",
   "language": "python",
   "name": "python3"
  },
  "language_info": {
   "codemirror_mode": {
    "name": "ipython",
    "version": 3
   },
   "file_extension": ".py",
   "mimetype": "text/x-python",
   "name": "python",
   "nbconvert_exporter": "python",
   "pygments_lexer": "ipython3",
   "version": "3.7.12"
  },
  "papermill": {
   "default_parameters": {},
   "duration": 10.914229,
   "end_time": "2022-06-07T00:52:04.515437",
   "environment_variables": {},
   "exception": null,
   "input_path": "__notebook__.ipynb",
   "output_path": "__notebook__.ipynb",
   "parameters": {},
   "start_time": "2022-06-07T00:51:53.601208",
   "version": "2.3.4"
  }
 },
 "nbformat": 4,
 "nbformat_minor": 5
}
