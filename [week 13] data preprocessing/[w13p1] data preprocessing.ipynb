{
 "cells": [
  {
   "cell_type": "code",
   "execution_count": 1,
   "id": "233d8714",
   "metadata": {
    "_cell_guid": "b1076dfc-b9ad-4769-8c92-a6c4dae69d19",
    "_uuid": "8f2839f25d086af736a60e9eeb907d3b93b6e0e5",
    "execution": {
     "iopub.execute_input": "2022-06-07T00:36:46.834057Z",
     "iopub.status.busy": "2022-06-07T00:36:46.833632Z",
     "iopub.status.idle": "2022-06-07T00:36:46.847892Z",
     "shell.execute_reply": "2022-06-07T00:36:46.845250Z"
    },
    "papermill": {
     "duration": 0.02455,
     "end_time": "2022-06-07T00:36:46.852130",
     "exception": false,
     "start_time": "2022-06-07T00:36:46.827580",
     "status": "completed"
    },
    "tags": []
   },
   "outputs": [
    {
     "name": "stdout",
     "output_type": "stream",
     "text": [
      "/kaggle/input/2022-ml-w13p1/train.csv\n",
      "/kaggle/input/2022-ml-w13p1/test.csv\n",
      "/kaggle/input/2022-ml-w13p1/sample_submit.csv\n"
     ]
    }
   ],
   "source": [
    "# This Python 3 environment comes with many helpful analytics libraries installed\n",
    "# It is defined by the kaggle/python Docker image: https://github.com/kaggle/docker-python\n",
    "# For example, here's several helpful packages to load\n",
    "\n",
    "import numpy as np # linear algebra\n",
    "import pandas as pd # data processing, CSV file I/O (e.g. pd.read_csv)\n",
    "\n",
    "# Input data files are available in the read-only \"../input/\" directory\n",
    "# For example, running this (by clicking run or pressing Shift+Enter) will list all files under the input directory\n",
    "\n",
    "import os\n",
    "for dirname, _, filenames in os.walk('/kaggle/input'):\n",
    "    for filename in filenames:\n",
    "        print(os.path.join(dirname, filename))\n",
    "\n",
    "# You can write up to 20GB to the current directory (/kaggle/working/) that gets preserved as output when you create a version using \"Save & Run All\" \n",
    "# You can also write temporary files to /kaggle/temp/, but they won't be saved outside of the current session"
   ]
  },
  {
   "cell_type": "code",
   "execution_count": 2,
   "id": "8d5b6c80",
   "metadata": {
    "execution": {
     "iopub.execute_input": "2022-06-07T00:36:46.861724Z",
     "iopub.status.busy": "2022-06-07T00:36:46.860987Z",
     "iopub.status.idle": "2022-06-07T00:36:46.949843Z",
     "shell.execute_reply": "2022-06-07T00:36:46.948756Z"
    },
    "papermill": {
     "duration": 0.0962,
     "end_time": "2022-06-07T00:36:46.952317",
     "exception": false,
     "start_time": "2022-06-07T00:36:46.856117",
     "status": "completed"
    },
    "tags": []
   },
   "outputs": [],
   "source": [
    "sample_submit = pd.read_csv('../input/2022-ml-w13p1/sample_submit.csv')\n",
    "train = pd.read_csv('../input/2022-ml-w13p1/train.csv')\n",
    "test = pd.read_csv('../input/2022-ml-w13p1/test.csv')"
   ]
  },
  {
   "cell_type": "code",
   "execution_count": 3,
   "id": "6d9d8d1e",
   "metadata": {
    "execution": {
     "iopub.execute_input": "2022-06-07T00:36:46.961649Z",
     "iopub.status.busy": "2022-06-07T00:36:46.961098Z",
     "iopub.status.idle": "2022-06-07T00:36:46.976686Z",
     "shell.execute_reply": "2022-06-07T00:36:46.975492Z"
    },
    "papermill": {
     "duration": 0.022751,
     "end_time": "2022-06-07T00:36:46.978986",
     "exception": false,
     "start_time": "2022-06-07T00:36:46.956235",
     "status": "completed"
    },
    "tags": []
   },
   "outputs": [],
   "source": [
    "x_train = train.drop(['index', 'enrollee_id', 'city'], axis = 1)\n",
    "x_test = test.drop(['index', 'enrollee_id', 'city'], axis = 1)"
   ]
  },
  {
   "cell_type": "code",
   "execution_count": 4,
   "id": "7686c4f2",
   "metadata": {
    "execution": {
     "iopub.execute_input": "2022-06-07T00:36:46.990268Z",
     "iopub.status.busy": "2022-06-07T00:36:46.988874Z",
     "iopub.status.idle": "2022-06-07T00:36:47.001851Z",
     "shell.execute_reply": "2022-06-07T00:36:47.001012Z"
    },
    "papermill": {
     "duration": 0.020215,
     "end_time": "2022-06-07T00:36:47.004032",
     "exception": false,
     "start_time": "2022-06-07T00:36:46.983817",
     "status": "completed"
    },
    "tags": []
   },
   "outputs": [],
   "source": [
    "x_train = x_train.drop('target', axis = 1)\n",
    "y_train = train['target']"
   ]
  },
  {
   "cell_type": "code",
   "execution_count": 5,
   "id": "16432d64",
   "metadata": {
    "execution": {
     "iopub.execute_input": "2022-06-07T00:36:47.014684Z",
     "iopub.status.busy": "2022-06-07T00:36:47.013903Z",
     "iopub.status.idle": "2022-06-07T00:36:48.123983Z",
     "shell.execute_reply": "2022-06-07T00:36:48.122846Z"
    },
    "papermill": {
     "duration": 1.118119,
     "end_time": "2022-06-07T00:36:48.126997",
     "exception": false,
     "start_time": "2022-06-07T00:36:47.008878",
     "status": "completed"
    },
    "tags": []
   },
   "outputs": [],
   "source": [
    "from sklearn.preprocessing import LabelEncoder\n",
    "x_data = pd.concat([x_train, x_test], axis = 0)\n",
    "\n",
    "# gender\n",
    "le = LabelEncoder()\n",
    "le.fit(x_data['gender'])\n",
    "x_train['gender'] = le.transform(x_train['gender'])\n",
    "x_test['gender'] = le.transform(x_test['gender'])\n",
    "\n",
    "# relevent_experience\n",
    "le = LabelEncoder()\n",
    "le.fit(x_data['relevent_experience'])\n",
    "x_train['relevent_experience'] = le.transform(x_train['relevent_experience'])\n",
    "x_test['relevent_experience'] = le.transform(x_test['relevent_experience'])\n",
    "\n",
    "# enrolled_university\n",
    "le = LabelEncoder()\n",
    "le.fit(x_data['enrolled_university'])\n",
    "x_train['enrolled_university'] = le.transform(x_train['enrolled_university'])\n",
    "x_test['enrolled_university'] = le.transform(x_test['enrolled_university'])\n",
    "\n",
    "# education_level\n",
    "le = LabelEncoder()\n",
    "le.fit(x_data['education_level'])\n",
    "x_train['education_level'] = le.transform(x_train['education_level'])\n",
    "x_test['education_level'] = le.transform(x_test['education_level'])\n",
    "\n",
    "# major_discipline\n",
    "le = LabelEncoder()\n",
    "le.fit(x_data['major_discipline'])\n",
    "x_train['major_discipline'] = le.transform(x_train['major_discipline'])\n",
    "x_test['major_discipline'] = le.transform(x_test['major_discipline'])\n",
    "\n",
    "# company_type\n",
    "le = LabelEncoder()\n",
    "le.fit(x_data['company_type'])\n",
    "x_train['company_type'] = le.transform(x_train['company_type'])\n",
    "x_test['company_type'] = le.transform(x_test['company_type'])"
   ]
  },
  {
   "cell_type": "code",
   "execution_count": 6,
   "id": "06dfc3cd",
   "metadata": {
    "execution": {
     "iopub.execute_input": "2022-06-07T00:36:48.136182Z",
     "iopub.status.busy": "2022-06-07T00:36:48.135778Z",
     "iopub.status.idle": "2022-06-07T00:36:48.155438Z",
     "shell.execute_reply": "2022-06-07T00:36:48.154312Z"
    },
    "papermill": {
     "duration": 0.026748,
     "end_time": "2022-06-07T00:36:48.157637",
     "exception": false,
     "start_time": "2022-06-07T00:36:48.130889",
     "status": "completed"
    },
    "tags": []
   },
   "outputs": [],
   "source": [
    "xx = x_train['experience'].copy()\n",
    "\n",
    "xx[xx == '>20'] = 21\n",
    "xx[xx == '<1'] = 0\n",
    "xx[xx.isnull()] = -1\n",
    "\n",
    "x_train['experience'] = xx.astype('int64')"
   ]
  },
  {
   "cell_type": "code",
   "execution_count": 7,
   "id": "42adbea3",
   "metadata": {
    "execution": {
     "iopub.execute_input": "2022-06-07T00:36:48.166933Z",
     "iopub.status.busy": "2022-06-07T00:36:48.166517Z",
     "iopub.status.idle": "2022-06-07T00:36:48.179990Z",
     "shell.execute_reply": "2022-06-07T00:36:48.179118Z"
    },
    "papermill": {
     "duration": 0.020749,
     "end_time": "2022-06-07T00:36:48.182045",
     "exception": false,
     "start_time": "2022-06-07T00:36:48.161296",
     "status": "completed"
    },
    "tags": []
   },
   "outputs": [],
   "source": [
    "xx = x_test['experience'].copy()\n",
    "\n",
    "xx[xx == '>20'] = 21\n",
    "xx[xx == '<1'] = 0\n",
    "xx[xx.isnull()] = -1\n",
    "\n",
    "x_test['experience'] = xx.astype('int64')"
   ]
  },
  {
   "cell_type": "code",
   "execution_count": 8,
   "id": "0c615141",
   "metadata": {
    "execution": {
     "iopub.execute_input": "2022-06-07T00:36:48.191535Z",
     "iopub.status.busy": "2022-06-07T00:36:48.190487Z",
     "iopub.status.idle": "2022-06-07T00:36:48.221441Z",
     "shell.execute_reply": "2022-06-07T00:36:48.220347Z"
    },
    "papermill": {
     "duration": 0.038114,
     "end_time": "2022-06-07T00:36:48.223841",
     "exception": false,
     "start_time": "2022-06-07T00:36:48.185727",
     "status": "completed"
    },
    "tags": []
   },
   "outputs": [],
   "source": [
    "xx = x_train['company_size'].copy()\n",
    "\n",
    "xx[xx == '10000+'] = 1\n",
    "xx[xx == '5000-9999'] = 2\n",
    "xx[xx == '1000-4999'] = 3\n",
    "xx[xx == '500-999'] = 4\n",
    "xx[xx == '100-500'] = 5\n",
    "xx[xx == '50-99'] = 6\n",
    "xx[xx == '10/49'] = 7\n",
    "xx[xx == '<10'] = 8\n",
    "xx[xx.isnull()] = -1\n",
    "\n",
    "x_train['company_size'] = xx.astype('int64')"
   ]
  },
  {
   "cell_type": "code",
   "execution_count": 9,
   "id": "66a586ca",
   "metadata": {
    "execution": {
     "iopub.execute_input": "2022-06-07T00:36:48.233275Z",
     "iopub.status.busy": "2022-06-07T00:36:48.232488Z",
     "iopub.status.idle": "2022-06-07T00:36:48.258220Z",
     "shell.execute_reply": "2022-06-07T00:36:48.257040Z"
    },
    "papermill": {
     "duration": 0.032951,
     "end_time": "2022-06-07T00:36:48.260544",
     "exception": false,
     "start_time": "2022-06-07T00:36:48.227593",
     "status": "completed"
    },
    "tags": []
   },
   "outputs": [],
   "source": [
    "xx = x_test['company_size'].copy()\n",
    "\n",
    "xx[xx == '10000+'] = 1\n",
    "xx[xx == '5000-9999'] = 2\n",
    "xx[xx == '1000-4999'] = 3\n",
    "xx[xx == '500-999'] = 4\n",
    "xx[xx == '100-500'] = 5\n",
    "xx[xx == '50-99'] = 6\n",
    "xx[xx == '10/49'] = 7\n",
    "xx[xx == '<10'] = 8\n",
    "xx[xx.isnull()] = -1\n",
    "\n",
    "x_test['company_size'] = xx.astype('int64')"
   ]
  },
  {
   "cell_type": "code",
   "execution_count": 10,
   "id": "cedef821",
   "metadata": {
    "execution": {
     "iopub.execute_input": "2022-06-07T00:36:48.269811Z",
     "iopub.status.busy": "2022-06-07T00:36:48.269414Z",
     "iopub.status.idle": "2022-06-07T00:36:48.297931Z",
     "shell.execute_reply": "2022-06-07T00:36:48.297061Z"
    },
    "papermill": {
     "duration": 0.036043,
     "end_time": "2022-06-07T00:36:48.300253",
     "exception": false,
     "start_time": "2022-06-07T00:36:48.264210",
     "status": "completed"
    },
    "tags": []
   },
   "outputs": [],
   "source": [
    "xx = x_train['last_new_job'].copy()\n",
    "\n",
    "xx[xx == '>4'] = 5\n",
    "xx[xx == '4'] = 4\n",
    "xx[xx == '3'] = 3\n",
    "xx[xx == '2'] = 2\n",
    "xx[xx == '1'] = 1\n",
    "xx[xx == 'never'] = 0\n",
    "xx[xx.isnull()] = -1\n",
    "\n",
    "x_train['last_new_job'] = xx.astype('int64')"
   ]
  },
  {
   "cell_type": "code",
   "execution_count": 11,
   "id": "50359052",
   "metadata": {
    "execution": {
     "iopub.execute_input": "2022-06-07T00:36:48.309563Z",
     "iopub.status.busy": "2022-06-07T00:36:48.309103Z",
     "iopub.status.idle": "2022-06-07T00:36:48.330293Z",
     "shell.execute_reply": "2022-06-07T00:36:48.329406Z"
    },
    "papermill": {
     "duration": 0.028859,
     "end_time": "2022-06-07T00:36:48.332871",
     "exception": false,
     "start_time": "2022-06-07T00:36:48.304012",
     "status": "completed"
    },
    "tags": []
   },
   "outputs": [],
   "source": [
    "xx = x_test['last_new_job'].copy()\n",
    "\n",
    "xx[xx == '>4'] = 5\n",
    "xx[xx == '4'] = 4\n",
    "xx[xx == '3'] = 3\n",
    "xx[xx == '2'] = 2\n",
    "xx[xx == '1'] = 1\n",
    "xx[xx == 'never'] = 0\n",
    "xx[xx.isnull()] = -1\n",
    "\n",
    "x_test['last_new_job'] = xx.astype('int64')"
   ]
  },
  {
   "cell_type": "code",
   "execution_count": 12,
   "id": "4cb55184",
   "metadata": {
    "execution": {
     "iopub.execute_input": "2022-06-07T00:36:48.342523Z",
     "iopub.status.busy": "2022-06-07T00:36:48.342109Z",
     "iopub.status.idle": "2022-06-07T00:36:48.374875Z",
     "shell.execute_reply": "2022-06-07T00:36:48.373430Z"
    },
    "papermill": {
     "duration": 0.041011,
     "end_time": "2022-06-07T00:36:48.377679",
     "exception": false,
     "start_time": "2022-06-07T00:36:48.336668",
     "status": "completed"
    },
    "tags": []
   },
   "outputs": [
    {
     "name": "stdout",
     "output_type": "stream",
     "text": [
      "<class 'pandas.core.frame.DataFrame'>\n",
      "RangeIndex: 15326 entries, 0 to 15325\n",
      "Data columns (total 11 columns):\n",
      " #   Column                  Non-Null Count  Dtype  \n",
      "---  ------                  --------------  -----  \n",
      " 0   city_development_index  15326 non-null  float64\n",
      " 1   gender                  15326 non-null  int64  \n",
      " 2   relevent_experience     15326 non-null  int64  \n",
      " 3   enrolled_university     15326 non-null  int64  \n",
      " 4   education_level         15326 non-null  int64  \n",
      " 5   major_discipline        15326 non-null  int64  \n",
      " 6   experience              15326 non-null  int64  \n",
      " 7   company_size            15326 non-null  int64  \n",
      " 8   company_type            15326 non-null  int64  \n",
      " 9   last_new_job            15326 non-null  int64  \n",
      " 10  training_hours          15326 non-null  int64  \n",
      "dtypes: float64(1), int64(10)\n",
      "memory usage: 1.3 MB\n",
      "<class 'pandas.core.frame.DataFrame'>\n",
      "RangeIndex: 3832 entries, 0 to 3831\n",
      "Data columns (total 11 columns):\n",
      " #   Column                  Non-Null Count  Dtype  \n",
      "---  ------                  --------------  -----  \n",
      " 0   city_development_index  3832 non-null   float64\n",
      " 1   gender                  3832 non-null   int64  \n",
      " 2   relevent_experience     3832 non-null   int64  \n",
      " 3   enrolled_university     3832 non-null   int64  \n",
      " 4   education_level         3832 non-null   int64  \n",
      " 5   major_discipline        3832 non-null   int64  \n",
      " 6   experience              3832 non-null   int64  \n",
      " 7   company_size            3832 non-null   int64  \n",
      " 8   company_type            3832 non-null   int64  \n",
      " 9   last_new_job            3832 non-null   int64  \n",
      " 10  training_hours          3832 non-null   int64  \n",
      "dtypes: float64(1), int64(10)\n",
      "memory usage: 329.4 KB\n"
     ]
    }
   ],
   "source": [
    "x_train.info()\n",
    "x_test.info()"
   ]
  },
  {
   "cell_type": "code",
   "execution_count": 13,
   "id": "6c7ecaa6",
   "metadata": {
    "execution": {
     "iopub.execute_input": "2022-06-07T00:36:48.387736Z",
     "iopub.status.busy": "2022-06-07T00:36:48.387270Z",
     "iopub.status.idle": "2022-06-07T00:36:48.605416Z",
     "shell.execute_reply": "2022-06-07T00:36:48.603647Z"
    },
    "papermill": {
     "duration": 0.230111,
     "end_time": "2022-06-07T00:36:48.612219",
     "exception": false,
     "start_time": "2022-06-07T00:36:48.382108",
     "status": "completed"
    },
    "tags": []
   },
   "outputs": [],
   "source": [
    "from sklearn.discriminant_analysis import QuadraticDiscriminantAnalysis\n",
    "\n",
    "clf = QuadraticDiscriminantAnalysis()\n",
    "clf.fit(x_train, y_train)\n",
    "y_test = clf.predict(x_test)"
   ]
  },
  {
   "cell_type": "code",
   "execution_count": 14,
   "id": "1d8c62f2",
   "metadata": {
    "execution": {
     "iopub.execute_input": "2022-06-07T00:36:48.658340Z",
     "iopub.status.busy": "2022-06-07T00:36:48.657230Z",
     "iopub.status.idle": "2022-06-07T00:36:48.681482Z",
     "shell.execute_reply": "2022-06-07T00:36:48.680270Z"
    },
    "papermill": {
     "duration": 0.036939,
     "end_time": "2022-06-07T00:36:48.685481",
     "exception": false,
     "start_time": "2022-06-07T00:36:48.648542",
     "status": "completed"
    },
    "tags": []
   },
   "outputs": [],
   "source": [
    "sample_submit['target'] = y_test.astype('int64')\n",
    "sample_submit.to_csv('submission.csv', index = False)"
   ]
  }
 ],
 "metadata": {
  "kernelspec": {
   "display_name": "Python 3",
   "language": "python",
   "name": "python3"
  },
  "language_info": {
   "codemirror_mode": {
    "name": "ipython",
    "version": 3
   },
   "file_extension": ".py",
   "mimetype": "text/x-python",
   "name": "python",
   "nbconvert_exporter": "python",
   "pygments_lexer": "ipython3",
   "version": "3.7.12"
  },
  "papermill": {
   "default_parameters": {},
   "duration": 11.348383,
   "end_time": "2022-06-07T00:36:49.420799",
   "environment_variables": {},
   "exception": null,
   "input_path": "__notebook__.ipynb",
   "output_path": "__notebook__.ipynb",
   "parameters": {},
   "start_time": "2022-06-07T00:36:38.072416",
   "version": "2.3.4"
  }
 },
 "nbformat": 4,
 "nbformat_minor": 5
}
