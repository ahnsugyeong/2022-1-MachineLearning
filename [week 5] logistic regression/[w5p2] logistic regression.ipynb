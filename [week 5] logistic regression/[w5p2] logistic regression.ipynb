{
 "cells": [
  {
   "cell_type": "code",
   "execution_count": 1,
   "id": "36864e6d",
   "metadata": {
    "_cell_guid": "b1076dfc-b9ad-4769-8c92-a6c4dae69d19",
    "_uuid": "8f2839f25d086af736a60e9eeb907d3b93b6e0e5",
    "execution": {
     "iopub.execute_input": "2022-04-06T04:46:53.369104Z",
     "iopub.status.busy": "2022-04-06T04:46:53.368433Z",
     "iopub.status.idle": "2022-04-06T04:46:53.374963Z",
     "shell.execute_reply": "2022-04-06T04:46:53.375398Z",
     "shell.execute_reply.started": "2022-04-06T04:16:24.452226Z"
    },
    "papermill": {
     "duration": 0.023742,
     "end_time": "2022-04-06T04:46:53.375738",
     "exception": false,
     "start_time": "2022-04-06T04:46:53.351996",
     "status": "completed"
    },
    "tags": []
   },
   "outputs": [
    {
     "name": "stdout",
     "output_type": "stream",
     "text": [
      "/kaggle/input/2022-ml-w5p2/trainX.csv\n",
      "/kaggle/input/2022-ml-w5p2/testX.csv\n",
      "/kaggle/input/2022-ml-w5p2/trainY.csv\n",
      "/kaggle/input/2022-ml-w5p2/submit.csv\n"
     ]
    }
   ],
   "source": [
    "# This Python 3 environment comes with many helpful analytics libraries installed\n",
    "# It is defined by the kaggle/python Docker image: https://github.com/kaggle/docker-python\n",
    "# For example, here's several helpful packages to load\n",
    "\n",
    "import numpy as np # linear algebra\n",
    "import pandas as pd # data processing, CSV file I/O (e.g. pd.read_csv)\n",
    "\n",
    "# Input data files are available in the read-only \"../input/\" directory\n",
    "# For example, running this (by clicking run or pressing Shift+Enter) will list all files under the input directory\n",
    "\n",
    "import os\n",
    "for dirname, _, filenames in os.walk('/kaggle/input'):\n",
    "    for filename in filenames:\n",
    "        print(os.path.join(dirname, filename))\n",
    "\n",
    "# You can write up to 20GB to the current directory (/kaggle/working/) that gets preserved as output when you create a version using \"Save & Run All\" \n",
    "# You can also write temporary files to /kaggle/temp/, but they won't be saved outside of the current session"
   ]
  },
  {
   "cell_type": "code",
   "execution_count": 2,
   "id": "e6df173c",
   "metadata": {
    "execution": {
     "iopub.execute_input": "2022-04-06T04:46:53.394167Z",
     "iopub.status.busy": "2022-04-06T04:46:53.393269Z",
     "iopub.status.idle": "2022-04-06T04:46:53.397407Z",
     "shell.execute_reply": "2022-04-06T04:46:53.397876Z",
     "shell.execute_reply.started": "2022-04-06T04:16:24.479379Z"
    },
    "papermill": {
     "duration": 0.014487,
     "end_time": "2022-04-06T04:46:53.398028",
     "exception": false,
     "start_time": "2022-04-06T04:46:53.383541",
     "status": "completed"
    },
    "tags": []
   },
   "outputs": [],
   "source": [
    "import random\n",
    "import os\n",
    "seed = 42\n",
    "random.seed(seed)\n",
    "np.random.seed(seed)\n",
    "os.environ[\"PYTHONHASHSEED\"] = str(seed)"
   ]
  },
  {
   "cell_type": "code",
   "execution_count": 3,
   "id": "4b9ff354",
   "metadata": {
    "execution": {
     "iopub.execute_input": "2022-04-06T04:46:53.418415Z",
     "iopub.status.busy": "2022-04-06T04:46:53.417624Z",
     "iopub.status.idle": "2022-04-06T04:46:53.468823Z",
     "shell.execute_reply": "2022-04-06T04:46:53.469524Z",
     "shell.execute_reply.started": "2022-04-06T04:16:24.503599Z"
    },
    "papermill": {
     "duration": 0.064577,
     "end_time": "2022-04-06T04:46:53.469754",
     "exception": false,
     "start_time": "2022-04-06T04:46:53.405177",
     "status": "completed"
    },
    "tags": []
   },
   "outputs": [
    {
     "name": "stdout",
     "output_type": "stream",
     "text": [
      "   id  label\n",
      "0   1    1.0\n",
      "1   2    NaN\n",
      "2   3    NaN\n",
      "3   4    NaN\n",
      "4   5    NaN\n",
      "   sleep_time_mean  sleep_time_std  sleep_time_min  sleep_time_25  \\\n",
      "0         6.574468        1.202257             3.0           6.00   \n",
      "1         5.233333        1.293758             3.5           4.25   \n",
      "2         5.980000        0.620484             4.5           5.50   \n",
      "3         5.735294        0.430562             5.0           5.50   \n",
      "4         6.423077        0.832974             5.0           6.00   \n",
      "\n",
      "   sleep_time_50  sleep_time_75  sleep_time_max  sleep_quality_mean  \\\n",
      "0            6.5           7.00            10.0            2.659574   \n",
      "1            5.0           5.75             8.5            2.375000   \n",
      "2            6.0           6.50             7.0            3.560000   \n",
      "3            5.5           6.00             6.5            2.941176   \n",
      "4            6.5           6.50             8.0            3.384615   \n",
      "\n",
      "   sleep_quality_std  sleep_quality_min  sleep_quality_25  sleep_quality_50  \\\n",
      "0           0.599877                1.0               2.0               3.0   \n",
      "1           1.147461                1.0               1.0               2.5   \n",
      "2           0.711805                2.0               3.0               4.0   \n",
      "3           0.547234                2.0               3.0               3.0   \n",
      "4           0.803837                2.0               3.0               4.0   \n",
      "\n",
      "   sleep_quality_75  sleep_quality_max  \n",
      "0               3.0                4.0  \n",
      "1               3.0                4.0  \n",
      "2               4.0                4.0  \n",
      "3               3.0                4.0  \n",
      "4               4.0                4.0  \n",
      "   sleep_time_mean  sleep_time_std  sleep_time_min  sleep_time_25  \\\n",
      "0         6.250000        0.689202             5.0          6.125   \n",
      "1         6.418182        1.169693             3.0          6.000   \n",
      "2         7.034483        1.127262             5.5          6.500   \n",
      "3         6.453846        1.070642             3.0          6.000   \n",
      "4         5.902439        1.817345             3.5          4.500   \n",
      "\n",
      "   sleep_time_50  sleep_time_75  sleep_time_max  sleep_quality_mean  \\\n",
      "0            6.5           6.50             7.0            3.500000   \n",
      "1            6.5           6.75             9.5            3.345455   \n",
      "2            6.5           8.00            11.0            3.862069   \n",
      "3            6.5           7.00             9.0            3.061538   \n",
      "4            5.5           7.00            10.0            2.975610   \n",
      "\n",
      "   sleep_quality_std  sleep_quality_min  sleep_quality_25  sleep_quality_50  \\\n",
      "0           0.836660                2.0              3.25               4.0   \n",
      "1           0.672700                1.0              3.00               3.0   \n",
      "2           0.347839                3.0              4.00               4.0   \n",
      "3           0.768052                1.0              3.00               3.0   \n",
      "4           0.961452                1.0              2.00               3.0   \n",
      "\n",
      "   sleep_quality_75  sleep_quality_max  \n",
      "0               4.0                4.0  \n",
      "1               4.0                4.0  \n",
      "2               4.0                4.0  \n",
      "3               4.0                4.0  \n",
      "4               4.0                4.0  \n",
      "   label\n",
      "0      0\n",
      "1      0\n",
      "2      0\n",
      "3      1\n",
      "4      0\n"
     ]
    }
   ],
   "source": [
    "sample =  pd.read_csv('../input/2022-ml-w5p2/submit.csv')\n",
    "testX = pd.read_csv('../input/2022-ml-w5p2/testX.csv')\n",
    "trainX = pd.read_csv('../input/2022-ml-w5p2/trainX.csv')\n",
    "trainY = pd.read_csv('../input/2022-ml-w5p2/trainY.csv')\n",
    "\n",
    "print(sample.head())\n",
    "print(testX.head())\n",
    "print(trainX.head())\n",
    "print(trainY.head())"
   ]
  },
  {
   "cell_type": "code",
   "execution_count": 4,
   "id": "f981f020",
   "metadata": {
    "execution": {
     "iopub.execute_input": "2022-04-06T04:46:53.492351Z",
     "iopub.status.busy": "2022-04-06T04:46:53.491542Z",
     "iopub.status.idle": "2022-04-06T04:46:53.493633Z",
     "shell.execute_reply": "2022-04-06T04:46:53.494163Z",
     "shell.execute_reply.started": "2022-04-06T04:16:24.545715Z"
    },
    "papermill": {
     "duration": 0.015889,
     "end_time": "2022-04-06T04:46:53.494309",
     "exception": false,
     "start_time": "2022-04-06T04:46:53.478420",
     "status": "completed"
    },
    "tags": []
   },
   "outputs": [],
   "source": [
    "# flatten 시켜주기\n",
    "trainY = np.array(trainY).reshape(-1)"
   ]
  },
  {
   "cell_type": "code",
   "execution_count": 5,
   "id": "e48f80d3",
   "metadata": {
    "execution": {
     "iopub.execute_input": "2022-04-06T04:46:53.512913Z",
     "iopub.status.busy": "2022-04-06T04:46:53.512041Z",
     "iopub.status.idle": "2022-04-06T04:46:54.672664Z",
     "shell.execute_reply": "2022-04-06T04:46:54.673061Z",
     "shell.execute_reply.started": "2022-04-06T04:24:58.477904Z"
    },
    "papermill": {
     "duration": 1.171404,
     "end_time": "2022-04-06T04:46:54.673224",
     "exception": false,
     "start_time": "2022-04-06T04:46:53.501820",
     "status": "completed"
    },
    "tags": []
   },
   "outputs": [
    {
     "data": {
      "text/plain": [
       "0.7391304347826086"
      ]
     },
     "execution_count": 5,
     "metadata": {},
     "output_type": "execute_result"
    }
   ],
   "source": [
    "# Logistic regression\n",
    "from sklearn.linear_model import LogisticRegression\n",
    "\n",
    "Logit = LogisticRegression(C = 1.0, max_iter = 100, random_state = 42, class_weight = 'balanced', solver = 'lbfgs')\n",
    "l_1 = Logit.fit(trainX, trainY)\n",
    "y_train_pred = Logit.predict(trainX)\n",
    "y_test_pred = Logit.predict(testX)\n",
    "Logit.score(trainX, trainY)"
   ]
  },
  {
   "cell_type": "code",
   "execution_count": 6,
   "id": "52779b8d",
   "metadata": {
    "execution": {
     "iopub.execute_input": "2022-04-06T04:46:54.695056Z",
     "iopub.status.busy": "2022-04-06T04:46:54.694417Z",
     "iopub.status.idle": "2022-04-06T04:46:54.700003Z",
     "shell.execute_reply": "2022-04-06T04:46:54.699492Z",
     "shell.execute_reply.started": "2022-04-06T04:19:54.758158Z"
    },
    "papermill": {
     "duration": 0.018982,
     "end_time": "2022-04-06T04:46:54.700145",
     "exception": false,
     "start_time": "2022-04-06T04:46:54.681163",
     "status": "completed"
    },
    "tags": []
   },
   "outputs": [
    {
     "name": "stdout",
     "output_type": "stream",
     "text": [
      "0.7391304347826086\n"
     ]
    }
   ],
   "source": [
    "#Accuracy score\n",
    "from sklearn.metrics import accuracy_score\n",
    "print(accuracy_score(trainY, y_train_pred))"
   ]
  },
  {
   "cell_type": "code",
   "execution_count": 7,
   "id": "758e8e15",
   "metadata": {
    "execution": {
     "iopub.execute_input": "2022-04-06T04:46:54.720737Z",
     "iopub.status.busy": "2022-04-06T04:46:54.719842Z",
     "iopub.status.idle": "2022-04-06T04:46:54.730451Z",
     "shell.execute_reply": "2022-04-06T04:46:54.731239Z",
     "shell.execute_reply.started": "2022-04-06T04:16:24.781531Z"
    },
    "papermill": {
     "duration": 0.022979,
     "end_time": "2022-04-06T04:46:54.731433",
     "exception": false,
     "start_time": "2022-04-06T04:46:54.708454",
     "status": "completed"
    },
    "tags": []
   },
   "outputs": [],
   "source": [
    "sample['label'] = y_test_pred\n",
    "sample.to_csv('submission.csv', index=False)"
   ]
  },
  {
   "cell_type": "code",
   "execution_count": null,
   "id": "e4472915",
   "metadata": {
    "papermill": {
     "duration": 0.008178,
     "end_time": "2022-04-06T04:46:54.748113",
     "exception": false,
     "start_time": "2022-04-06T04:46:54.739935",
     "status": "completed"
    },
    "tags": []
   },
   "outputs": [],
   "source": []
  }
 ],
 "metadata": {
  "kernelspec": {
   "display_name": "Python 3",
   "language": "python",
   "name": "python3"
  },
  "language_info": {
   "codemirror_mode": {
    "name": "ipython",
    "version": 3
   },
   "file_extension": ".py",
   "mimetype": "text/x-python",
   "name": "python",
   "nbconvert_exporter": "python",
   "pygments_lexer": "ipython3",
   "version": "3.7.12"
  },
  "papermill": {
   "default_parameters": {},
   "duration": 10.597966,
   "end_time": "2022-04-06T04:46:55.467345",
   "environment_variables": {},
   "exception": null,
   "input_path": "__notebook__.ipynb",
   "output_path": "__notebook__.ipynb",
   "parameters": {},
   "start_time": "2022-04-06T04:46:44.869379",
   "version": "2.3.3"
  }
 },
 "nbformat": 4,
 "nbformat_minor": 5
}
