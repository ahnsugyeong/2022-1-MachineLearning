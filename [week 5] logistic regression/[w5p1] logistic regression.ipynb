{
 "cells": [
  {
   "cell_type": "code",
   "execution_count": 1,
   "id": "84425c50",
   "metadata": {
    "_cell_guid": "b1076dfc-b9ad-4769-8c92-a6c4dae69d19",
    "_uuid": "8f2839f25d086af736a60e9eeb907d3b93b6e0e5",
    "execution": {
     "iopub.execute_input": "2022-04-06T04:59:05.536743Z",
     "iopub.status.busy": "2022-04-06T04:59:05.534926Z",
     "iopub.status.idle": "2022-04-06T04:59:05.550129Z",
     "shell.execute_reply": "2022-04-06T04:59:05.550815Z",
     "shell.execute_reply.started": "2022-04-06T04:58:12.544859Z"
    },
    "papermill": {
     "duration": 0.032696,
     "end_time": "2022-04-06T04:59:05.551107",
     "exception": false,
     "start_time": "2022-04-06T04:59:05.518411",
     "status": "completed"
    },
    "tags": []
   },
   "outputs": [
    {
     "name": "stdout",
     "output_type": "stream",
     "text": [
      "/kaggle/input/2022-ml-w5p1/trainX.csv\n",
      "/kaggle/input/2022-ml-w5p1/testX.csv\n",
      "/kaggle/input/2022-ml-w5p1/trainY.csv\n",
      "/kaggle/input/2022-ml-w5p1/submit.csv\n"
     ]
    }
   ],
   "source": [
    "# This Python 3 environment comes with many helpful analytics libraries installed\n",
    "# It is defined by the kaggle/python Docker image: https://github.com/kaggle/docker-python\n",
    "# For example, here's several helpful packages to load\n",
    "\n",
    "import numpy as np # linear algebra\n",
    "import pandas as pd # data processing, CSV file I/O (e.g. pd.read_csv)\n",
    "\n",
    "# Input data files are available in the read-only \"../input/\" directory\n",
    "# For example, running this (by clicking run or pressing Shift+Enter) will list all files under the input directory\n",
    "\n",
    "import os\n",
    "for dirname, _, filenames in os.walk('/kaggle/input'):\n",
    "    for filename in filenames:\n",
    "        print(os.path.join(dirname, filename))\n",
    "\n",
    "# You can write up to 20GB to the current directory (/kaggle/working/) that gets preserved as output when you create a version using \"Save & Run All\" \n",
    "# You can also write temporary files to /kaggle/temp/, but they won't be saved outside of the current session"
   ]
  },
  {
   "cell_type": "code",
   "execution_count": 2,
   "id": "afa89c4a",
   "metadata": {
    "execution": {
     "iopub.execute_input": "2022-04-06T04:59:05.578035Z",
     "iopub.status.busy": "2022-04-06T04:59:05.576987Z",
     "iopub.status.idle": "2022-04-06T04:59:05.581577Z",
     "shell.execute_reply": "2022-04-06T04:59:05.582226Z",
     "shell.execute_reply.started": "2022-04-06T04:58:12.573122Z"
    },
    "papermill": {
     "duration": 0.019276,
     "end_time": "2022-04-06T04:59:05.582422",
     "exception": false,
     "start_time": "2022-04-06T04:59:05.563146",
     "status": "completed"
    },
    "tags": []
   },
   "outputs": [],
   "source": [
    "import random\n",
    "import os\n",
    "seed = 42\n",
    "random.seed(seed)\n",
    "np.random.seed(seed)\n",
    "os.environ[\"PYTHONHASHSEED\"] = str(seed)"
   ]
  },
  {
   "cell_type": "code",
   "execution_count": 3,
   "id": "f15ab482",
   "metadata": {
    "execution": {
     "iopub.execute_input": "2022-04-06T04:59:05.608366Z",
     "iopub.status.busy": "2022-04-06T04:59:05.607703Z",
     "iopub.status.idle": "2022-04-06T04:59:05.831921Z",
     "shell.execute_reply": "2022-04-06T04:59:05.832451Z",
     "shell.execute_reply.started": "2022-04-06T04:58:12.579036Z"
    },
    "papermill": {
     "duration": 0.238599,
     "end_time": "2022-04-06T04:59:05.832664",
     "exception": false,
     "start_time": "2022-04-06T04:59:05.594065",
     "status": "completed"
    },
    "tags": []
   },
   "outputs": [
    {
     "data": {
      "text/plain": [
       "(1500, 64)"
      ]
     },
     "execution_count": 3,
     "metadata": {},
     "output_type": "execute_result"
    }
   ],
   "source": [
    "sample =  pd.read_csv('../input/2022-ml-w5p1/submit.csv')\n",
    "testX = pd.read_csv('../input/2022-ml-w5p1/testX.csv')\n",
    "trainX = pd.read_csv('../input/2022-ml-w5p1/trainX.csv')\n",
    "trainY = pd.read_csv('../input/2022-ml-w5p1/trainY.csv').drop(['Id'], axis=1)\n",
    "\n",
    "# print(sample.head())\n",
    "# print(testX.head())\n",
    "# print(trainX.head())\n",
    "# print(trainY.head())\n",
    "\n",
    "testX.shape"
   ]
  },
  {
   "cell_type": "code",
   "execution_count": 4,
   "id": "e83c8ecc",
   "metadata": {
    "execution": {
     "iopub.execute_input": "2022-04-06T04:59:05.860977Z",
     "iopub.status.busy": "2022-04-06T04:59:05.859935Z",
     "iopub.status.idle": "2022-04-06T04:59:05.866178Z",
     "shell.execute_reply": "2022-04-06T04:59:05.866735Z",
     "shell.execute_reply.started": "2022-04-06T04:58:12.770407Z"
    },
    "papermill": {
     "duration": 0.022076,
     "end_time": "2022-04-06T04:59:05.866906",
     "exception": false,
     "start_time": "2022-04-06T04:59:05.844830",
     "status": "completed"
    },
    "tags": []
   },
   "outputs": [
    {
     "name": "stdout",
     "output_type": "stream",
     "text": [
      "(6000, 1)\n",
      "(6000,)\n",
      "['edge' 'edge' 'edge' ... 'spiral' 'spiral' 'spiral']\n"
     ]
    }
   ],
   "source": [
    "# (6000, 1) -> (6000,)으로 변환시켜주기\n",
    "\n",
    "print(trainY.shape)\n",
    "trainY = np.array(trainY).ravel()\n",
    "#trainY = np.array(trainY).reshape(-1)\n",
    "#trainY = np.array(trainY).flatten()\n",
    "print(trainY.shape)\n",
    "print(trainY)"
   ]
  },
  {
   "cell_type": "code",
   "execution_count": 5,
   "id": "3ca7074e",
   "metadata": {
    "execution": {
     "iopub.execute_input": "2022-04-06T04:59:05.895189Z",
     "iopub.status.busy": "2022-04-06T04:59:05.894193Z",
     "iopub.status.idle": "2022-04-06T04:59:05.899564Z",
     "shell.execute_reply": "2022-04-06T04:59:05.900211Z",
     "shell.execute_reply.started": "2022-04-06T04:58:12.778450Z"
    },
    "papermill": {
     "duration": 0.020926,
     "end_time": "2022-04-06T04:59:05.900396",
     "exception": false,
     "start_time": "2022-04-06T04:59:05.879470",
     "status": "completed"
    },
    "tags": []
   },
   "outputs": [
    {
     "data": {
      "text/plain": [
       "array(['edge', 'edge', 'edge', ..., 'spiral', 'spiral', 'spiral'],\n",
       "      dtype=object)"
      ]
     },
     "execution_count": 5,
     "metadata": {},
     "output_type": "execute_result"
    }
   ],
   "source": [
    "trainY"
   ]
  },
  {
   "cell_type": "code",
   "execution_count": 6,
   "id": "bb9a9d96",
   "metadata": {
    "execution": {
     "iopub.execute_input": "2022-04-06T04:59:05.928939Z",
     "iopub.status.busy": "2022-04-06T04:59:05.927917Z",
     "iopub.status.idle": "2022-04-06T04:59:07.677591Z",
     "shell.execute_reply": "2022-04-06T04:59:07.678612Z",
     "shell.execute_reply.started": "2022-04-06T04:58:38.688078Z"
    },
    "papermill": {
     "duration": 1.766183,
     "end_time": "2022-04-06T04:59:07.678944",
     "exception": false,
     "start_time": "2022-04-06T04:59:05.912761",
     "status": "completed"
    },
    "tags": []
   },
   "outputs": [],
   "source": [
    "# Logistic regression\n",
    "from sklearn.linear_model import LogisticRegression\n",
    "Logit = LogisticRegression(C=10000, max_iter=1000,random_state=42, class_weight='balanced', solver = 'lbfgs')\n",
    "l_1 = Logit.fit(trainX, trainY)\n",
    "y_train_pred = Logit.predict(trainX)\n",
    "y_test_pred = Logit.predict(testX)\n",
    "# Logit.score(trainX, trainY)\n"
   ]
  },
  {
   "cell_type": "code",
   "execution_count": 7,
   "id": "6303ebc9",
   "metadata": {
    "execution": {
     "iopub.execute_input": "2022-04-06T04:59:07.738239Z",
     "iopub.status.busy": "2022-04-06T04:59:07.737123Z",
     "iopub.status.idle": "2022-04-06T04:59:07.755130Z",
     "shell.execute_reply": "2022-04-06T04:59:07.756546Z",
     "shell.execute_reply.started": "2022-04-06T04:58:39.175823Z"
    },
    "papermill": {
     "duration": 0.055592,
     "end_time": "2022-04-06T04:59:07.756860",
     "exception": false,
     "start_time": "2022-04-06T04:59:07.701268",
     "status": "completed"
    },
    "tags": []
   },
   "outputs": [
    {
     "name": "stdout",
     "output_type": "stream",
     "text": [
      "0.8045\n"
     ]
    }
   ],
   "source": [
    "#Accuracy score\n",
    "from sklearn.metrics import accuracy_score\n",
    "print(accuracy_score(trainY, y_train_pred))\n",
    "#print(accuracy_score(testY, y_test_pred))"
   ]
  },
  {
   "cell_type": "code",
   "execution_count": 8,
   "id": "20a62dd0",
   "metadata": {
    "execution": {
     "iopub.execute_input": "2022-04-06T04:59:07.805119Z",
     "iopub.status.busy": "2022-04-06T04:59:07.804041Z",
     "iopub.status.idle": "2022-04-06T04:59:07.806992Z",
     "shell.execute_reply": "2022-04-06T04:59:07.806346Z",
     "shell.execute_reply.started": "2022-04-06T04:58:14.426738Z"
    },
    "papermill": {
     "duration": 0.027303,
     "end_time": "2022-04-06T04:59:07.807136",
     "exception": false,
     "start_time": "2022-04-06T04:59:07.779833",
     "status": "completed"
    },
    "tags": []
   },
   "outputs": [],
   "source": [
    "#Confusion matrix\n",
    "from sklearn.metrics import confusion_matrix\n",
    "#print(confusion_matrix(testY))"
   ]
  },
  {
   "cell_type": "code",
   "execution_count": 9,
   "id": "95633669",
   "metadata": {
    "execution": {
     "iopub.execute_input": "2022-04-06T04:59:07.837179Z",
     "iopub.status.busy": "2022-04-06T04:59:07.836108Z",
     "iopub.status.idle": "2022-04-06T04:59:07.849181Z",
     "shell.execute_reply": "2022-04-06T04:59:07.849743Z",
     "shell.execute_reply.started": "2022-04-06T04:58:14.438237Z"
    },
    "papermill": {
     "duration": 0.029676,
     "end_time": "2022-04-06T04:59:07.849921",
     "exception": false,
     "start_time": "2022-04-06T04:59:07.820245",
     "status": "completed"
    },
    "tags": []
   },
   "outputs": [],
   "source": [
    "sample['Category'] = y_test_pred\n",
    "sample.to_csv('submission.csv', index=False)"
   ]
  }
 ],
 "metadata": {
  "kernelspec": {
   "display_name": "Python 3",
   "language": "python",
   "name": "python3"
  },
  "language_info": {
   "codemirror_mode": {
    "name": "ipython",
    "version": 3
   },
   "file_extension": ".py",
   "mimetype": "text/x-python",
   "name": "python",
   "nbconvert_exporter": "python",
   "pygments_lexer": "ipython3",
   "version": "3.7.12"
  },
  "papermill": {
   "default_parameters": {},
   "duration": 13.037299,
   "end_time": "2022-04-06T04:59:08.572852",
   "environment_variables": {},
   "exception": null,
   "input_path": "__notebook__.ipynb",
   "output_path": "__notebook__.ipynb",
   "parameters": {},
   "start_time": "2022-04-06T04:58:55.535553",
   "version": "2.3.3"
  }
 },
 "nbformat": 4,
 "nbformat_minor": 5
}
